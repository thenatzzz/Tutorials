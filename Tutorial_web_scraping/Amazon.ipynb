{
 "cells": [
  {
   "cell_type": "markdown",
   "metadata": {},
   "source": [
    "### Amazon web scraping\n",
    "\n",
    "#### requirements: \n",
    "#1. Selenium\n",
    "#2. BeautifulSoup"
   ]
  },
  {
   "cell_type": "code",
   "execution_count": 37,
   "metadata": {},
   "outputs": [],
   "source": [
    "# !pip install selenium\n",
    "# !pip install BeautifulSoup\n",
    "from bs4 import BeautifulSoup"
   ]
  },
  {
   "cell_type": "code",
   "execution_count": 10,
   "metadata": {},
   "outputs": [],
   "source": [
    "\n",
    "# firefox & chrome\n",
    "from selenium import webdriver\n",
    "\n",
    "# microsoft edge\n",
    "# from msedge.selenium_tools import Edge, EdgeOptions"
   ]
  },
  {
   "cell_type": "code",
   "execution_count": 15,
   "metadata": {},
   "outputs": [],
   "source": [
    "# Startup the webdriver\n",
    "# firefox & chrome\n",
    "driver = webdriver.Chrome(executable_path=r\"D:\\Programs\\chromedriver.exe\")"
   ]
  },
  {
   "cell_type": "code",
   "execution_count": 18,
   "metadata": {},
   "outputs": [],
   "source": [
    "url = 'https://www.amazon.com'\n",
    "driver.get(url)"
   ]
  },
  {
   "cell_type": "code",
   "execution_count": 20,
   "metadata": {},
   "outputs": [],
   "source": [
    "def get_url(search_term):\n",
    "    '''Generate a url from search term'''\n",
    "    template = 'https://www.amazon.com/s?k={}&crid=3HANHGCT8DU6Q&sprefix=ultr%2Caps%2C238&ref=nb_sb_ss_ts-a-p_1_4'\n",
    "    search_term = search_term.replace(' ','+')\n",
    "    return template.format(search_term)"
   ]
  },
  {
   "cell_type": "code",
   "execution_count": 33,
   "metadata": {},
   "outputs": [
    {
     "name": "stdout",
     "output_type": "stream",
     "text": [
      "https://www.amazon.com/s?k=ultrawide+monitor&crid=3HANHGCT8DU6Q&sprefix=ultr%2Caps%2C238&ref=nb_sb_ss_ts-a-p_1_4\n"
     ]
    }
   ],
   "source": [
    "url = get_url('ultrawide monitor')\n",
    "print(url)"
   ]
  },
  {
   "cell_type": "code",
   "execution_count": 60,
   "metadata": {},
   "outputs": [],
   "source": [
    "driver.get(url)"
   ]
  },
  {
   "cell_type": "markdown",
   "metadata": {},
   "source": [
    "#### Extract the collection\n"
   ]
  },
  {
   "cell_type": "code",
   "execution_count": 39,
   "metadata": {},
   "outputs": [],
   "source": [
    "soup = BeautifulSoup(driver.page_source, 'html.parser')"
   ]
  },
  {
   "cell_type": "code",
   "execution_count": 41,
   "metadata": {},
   "outputs": [
    {
     "data": {
      "text/plain": [
       "22"
      ]
     },
     "execution_count": 41,
     "metadata": {},
     "output_type": "execute_result"
    }
   ],
   "source": [
    "results = soup.find_all('div',{'data-component-type':'s-search-result'})\n",
    "len(results)"
   ]
  },
  {
   "cell_type": "markdown",
   "metadata": {},
   "source": [
    "#### Prototype Record"
   ]
  },
  {
   "cell_type": "code",
   "execution_count": 44,
   "metadata": {},
   "outputs": [],
   "source": [
    "item = results[0]"
   ]
  },
  {
   "cell_type": "code",
   "execution_count": 54,
   "metadata": {},
   "outputs": [
    {
     "data": {
      "text/plain": [
       "<a class=\"a-link-normal a-text-normal\" href=\"/gp/slredirect/picassoRedirect.html/ref=pa_sp_atf_aps_sr_pg1_1?ie=UTF8&amp;adId=A06897513SCFNU00XHI0Q&amp;url=%2FLG-34WN650-W-34-Inch-UltraWide-DisplayHDR%2Fdp%2FB087JB656Q%2Fref%3Dsr_1_1_sspa%3Fcrid%3D3HANHGCT8DU6Q%26dchild%3D1%26keywords%3Dultrawide%2Bmonitor%26qid%3D1610172179%26sprefix%3Dultr%252Caps%252C238%26sr%3D8-1-spons%26psc%3D1&amp;qualifier=1610172179&amp;id=6646012076797055&amp;widgetName=sp_atf\">\n",
       "<span class=\"a-size-medium a-color-base a-text-normal\" dir=\"auto\">LG 34WN650-W 34-Inch 21:9 UltraWide Full HD (2560 x 1080) IPS Display with VESA DisplayHDR 400 and AMD FreeSync, Silver</span>\n",
       "</a>"
      ]
     },
     "execution_count": 54,
     "metadata": {},
     "output_type": "execute_result"
    }
   ],
   "source": [
    "atag= item.h2.a\n",
    "atag"
   ]
  },
  {
   "cell_type": "code",
   "execution_count": 53,
   "metadata": {},
   "outputs": [
    {
     "data": {
      "text/plain": [
       "'LG 34WN650-W 34-Inch 21:9 UltraWide Full HD (2560 x 1080) IPS Display with VESA DisplayHDR 400 and AMD FreeSync, Silver'"
      ]
     },
     "execution_count": 53,
     "metadata": {},
     "output_type": "execute_result"
    }
   ],
   "source": [
    "description = atag.text.strip()\n",
    "description"
   ]
  },
  {
   "cell_type": "code",
   "execution_count": 55,
   "metadata": {},
   "outputs": [
    {
     "data": {
      "text/plain": [
       "'https://www.amazon.com/gp/slredirect/picassoRedirect.html/ref=pa_sp_atf_aps_sr_pg1_1?ie=UTF8&adId=A06897513SCFNU00XHI0Q&url=%2FLG-34WN650-W-34-Inch-UltraWide-DisplayHDR%2Fdp%2FB087JB656Q%2Fref%3Dsr_1_1_sspa%3Fcrid%3D3HANHGCT8DU6Q%26dchild%3D1%26keywords%3Dultrawide%2Bmonitor%26qid%3D1610172179%26sprefix%3Dultr%252Caps%252C238%26sr%3D8-1-spons%26psc%3D1&qualifier=1610172179&id=6646012076797055&widgetName=sp_atf'"
      ]
     },
     "execution_count": 55,
     "metadata": {},
     "output_type": "execute_result"
    }
   ],
   "source": [
    "url = 'https://www.amazon.com'+atag.get('href')\n",
    "url"
   ]
  },
  {
   "cell_type": "code",
   "execution_count": 57,
   "metadata": {},
   "outputs": [
    {
     "data": {
      "text/plain": [
       "<span class=\"a-price\" data-a-color=\"base\" data-a-size=\"l\"><span class=\"a-offscreen\">$346.99</span><span aria-hidden=\"true\"><span class=\"a-price-symbol\">$</span><span class=\"a-price-whole\">346<span class=\"a-price-decimal\">.</span></span><span class=\"a-price-fraction\">99</span></span></span>"
      ]
     },
     "execution_count": 57,
     "metadata": {},
     "output_type": "execute_result"
    }
   ],
   "source": [
    "price_parent = item.find('span','a-price')\n",
    "price_parent"
   ]
  },
  {
   "cell_type": "code",
   "execution_count": 76,
   "metadata": {},
   "outputs": [
    {
     "data": {
      "text/plain": [
       "'$346.99'"
      ]
     },
     "execution_count": 76,
     "metadata": {},
     "output_type": "execute_result"
    }
   ],
   "source": [
    "price =price_parent.find('span','a-offscreen').text\n",
    "price"
   ]
  },
  {
   "cell_type": "markdown",
   "metadata": {},
   "source": [
    "rating = item.i.text\n",
    "rating"
   ]
  },
  {
   "cell_type": "code",
   "execution_count": 70,
   "metadata": {},
   "outputs": [
    {
     "data": {
      "text/plain": [
       "'189'"
      ]
     },
     "execution_count": 70,
     "metadata": {},
     "output_type": "execute_result"
    }
   ],
   "source": [
    "review_count = item.find('span',{'class':'a-size-base','dir':'auto'}).text\n",
    "review_count"
   ]
  },
  {
   "cell_type": "markdown",
   "metadata": {},
   "source": [
    "### Generalized the pattern"
   ]
  },
  {
   "cell_type": "code",
   "execution_count": 78,
   "metadata": {},
   "outputs": [],
   "source": [
    "def extract_record(item):\n",
    "    '''Extract and return data from a single record'''\n",
    "    \n",
    "    # description and url\n",
    "    atag= item.h2.a\n",
    "    description = atag.text.strip()\n",
    "    url = 'https://www.amazon.com'+atag.get('href')\n",
    "\n",
    "    # price\n",
    "    price_parent = item.find('span','a-price')\n",
    "    price =price_parent.find('span','a-offscreen').text    \n",
    "    \n",
    "    # rank and rating\n",
    "    rating = item.i.text\n",
    "    review_count = item.find('span',{'class':'a-size-base','dir':'auto'}).text\n",
    "\n",
    "    result = {description,price,rating,review_count,url}\n",
    "    \n",
    "    return result"
   ]
  },
  {
   "cell_type": "code",
   "execution_count": 79,
   "metadata": {},
   "outputs": [
    {
     "ename": "AttributeError",
     "evalue": "'NoneType' object has no attribute 'find'",
     "output_type": "error",
     "traceback": [
      "\u001b[1;31m---------------------------------------------------------------------------\u001b[0m",
      "\u001b[1;31mAttributeError\u001b[0m                            Traceback (most recent call last)",
      "\u001b[1;32m<ipython-input-79-0a9c25f08a55>\u001b[0m in \u001b[0;36m<module>\u001b[1;34m\u001b[0m\n\u001b[0;32m      3\u001b[0m \u001b[1;33m\u001b[0m\u001b[0m\n\u001b[0;32m      4\u001b[0m \u001b[1;32mfor\u001b[0m \u001b[0mitem\u001b[0m \u001b[1;32min\u001b[0m \u001b[0mresults\u001b[0m\u001b[1;33m:\u001b[0m\u001b[1;33m\u001b[0m\u001b[1;33m\u001b[0m\u001b[0m\n\u001b[1;32m----> 5\u001b[1;33m     \u001b[0mrecords\u001b[0m\u001b[1;33m.\u001b[0m\u001b[0mappend\u001b[0m\u001b[1;33m(\u001b[0m\u001b[0mextract_record\u001b[0m\u001b[1;33m(\u001b[0m\u001b[0mitem\u001b[0m\u001b[1;33m)\u001b[0m\u001b[1;33m)\u001b[0m\u001b[1;33m\u001b[0m\u001b[1;33m\u001b[0m\u001b[0m\n\u001b[0m",
      "\u001b[1;32m<ipython-input-78-782cec019c87>\u001b[0m in \u001b[0;36mextract_record\u001b[1;34m(item)\u001b[0m\n\u001b[0;32m      9\u001b[0m     \u001b[1;31m# price\u001b[0m\u001b[1;33m\u001b[0m\u001b[1;33m\u001b[0m\u001b[1;33m\u001b[0m\u001b[0m\n\u001b[0;32m     10\u001b[0m     \u001b[0mprice_parent\u001b[0m \u001b[1;33m=\u001b[0m \u001b[0mitem\u001b[0m\u001b[1;33m.\u001b[0m\u001b[0mfind\u001b[0m\u001b[1;33m(\u001b[0m\u001b[1;34m'span'\u001b[0m\u001b[1;33m,\u001b[0m\u001b[1;34m'a-price'\u001b[0m\u001b[1;33m)\u001b[0m\u001b[1;33m\u001b[0m\u001b[1;33m\u001b[0m\u001b[0m\n\u001b[1;32m---> 11\u001b[1;33m     \u001b[0mprice\u001b[0m \u001b[1;33m=\u001b[0m\u001b[0mprice_parent\u001b[0m\u001b[1;33m.\u001b[0m\u001b[0mfind\u001b[0m\u001b[1;33m(\u001b[0m\u001b[1;34m'span'\u001b[0m\u001b[1;33m,\u001b[0m\u001b[1;34m'a-offscreen'\u001b[0m\u001b[1;33m)\u001b[0m\u001b[1;33m.\u001b[0m\u001b[0mtext\u001b[0m\u001b[1;33m\u001b[0m\u001b[1;33m\u001b[0m\u001b[0m\n\u001b[0m\u001b[0;32m     12\u001b[0m \u001b[1;33m\u001b[0m\u001b[0m\n\u001b[0;32m     13\u001b[0m     \u001b[1;31m# rank and rating\u001b[0m\u001b[1;33m\u001b[0m\u001b[1;33m\u001b[0m\u001b[1;33m\u001b[0m\u001b[0m\n",
      "\u001b[1;31mAttributeError\u001b[0m: 'NoneType' object has no attribute 'find'"
     ]
    }
   ],
   "source": [
    "records = []\n",
    "results = soup.find_all('div',{'data-component-type':'s-search-result'})\n",
    "\n",
    "for item in results:\n",
    "    records.append(extract_record(item))"
   ]
  },
  {
   "cell_type": "markdown",
   "metadata": {},
   "source": [
    "### Error handling"
   ]
  },
  {
   "cell_type": "code",
   "execution_count": 84,
   "metadata": {},
   "outputs": [],
   "source": [
    "def extract_record(item):\n",
    "    '''Extract and return data from a single record'''\n",
    "    \n",
    "    # description and url\n",
    "    atag= item.h2.a\n",
    "    description = atag.text.strip()\n",
    "    url = 'https://www.amazon.com'+atag.get('href')\n",
    "    \n",
    "    # price\n",
    "    try:\n",
    "        price_parent = item.find('span','a-price')\n",
    "        price =price_parent.find('span','a-offscreen').text    \n",
    "    except AttributeError:\n",
    "        return\n",
    "    \n",
    "    # rank and rating\n",
    "    try:\n",
    "        rating = item.i.text\n",
    "        review_count = item.find('span',{'class':'a-size-base','dir':'auto'}).text\n",
    "    except AttributeError:\n",
    "        rating = ''\n",
    "        review_count = ''\n",
    "        \n",
    "    result = (description,price,rating,review_count,url)\n",
    "    \n",
    "    return result"
   ]
  },
  {
   "cell_type": "code",
   "execution_count": 85,
   "metadata": {},
   "outputs": [],
   "source": [
    "records = []\n",
    "results = soup.find_all('div',{'data-component-type':'s-search-result'})\n",
    "\n",
    "for item in results:\n",
    "    record = extract_record(item)\n",
    "    # check if empty\n",
    "    if record:\n",
    "        records.append(record)\n"
   ]
  },
  {
   "cell_type": "code",
   "execution_count": 93,
   "metadata": {},
   "outputs": [
    {
     "data": {
      "text/plain": [
       "{'$226.99',\n",
       " '4.6 out of 5 stars',\n",
       " '847',\n",
       " 'LG 29WN600-W 29\" 21:9 UltraWide WFHD IPS HDR1 0 Monitor with FreeSync, Silver',\n",
       " 'https://www.amazon.com/LG-29WN600-W-29-21-UltraWide/dp/B0876DBCBX/ref=sr_1_2?crid=3HANHGCT8DU6Q&dchild=1&keywords=ultrawide+monitor&qid=1610172179&sprefix=ultr%2Caps%2C238&sr=8-2'}"
      ]
     },
     "execution_count": 93,
     "metadata": {},
     "output_type": "execute_result"
    }
   ],
   "source": [
    "records[1]"
   ]
  },
  {
   "cell_type": "code",
   "execution_count": 97,
   "metadata": {},
   "outputs": [
    {
     "name": "stdout",
     "output_type": "stream",
     "text": [
      "{'189', 'https://www.amazon.com/gp/slredirect/picassoRedirect.html/ref=pa_sp_atf_aps_sr_pg1_1?ie=UTF8&adId=A06897513SCFNU00XHI0Q&url=%2FLG-34WN650-W-34-Inch-UltraWide-DisplayHDR%2Fdp%2FB087JB656Q%2Fref%3Dsr_1_1_sspa%3Fcrid%3D3HANHGCT8DU6Q%26dchild%3D1%26keywords%3Dultrawide%2Bmonitor%26qid%3D1610172179%26sprefix%3Dultr%252Caps%252C238%26sr%3D8-1-spons%26psc%3D1&qualifier=1610172179&id=6646012076797055&widgetName=sp_atf', '$346.99', '4.6 out of 5 stars', 'LG 34WN650-W 34-Inch 21:9 UltraWide Full HD (2560 x 1080) IPS Display with VESA DisplayHDR 400 and AMD FreeSync, Silver'}\n",
      "{'847', 'LG 29WN600-W 29\" 21:9 UltraWide WFHD IPS HDR1 0 Monitor with FreeSync, Silver', 'https://www.amazon.com/LG-29WN600-W-29-21-UltraWide/dp/B0876DBCBX/ref=sr_1_2?crid=3HANHGCT8DU6Q&dchild=1&keywords=ultrawide+monitor&qid=1610172179&sprefix=ultr%2Caps%2C238&sr=8-2', '4.6 out of 5 stars', '$226.99'}\n",
      "{'Sceptre 35 Inch Curved UltraWide 21: 9 LED Creative Monitor QHD 3440x1440 Frameless AMD Freesync HDMI DisplayPort Up to 100Hz, Machine Black 2020 (C355W-3440UN)', '$379.97', 'https://www.amazon.com/Sceptre-C355W-3440UN-Super-Curved-Ultrawide/dp/B0812DKDD9/ref=sr_1_3?crid=3HANHGCT8DU6Q&dchild=1&keywords=ultrawide+monitor&qid=1610172179&sprefix=ultr%2Caps%2C238&sr=8-3', '1,311', '4.5 out of 5 stars'}\n",
      "{'4.7 out of 5 stars', 'https://www.amazon.com/LG-34WN80C-B-inch-Connectivity-Compatibility/dp/B07YGZ7C1K/ref=sr_1_4?crid=3HANHGCT8DU6Q&dchild=1&keywords=ultrawide+monitor&qid=1610172179&sprefix=ultr%2Caps%2C238&sr=8-4', 'LG 34WN80C-B 34 inch 21:9 Curved UltraWide WQHD IPS Monitor with USB Type-C Connectivity sRGB 99 percentage Color Gamut and HDR10 Compatibility, Black', '1,873', '$549.99'}\n",
      "{'700', '4.6 out of 5 stars', 'https://www.amazon.com/LG-34WK650-W-34-UltraWide-21/dp/B078GSH1LV/ref=sr_1_5?crid=3HANHGCT8DU6Q&dchild=1&keywords=ultrawide+monitor&qid=1610172179&sprefix=ultr%2Caps%2C238&sr=8-5', 'LG 34WK650-W 34\" UltraWide 21:9 IPS Monitor with HDR10 and FreeSync (2018), Black/White', '$395.26'}\n",
      "{'4.4 out of 5 stars', '$87.99', '1,685', 'viozon Monitor and Laptop Mount, 2-in-1 Adjustable Dual Arm Desk Mounts Single Desk Arm Stand/Holder for 17 to 32 Inch LCD Computer Screens, Extra Tray Fits 12 to 17 inch Laptops (Silver)', 'https://www.amazon.com/gp/slredirect/picassoRedirect.html/ref=pa_sp_mtf_aps_sr_pg1_1?ie=UTF8&adId=A05381511SJ48C0WGXO93&url=%2FMonitor-Adjustable-Mounts%25EF%25BC%258CSingle-Computer-Screens%2Fdp%2FB07LFWPRG5%2Fref%3Dsr_1_6_sspa%3Fcrid%3D3HANHGCT8DU6Q%26dchild%3D1%26keywords%3Dultrawide%2Bmonitor%26qid%3D1610172179%26sprefix%3Dultr%252Caps%252C238%26sr%3D8-6-spons%26psc%3D1&qualifier=1610172179&id=6646012076797055&widgetName=sp_mtf'}\n",
      "{'621', 'https://www.amazon.com/Samsung-CJ791-Thunderbolt-Curved-Monitor/dp/B07CS3JB5K/ref=sr_1_7?crid=3HANHGCT8DU6Q&dchild=1&keywords=ultrawide+monitor&qid=1610172179&sprefix=ultr%2Caps%2C238&sr=8-7', 'SAMSUNG LC34J791WTNXZA 34-Inch CJ791 Ultrawide Curved Gaming Monitor, White', '$679.99', '4.5 out of 5 stars'}\n",
      "{'3,048', '4.4 out of 5 stars', 'LG 25UM58-P 25-Inch UltraWide Full HD (2560 x 1080) IPS Display', '$149.99', 'https://www.amazon.com/LG-25UM58-P-25-Inch-21-UltraWide/dp/B01BV1XB2K/ref=sr_1_8?crid=3HANHGCT8DU6Q&dchild=1&keywords=ultrawide+monitor&qid=1610172179&sprefix=ultr%2Caps%2C238&sr=8-8'}\n",
      "{'385', 'https://www.amazon.com/Samsung-Business-3440x1440-Ultrawide-LC34H890WGNXGO/dp/B08623SZH9/ref=sr_1_10?crid=3HANHGCT8DU6Q&dchild=1&keywords=ultrawide+monitor&qid=1610172179&sprefix=ultr%2Caps%2C238&sr=8-10', '$598.15', 'Samsung Business CH890 Series 34 inch WQHD 3440x1440 Ultrawide Curved Desktop Monitor for Business, 100 Hz, USB-C, HDMI, DP, 3 Year Warranty (LC34H890WGNXGO), Black/Titanium', '4.5 out of 5 stars'}\n",
      "{'4.8 out of 5 stars', 'https://www.amazon.com/gp/slredirect/picassoRedirect.html/ref=pa_sp_mtf_aps_sr_pg1_1?ie=UTF8&adId=A0953285EQ009A0E1NJ5&url=%2FPortable-Monitor-InnoView-Upgraded-Ultra-Slim%2Fdp%2FB08GP2F1C3%2Fref%3Dsr_1_11_sspa%3Fcrid%3D3HANHGCT8DU6Q%26dchild%3D1%26keywords%3Dultrawide%2Bmonitor%26qid%3D1610172179%26sprefix%3Dultr%252Caps%252C238%26sr%3D8-11-spons%26psc%3D1&qualifier=1610172179&id=6646012076797055&widgetName=sp_mtf', '$208.99', 'Portable Monitor- InnoView 2020 Upgraded 15.6\" IPS FHD 1080P USB-C×2 Laptop Monitor, Ultra-Slim Second Screen with Eye Care, Gaming Monitor for Android/iPhone Mac Laptop PS4 Xbox', '90'}\n",
      "{'Sceptre 30-inch Curved Gaming Monitor 21:9 2560x1080 Ultra Wide Ultra Slim HDMI DisplayPort up to 200Hz Build-in Speakers, Metal Black (C305B-200UN)', '4.6 out of 5 stars', '$278.99', '4,988', 'https://www.amazon.com/Sceptre-30-inch-Curved-Gaming-Monitor/dp/B07TXM7K4T/ref=sr_1_13?crid=3HANHGCT8DU6Q&dchild=1&keywords=ultrawide+monitor&qid=1610172179&sprefix=ultr%2Caps%2C238&sr=8-13'}\n",
      "{'Sceptre 34-inch Curved UltraWide 21: 9 Creative LED Monitor 2560x1080 Frameless HDMI DisplayPort Up to 100Hz, Machine Black 2020 (C345W-2560UN)', '628', '4.6 out of 5 stars', 'https://www.amazon.com/Sceptre-C345W-2560UN-34-inch-Curved-Ultrawide/dp/B0812DHWCJ/ref=sr_1_14?crid=3HANHGCT8DU6Q&dchild=1&keywords=ultrawide+monitor&qid=1610172179&sprefix=ultr%2Caps%2C238&sr=8-14', '$349.97'}\n",
      "{'$249.99', '4k Portable Monitor, Gaming Monitor for Xbox One PS3/4/5 Switch, 13.3\" USB C Monitor for Smartphones, Ultra HD 3840 x 2160 Laptop Travel External Screen with Dual Speakers & Portrait Mode', '30', 'https://www.amazon.com/gp/slredirect/picassoRedirect.html/ref=pa_sp_mtf_aps_sr_pg1_1?ie=UTF8&adId=A067125133WJTKSY29CQG&url=%2FPortable-Smartphones-External-Speakers-Portrait%2Fdp%2FB08JBY68CK%2Fref%3Dsr_1_16_sspa%3Fcrid%3D3HANHGCT8DU6Q%26dchild%3D1%26keywords%3Dultrawide%2Bmonitor%26qid%3D1610172179%26sprefix%3Dultr%252Caps%252C238%26sr%3D8-16-spons%26psc%3D1&qualifier=1610172179&id=6646012076797055&widgetName=sp_mtf', '4.5 out of 5 stars'}\n",
      "{'189', '$346.99', '4.6 out of 5 stars', 'https://www.amazon.com/LG-34WN650-W-34-Inch-UltraWide-DisplayHDR/dp/B087JB656Q/ref=sr_1_17?crid=3HANHGCT8DU6Q&dchild=1&keywords=ultrawide+monitor&qid=1610172179&sprefix=ultr%2Caps%2C238&sr=8-17', 'LG 34WN650-W 34-Inch 21:9 UltraWide Full HD (2560 x 1080) IPS Display with VESA DisplayHDR 400 and AMD FreeSync, Silver'}\n",
      "{'946', 'LG 34UM69G-B 34-Inch 21:9 UltraWide IPS Monitor with 1ms Motion Blur Reduction and FreeSync,Black', '4.6 out of 5 stars', 'https://www.amazon.com/LG-34UM69G-B-34-Inch-UltraWide-Reduction/dp/B06XFXX5JH/ref=sr_1_18?crid=3HANHGCT8DU6Q&dchild=1&keywords=ultrawide+monitor&qid=1610172179&sprefix=ultr%2Caps%2C238&sr=8-18', '$346.99'}\n",
      "{'4.7 out of 5 stars', 'LG 27UL500-W 27-Inch UHD (3840 x 2160) IPS Monitor with Radeon Freesync Technology and HDR10, White', '1,250', 'https://www.amazon.com/gp/slredirect/picassoRedirect.html/ref=pa_sp_btf_aps_sr_pg1_1?ie=UTF8&adId=A05424092IYME2ARF24Y1&url=%2FLG-27UL500-W-27-Inch-Freesync-Technology%2Fdp%2FB07PGL2WVS%2Fref%3Dsr_1_21_sspa%3Fcrid%3D3HANHGCT8DU6Q%26dchild%3D1%26keywords%3Dultrawide%2Bmonitor%26qid%3D1610172179%26sprefix%3Dultr%252Caps%252C238%26sr%3D8-21-spons%26psc%3D1&qualifier=1610172179&id=6646012076797055&widgetName=sp_btf', '$349.99'}\n",
      "{'10', 'https://www.amazon.com/gp/slredirect/picassoRedirect.html/ref=pa_sp_btf_aps_sr_pg1_1?ie=UTF8&adId=A068352625Y3BNKSLOP36&url=%2FPortable-Monitor-External-Computer-freesync%2Fdp%2FB08L8RSG6F%2Fref%3Dsr_1_22_sspa%3Fcrid%3D3HANHGCT8DU6Q%26dchild%3D1%26keywords%3Dultrawide%2Bmonitor%26qid%3D1610172179%26sprefix%3Dultr%252Caps%252C238%26sr%3D8-22-spons%26psc%3D1&qualifier=1610172179&id=6646012076797055&widgetName=sp_btf', '4.4 out of 5 stars', '$299.99', '4K Portable Monitor,15.6 inch USB C External Monitor Gaming Display Portable Monitor 3840 x 2160 UHD Computer Monitor with Dual Type-C Mini HDMI freesync VESA for Laptop PC Phone MAC Surface Xbox PS4'}\n"
     ]
    }
   ],
   "source": [
    "for row in records:\n",
    "    print(row)"
   ]
  },
  {
   "cell_type": "markdown",
   "metadata": {},
   "source": [
    "### Getting the next page"
   ]
  },
  {
   "cell_type": "code",
   "execution_count": 98,
   "metadata": {},
   "outputs": [],
   "source": [
    "def get_url(search_term):\n",
    "    '''Generate a url from search term'''\n",
    "    template = 'https://www.amazon.com/s?k={}&crid=3HANHGCT8DU6Q&sprefix=ultr%2Caps%2C238&ref=nb_sb_ss_ts-a-p_1_4'\n",
    "    search_term = search_term.replace(' ','+')\n",
    "   \n",
    "    # add term query to url\n",
    "    url = template.format(search_term)\n",
    "    \n",
    "    # add page query placeholder\n",
    "    url += '&page{}'\n",
    "    return url"
   ]
  },
  {
   "cell_type": "markdown",
   "metadata": {},
   "source": [
    "### Putting it all together\n"
   ]
  },
  {
   "cell_type": "code",
   "execution_count": 115,
   "metadata": {},
   "outputs": [],
   "source": [
    "import csv\n",
    "from bs4 import BeautifulSoup\n",
    "from selenium import webdriver\n",
    "\n",
    "\n",
    "def get_url(search_term):\n",
    "    '''Generate a url from search term'''\n",
    "    template = 'https://www.amazon.com/s?k={}&crid=3HANHGCT8DU6Q&sprefix=ultr%2Caps%2C238&ref=nb_sb_ss_ts-a-p_1_4'\n",
    "    search_term = search_term.replace(' ','+')\n",
    "   \n",
    "    # add term query to url\n",
    "    url = template.format(search_term)\n",
    "    \n",
    "    # add page query placeholder\n",
    "    url += '&page{}'\n",
    "    return url\n",
    "\n",
    "def extract_record(item):\n",
    "    '''Extract and return data from a single record'''\n",
    "    \n",
    "    # description and url\n",
    "    atag= item.h2.a\n",
    "    description = atag.text.strip()\n",
    "    url = 'https://www.amazon.com'+atag.get('href')\n",
    "    \n",
    "    # price\n",
    "    try:\n",
    "        price_parent = item.find('span','a-price')\n",
    "        price =price_parent.find('span','a-offscreen').text    \n",
    "    except AttributeError:\n",
    "        return\n",
    "    \n",
    "    # rank and rating\n",
    "    try:\n",
    "        rating = item.i.text\n",
    "        review_count = item.find('span',{'class':'a-size-base','dir':'auto'}).text\n",
    "    except AttributeError:\n",
    "        rating = ''\n",
    "        review_count = ''\n",
    "        \n",
    "    result = (description,price,rating,review_count,url)\n",
    "    \n",
    "    return result\n",
    "\n",
    "\n",
    "def main(search_term):\n",
    "    '''Run main program routine'''\n",
    "    driver = webdriver.Chrome(executable_path=r\"D:\\Programs\\chromedriver.exe\")    \n",
    "    \n",
    "    records = []\n",
    "    url = get_url(search_term)\n",
    "    \n",
    "    for page in range(1,14):\n",
    "        driver.get(url.format(page))\n",
    "        soup = BeautifulSoup(driver.page_source, 'html.parser')\n",
    "        results = soup.find_all('div',{'data-component-type':'s-search-result'})\n",
    "        \n",
    "        \n",
    "        for item in results:\n",
    "            record = extract_record(item)\n",
    "            print(record)\n",
    "            if record:\n",
    "                records.append(record)\n",
    "    driver.close()\n",
    "    \n",
    "    \n",
    "    ## save data to csv file\n",
    "    with open('results.csv','w',newline='', encoding='utf-8') as f:\n",
    "        writer = csv.writer(f)\n",
    "        writer.writerow(['Description','Price','Rating','ReviewCount','Url'])\n",
    "        writer.writerows(records)\n",
    "    \n",
    "    "
   ]
  },
  {
   "cell_type": "code",
   "execution_count": 116,
   "metadata": {
    "scrolled": false
   },
   "outputs": [
    {
     "name": "stdout",
     "output_type": "stream",
     "text": [
      "('LG 34WL60TM-B 34 Inch 21:9 UltraWide 1080p Full HD IPS Monitor (Renewed)', '$279.99', '4.5 out of 5 stars', '30', 'https://www.amazon.com/gp/slredirect/picassoRedirect.html/ref=pa_sp_atf_aps_sr_pg1_1?ie=UTF8&adId=A02574201I7UKDWD8KI3C&url=%2FLG-34WL60TM-B-34-Inch-UltraWide%2Fdp%2FB084G7ZDGD%2Fref%3Dsr_1_1_sspa%3Fcrid%3D3HANHGCT8DU6Q%26dchild%3D1%26keywords%3Dultrawide%2Bmonitor%26qid%3D1610183684%26sprefix%3Dultr%252Caps%252C238%26sr%3D8-1-spons%26psc%3D1%26smid%3DAD0BANCB0IN2U&qualifier=1610183684&id=581323281687812&widgetName=sp_atf')\n",
      "('SAMSUNG LU32R590CWNXZA 32-Inch UR590C UHD 4K Curved Gaming Monitor, Dark Blue Gray', '$419.99', '4.5 out of 5 stars', '693', 'https://www.amazon.com/gp/slredirect/picassoRedirect.html/ref=pa_sp_atf_aps_sr_pg1_1?ie=UTF8&adId=A0359020268NI7NFZOLPF&url=%2FSamsung-U32R590-Curved-Monitor-LU32R590CWNXZA%2Fdp%2FB07L9G1BFX%2Fref%3Dsr_1_2_sspa%3Fcrid%3D3HANHGCT8DU6Q%26dchild%3D1%26keywords%3Dultrawide%2Bmonitor%26qid%3D1610183684%26sprefix%3Dultr%252Caps%252C238%26sr%3D8-2-spons%26psc%3D1&qualifier=1610183684&id=581323281687812&widgetName=sp_atf')\n",
      "('LG 29WN600-W 29\" 21:9 UltraWide WFHD IPS HDR1 0 Monitor with FreeSync, Silver', '$226.99', '4.6 out of 5 stars', '847', 'https://www.amazon.com/LG-29WN600-W-29-21-UltraWide/dp/B0876DBCBX/ref=sr_1_3?crid=3HANHGCT8DU6Q&dchild=1&keywords=ultrawide+monitor&qid=1610183684&sprefix=ultr%2Caps%2C238&sr=8-3')\n",
      "('Sceptre 35 Inch Curved UltraWide 21: 9 LED Creative Monitor QHD 3440x1440 Frameless AMD Freesync HDMI DisplayPort Up to 100Hz, Machine Black 2020 (C355W-3440UN)', '$379.97', '4.5 out of 5 stars', '1,311', 'https://www.amazon.com/Sceptre-C355W-3440UN-Super-Curved-Ultrawide/dp/B0812DKDD9/ref=sr_1_4?crid=3HANHGCT8DU6Q&dchild=1&keywords=ultrawide+monitor&qid=1610183684&sprefix=ultr%2Caps%2C238&sr=8-4')\n",
      "('LG 34WN80C-B 34 inch 21:9 Curved UltraWide WQHD IPS Monitor with USB Type-C Connectivity sRGB 99 percentage Color Gamut and HDR10 Compatibility, Black', '$549.99', '4.7 out of 5 stars', '1,873', 'https://www.amazon.com/LG-34WN80C-B-inch-Connectivity-Compatibility/dp/B07YGZ7C1K/ref=sr_1_5?crid=3HANHGCT8DU6Q&dchild=1&keywords=ultrawide+monitor&qid=1610183684&sprefix=ultr%2Caps%2C238&sr=8-5')\n",
      "('LG 34WK650-W 34\" UltraWide 21:9 IPS Monitor with HDR10 and FreeSync (2018), Black/White', '$395.26', '4.6 out of 5 stars', '700', 'https://www.amazon.com/LG-34WK650-W-34-UltraWide-21/dp/B078GSH1LV/ref=sr_1_6?crid=3HANHGCT8DU6Q&dchild=1&keywords=ultrawide+monitor&qid=1610183684&sprefix=ultr%2Caps%2C238&sr=8-6')\n",
      "('Samsung 32 inch UJ59 4k monitor (LU32J590UQNXZA) - UHD, 3840 x 2160p, 60hz, 4ms, Dual monitor, laptop monitor, monitor stand / riser / mount compliant, AMD FreeSync, Gaming, HDMI, DP, Black', '$319.99', '4.4 out of 5 stars', '661', 'https://www.amazon.com/gp/slredirect/picassoRedirect.html/ref=pa_sp_mtf_aps_sr_pg1_1?ie=UTF8&adId=A03488281O65SWLZBVVL6&url=%2FSamsung-U32J590-32-Inch-LED-Lit-Monitor%2Fdp%2FB07CS3JGPC%2Fref%3Dsr_1_7_sspa%3Fcrid%3D3HANHGCT8DU6Q%26dchild%3D1%26keywords%3Dultrawide%2Bmonitor%26qid%3D1610183684%26sprefix%3Dultr%252Caps%252C238%26sr%3D8-7-spons%26psc%3D1&qualifier=1610183684&id=581323281687812&widgetName=sp_mtf')\n",
      "('SAMSUNG LC34J791WTNXZA 34-Inch CJ791 Ultrawide Curved Gaming Monitor, White', '$679.99', '4.5 out of 5 stars', '621', 'https://www.amazon.com/Samsung-CJ791-Thunderbolt-Curved-Monitor/dp/B07CS3JB5K/ref=sr_1_8?crid=3HANHGCT8DU6Q&dchild=1&keywords=ultrawide+monitor&qid=1610183684&sprefix=ultr%2Caps%2C238&sr=8-8')\n",
      "('Samsung Business CH890 Series 34 inch WQHD 3440x1440 Ultrawide Curved Desktop Monitor for Business, 100 Hz, USB-C, HDMI, DP, 3 Year Warranty (LC34H890WGNXGO), Black/Titanium', '$598.46', '4.5 out of 5 stars', '385', 'https://www.amazon.com/Samsung-Business-3440x1440-Ultrawide-LC34H890WGNXGO/dp/B08623SZH9/ref=sr_1_9?crid=3HANHGCT8DU6Q&dchild=1&keywords=ultrawide+monitor&qid=1610183684&sprefix=ultr%2Caps%2C238&sr=8-9')\n",
      "None\n",
      "('Sceptre 30-inch Curved Gaming Monitor 21:9 2560x1080 Ultra Wide Ultra Slim HDMI DisplayPort up to 200Hz Build-in Speakers, Metal Black (C305B-200UN)', '$278.99', '4.6 out of 5 stars', '4,989', 'https://www.amazon.com/Sceptre-30-inch-Curved-Gaming-Monitor/dp/B07TXM7K4T/ref=sr_1_11?crid=3HANHGCT8DU6Q&dchild=1&keywords=ultrawide+monitor&qid=1610183684&sprefix=ultr%2Caps%2C238&sr=8-11')\n",
      "('Samsung C27HG70 27\" HDR QLED 144Hz 1ms Curved Gaming Monitor with FreeSync (C27HG70QQN)', '$599.99', '4.3 out of 5 stars', '1,292', 'https://www.amazon.com/gp/slredirect/picassoRedirect.html/ref=pa_sp_mtf_aps_sr_pg1_1?ie=UTF8&adId=A0004081P6NKFEC4DPG7&url=%2FSamsung-C27HG70-27-Inch-Monitor-C27HG70QQN%2Fdp%2FB06XSQ5QN8%2Fref%3Dsr_1_12_sspa%3Fcrid%3D3HANHGCT8DU6Q%26dchild%3D1%26keywords%3Dultrawide%2Bmonitor%26qid%3D1610183684%26sprefix%3Dultr%252Caps%252C238%26sr%3D8-12-spons%26psc%3D1&qualifier=1610183684&id=581323281687812&widgetName=sp_mtf')\n",
      "('LG 25UM58-P 25-Inch UltraWide Full HD (2560 x 1080) IPS Display', '$149.99', '4.4 out of 5 stars', '3,048', 'https://www.amazon.com/LG-25UM58-P-25-Inch-21-UltraWide/dp/B01BV1XB2K/ref=sr_1_13?crid=3HANHGCT8DU6Q&dchild=1&keywords=ultrawide+monitor&qid=1610183684&sprefix=ultr%2Caps%2C238&sr=8-13')\n",
      "('Sceptre 34-inch Curved UltraWide 21: 9 Creative LED Monitor 2560x1080 Frameless HDMI DisplayPort Up to 100Hz, Machine Black 2020 (C345W-2560UN)', '$349.97', '4.6 out of 5 stars', '628', 'https://www.amazon.com/Sceptre-C345W-2560UN-34-inch-Curved-Ultrawide/dp/B0812DHWCJ/ref=sr_1_14?crid=3HANHGCT8DU6Q&dchild=1&keywords=ultrawide+monitor&qid=1610183684&sprefix=ultr%2Caps%2C238&sr=8-14')\n",
      "None\n",
      "None\n",
      "('LG 34WN650-W 34-Inch 21:9 UltraWide Full HD (2560 x 1080) IPS Display with VESA DisplayHDR 400 and AMD FreeSync, Silver', '$346.99', '4.6 out of 5 stars', '189', 'https://www.amazon.com/gp/slredirect/picassoRedirect.html/ref=pa_sp_mtf_aps_sr_pg1_1?ie=UTF8&adId=A04179123N42D9IL2GDFG&url=%2FLG-34WN650-W-34-Inch-UltraWide-DisplayHDR%2Fdp%2FB087JB656Q%2Fref%3Dsr_1_17_sspa%3Fcrid%3D3HANHGCT8DU6Q%26dchild%3D1%26keywords%3Dultrawide%2Bmonitor%26qid%3D1610183684%26sprefix%3Dultr%252Caps%252C238%26sr%3D8-17-spons%26psc%3D1&qualifier=1610183684&id=581323281687812&widgetName=sp_mtf')\n",
      "('LG 34WN650-W 34-Inch 21:9 UltraWide Full HD (2560 x 1080) IPS Display with VESA DisplayHDR 400 and AMD FreeSync, Silver', '$346.99', '4.6 out of 5 stars', '189', 'https://www.amazon.com/LG-34WN650-W-34-Inch-UltraWide-DisplayHDR/dp/B087JB656Q/ref=sr_1_18?crid=3HANHGCT8DU6Q&dchild=1&keywords=ultrawide+monitor&qid=1610183684&sprefix=ultr%2Caps%2C238&sr=8-18')\n",
      "('LG 34UM69G-B 34-Inch 21:9 UltraWide IPS Monitor with 1ms Motion Blur Reduction and FreeSync,Black', '$346.99', '4.6 out of 5 stars', '946', 'https://www.amazon.com/LG-34UM69G-B-34-Inch-UltraWide-Reduction/dp/B06XFXX5JH/ref=sr_1_19?crid=3HANHGCT8DU6Q&dchild=1&keywords=ultrawide+monitor&qid=1610183684&sprefix=ultr%2Caps%2C238&sr=8-19')\n",
      "None\n",
      "('LG 34\" UltraWide IPS FreeSync LED Monitor 2560 x 1080 21:9 34WL600-B', '$325.00', '4.6 out of 5 stars', '137', 'https://www.amazon.com/LG-UltraWide-FreeSync-Monitor-2560/dp/B07YRXF62V/ref=sr_1_21?crid=3HANHGCT8DU6Q&dchild=1&keywords=ultrawide+monitor&qid=1610183684&sprefix=ultr%2Caps%2C238&sr=8-21')\n",
      "('Samsung Business TU87F 32 inch 4K UHD 3840x2160 60Hz Computer Monitor for Business with Thunderbolt 3, DisplayPort, USB Hub, 3-Yr WRNTY (F32TU872VN)', '$499.99', '3.7 out of 5 stars', '21', 'https://www.amazon.com/gp/slredirect/picassoRedirect.html/ref=pa_sp_btf_aps_sr_pg1_1?ie=UTF8&adId=A09666233H8VPUUS7DYVG&url=%2FSamsung-Business-Thunderbolt-DisplayPort-F32TU872VN%2Fdp%2FB08CLSPKJG%2Fref%3Dsr_1_22_sspa%3Fcrid%3D3HANHGCT8DU6Q%26dchild%3D1%26keywords%3Dultrawide%2Bmonitor%26qid%3D1610183684%26sprefix%3Dultr%252Caps%252C238%26sr%3D8-22-spons%26psc%3D1&qualifier=1610183684&id=581323281687812&widgetName=sp_btf')\n",
      "('LG 34WL60TM-B 34 Inch 21:9 UltraWide 1080p Full HD IPS Monitor (Renewed)', '$279.99', '4.5 out of 5 stars', '30', 'https://www.amazon.com/gp/slredirect/picassoRedirect.html/ref=pa_sp_atf_aps_sr_pg1_1?ie=UTF8&adId=A02574201I7UKDWD8KI3C&url=%2FLG-34WL60TM-B-34-Inch-UltraWide%2Fdp%2FB084G7ZDGD%2Fref%3Dsr_1_1_sspa%3Fcrid%3D3HANHGCT8DU6Q%26dchild%3D1%26keywords%3Dultrawide%2Bmonitor%26qid%3D1610183688%26sprefix%3Dultr%252Caps%252C238%26sr%3D8-1-spons%26psc%3D1%26smid%3DAD0BANCB0IN2U&qualifier=1610183688&id=4180716012084987&widgetName=sp_atf')\n",
      "('SAMSUNG LU32R590CWNXZA 32-Inch UR590C UHD 4K Curved Gaming Monitor, Dark Blue Gray', '$419.99', '4.5 out of 5 stars', '693', 'https://www.amazon.com/gp/slredirect/picassoRedirect.html/ref=pa_sp_atf_aps_sr_pg1_1?ie=UTF8&adId=A0359020268NI7NFZOLPF&url=%2FSamsung-U32R590-Curved-Monitor-LU32R590CWNXZA%2Fdp%2FB07L9G1BFX%2Fref%3Dsr_1_2_sspa%3Fcrid%3D3HANHGCT8DU6Q%26dchild%3D1%26keywords%3Dultrawide%2Bmonitor%26qid%3D1610183688%26sprefix%3Dultr%252Caps%252C238%26sr%3D8-2-spons%26psc%3D1&qualifier=1610183688&id=4180716012084987&widgetName=sp_atf')\n",
      "('LG 29WN600-W 29\" 21:9 UltraWide WFHD IPS HDR1 0 Monitor with FreeSync, Silver', '$226.99', '4.6 out of 5 stars', '847', 'https://www.amazon.com/LG-29WN600-W-29-21-UltraWide/dp/B0876DBCBX/ref=sr_1_3?crid=3HANHGCT8DU6Q&dchild=1&keywords=ultrawide+monitor&qid=1610183688&sprefix=ultr%2Caps%2C238&sr=8-3')\n",
      "('Sceptre 35 Inch Curved UltraWide 21: 9 LED Creative Monitor QHD 3440x1440 Frameless AMD Freesync HDMI DisplayPort Up to 100Hz, Machine Black 2020 (C355W-3440UN)', '$379.97', '4.5 out of 5 stars', '1,311', 'https://www.amazon.com/Sceptre-C355W-3440UN-Super-Curved-Ultrawide/dp/B0812DKDD9/ref=sr_1_4?crid=3HANHGCT8DU6Q&dchild=1&keywords=ultrawide+monitor&qid=1610183688&sprefix=ultr%2Caps%2C238&sr=8-4')\n",
      "('LG 34WN80C-B 34 inch 21:9 Curved UltraWide WQHD IPS Monitor with USB Type-C Connectivity sRGB 99 percentage Color Gamut and HDR10 Compatibility, Black', '$549.99', '4.7 out of 5 stars', '1,873', 'https://www.amazon.com/LG-34WN80C-B-inch-Connectivity-Compatibility/dp/B07YGZ7C1K/ref=sr_1_5?crid=3HANHGCT8DU6Q&dchild=1&keywords=ultrawide+monitor&qid=1610183688&sprefix=ultr%2Caps%2C238&sr=8-5')\n",
      "('LG 34WK650-W 34\" UltraWide 21:9 IPS Monitor with HDR10 and FreeSync (2018), Black/White', '$395.26', '4.6 out of 5 stars', '700', 'https://www.amazon.com/LG-34WK650-W-34-UltraWide-21/dp/B078GSH1LV/ref=sr_1_6?crid=3HANHGCT8DU6Q&dchild=1&keywords=ultrawide+monitor&qid=1610183688&sprefix=ultr%2Caps%2C238&sr=8-6')\n",
      "('Samsung 32 inch UJ59 4k monitor (LU32J590UQNXZA) - UHD, 3840 x 2160p, 60hz, 4ms, Dual monitor, laptop monitor, monitor stand / riser / mount compliant, AMD FreeSync, Gaming, HDMI, DP, Black', '$319.99', '4.4 out of 5 stars', '661', 'https://www.amazon.com/gp/slredirect/picassoRedirect.html/ref=pa_sp_mtf_aps_sr_pg1_1?ie=UTF8&adId=A03488281O65SWLZBVVL6&url=%2FSamsung-U32J590-32-Inch-LED-Lit-Monitor%2Fdp%2FB07CS3JGPC%2Fref%3Dsr_1_7_sspa%3Fcrid%3D3HANHGCT8DU6Q%26dchild%3D1%26keywords%3Dultrawide%2Bmonitor%26qid%3D1610183688%26sprefix%3Dultr%252Caps%252C238%26sr%3D8-7-spons%26psc%3D1&qualifier=1610183688&id=4180716012084987&widgetName=sp_mtf')\n",
      "('SAMSUNG LC34J791WTNXZA 34-Inch CJ791 Ultrawide Curved Gaming Monitor, White', '$679.99', '4.5 out of 5 stars', '621', 'https://www.amazon.com/Samsung-CJ791-Thunderbolt-Curved-Monitor/dp/B07CS3JB5K/ref=sr_1_8?crid=3HANHGCT8DU6Q&dchild=1&keywords=ultrawide+monitor&qid=1610183688&sprefix=ultr%2Caps%2C238&sr=8-8')\n",
      "('Samsung Business CH890 Series 34 inch WQHD 3440x1440 Ultrawide Curved Desktop Monitor for Business, 100 Hz, USB-C, HDMI, DP, 3 Year Warranty (LC34H890WGNXGO), Black/Titanium', '$598.46', '4.5 out of 5 stars', '385', 'https://www.amazon.com/Samsung-Business-3440x1440-Ultrawide-LC34H890WGNXGO/dp/B08623SZH9/ref=sr_1_9?crid=3HANHGCT8DU6Q&dchild=1&keywords=ultrawide+monitor&qid=1610183688&sprefix=ultr%2Caps%2C238&sr=8-9')\n",
      "None\n",
      "('Sceptre 30-inch Curved Gaming Monitor 21:9 2560x1080 Ultra Wide Ultra Slim HDMI DisplayPort up to 200Hz Build-in Speakers, Metal Black (C305B-200UN)', '$278.99', '4.6 out of 5 stars', '4,989', 'https://www.amazon.com/Sceptre-30-inch-Curved-Gaming-Monitor/dp/B07TXM7K4T/ref=sr_1_11?crid=3HANHGCT8DU6Q&dchild=1&keywords=ultrawide+monitor&qid=1610183688&sprefix=ultr%2Caps%2C238&sr=8-11')\n",
      "('Samsung C27HG70 27\" HDR QLED 144Hz 1ms Curved Gaming Monitor with FreeSync (C27HG70QQN)', '$599.99', '4.3 out of 5 stars', '1,292', 'https://www.amazon.com/gp/slredirect/picassoRedirect.html/ref=pa_sp_mtf_aps_sr_pg1_1?ie=UTF8&adId=A0004081P6NKFEC4DPG7&url=%2FSamsung-C27HG70-27-Inch-Monitor-C27HG70QQN%2Fdp%2FB06XSQ5QN8%2Fref%3Dsr_1_12_sspa%3Fcrid%3D3HANHGCT8DU6Q%26dchild%3D1%26keywords%3Dultrawide%2Bmonitor%26qid%3D1610183688%26sprefix%3Dultr%252Caps%252C238%26sr%3D8-12-spons%26psc%3D1&qualifier=1610183688&id=4180716012084987&widgetName=sp_mtf')\n",
      "('LG 25UM58-P 25-Inch UltraWide Full HD (2560 x 1080) IPS Display', '$149.99', '4.4 out of 5 stars', '3,048', 'https://www.amazon.com/LG-25UM58-P-25-Inch-21-UltraWide/dp/B01BV1XB2K/ref=sr_1_13?crid=3HANHGCT8DU6Q&dchild=1&keywords=ultrawide+monitor&qid=1610183688&sprefix=ultr%2Caps%2C238&sr=8-13')\n",
      "('Sceptre 34-inch Curved UltraWide 21: 9 Creative LED Monitor 2560x1080 Frameless HDMI DisplayPort Up to 100Hz, Machine Black 2020 (C345W-2560UN)', '$349.97', '4.6 out of 5 stars', '628', 'https://www.amazon.com/Sceptre-C345W-2560UN-34-inch-Curved-Ultrawide/dp/B0812DHWCJ/ref=sr_1_14?crid=3HANHGCT8DU6Q&dchild=1&keywords=ultrawide+monitor&qid=1610183688&sprefix=ultr%2Caps%2C238&sr=8-14')\n",
      "None\n",
      "None\n",
      "('LG 34WN650-W 34-Inch 21:9 UltraWide Full HD (2560 x 1080) IPS Display with VESA DisplayHDR 400 and AMD FreeSync, Silver', '$346.99', '4.6 out of 5 stars', '189', 'https://www.amazon.com/gp/slredirect/picassoRedirect.html/ref=pa_sp_mtf_aps_sr_pg1_1?ie=UTF8&adId=A04179123N42D9IL2GDFG&url=%2FLG-34WN650-W-34-Inch-UltraWide-DisplayHDR%2Fdp%2FB087JB656Q%2Fref%3Dsr_1_17_sspa%3Fcrid%3D3HANHGCT8DU6Q%26dchild%3D1%26keywords%3Dultrawide%2Bmonitor%26qid%3D1610183688%26sprefix%3Dultr%252Caps%252C238%26sr%3D8-17-spons%26psc%3D1&qualifier=1610183688&id=4180716012084987&widgetName=sp_mtf')\n",
      "('LG 34WN650-W 34-Inch 21:9 UltraWide Full HD (2560 x 1080) IPS Display with VESA DisplayHDR 400 and AMD FreeSync, Silver', '$346.99', '4.6 out of 5 stars', '189', 'https://www.amazon.com/LG-34WN650-W-34-Inch-UltraWide-DisplayHDR/dp/B087JB656Q/ref=sr_1_18?crid=3HANHGCT8DU6Q&dchild=1&keywords=ultrawide+monitor&qid=1610183688&sprefix=ultr%2Caps%2C238&sr=8-18')\n",
      "('LG 34UM69G-B 34-Inch 21:9 UltraWide IPS Monitor with 1ms Motion Blur Reduction and FreeSync,Black', '$346.99', '4.6 out of 5 stars', '946', 'https://www.amazon.com/LG-34UM69G-B-34-Inch-UltraWide-Reduction/dp/B06XFXX5JH/ref=sr_1_19?crid=3HANHGCT8DU6Q&dchild=1&keywords=ultrawide+monitor&qid=1610183688&sprefix=ultr%2Caps%2C238&sr=8-19')\n",
      "None\n",
      "('LG 34\" UltraWide IPS FreeSync LED Monitor 2560 x 1080 21:9 34WL600-B', '$325.00', '4.6 out of 5 stars', '137', 'https://www.amazon.com/LG-UltraWide-FreeSync-Monitor-2560/dp/B07YRXF62V/ref=sr_1_21?crid=3HANHGCT8DU6Q&dchild=1&keywords=ultrawide+monitor&qid=1610183688&sprefix=ultr%2Caps%2C238&sr=8-21')\n",
      "('Samsung Business TU87F 32 inch 4K UHD 3840x2160 60Hz Computer Monitor for Business with Thunderbolt 3, DisplayPort, USB Hub, 3-Yr WRNTY (F32TU872VN)', '$499.99', '3.7 out of 5 stars', '21', 'https://www.amazon.com/gp/slredirect/picassoRedirect.html/ref=pa_sp_btf_aps_sr_pg1_1?ie=UTF8&adId=A09666233H8VPUUS7DYVG&url=%2FSamsung-Business-Thunderbolt-DisplayPort-F32TU872VN%2Fdp%2FB08CLSPKJG%2Fref%3Dsr_1_22_sspa%3Fcrid%3D3HANHGCT8DU6Q%26dchild%3D1%26keywords%3Dultrawide%2Bmonitor%26qid%3D1610183688%26sprefix%3Dultr%252Caps%252C238%26sr%3D8-22-spons%26psc%3D1&qualifier=1610183688&id=4180716012084987&widgetName=sp_btf')\n"
     ]
    },
    {
     "name": "stdout",
     "output_type": "stream",
     "text": [
      "('LG 34WL60TM-B 34 Inch 21:9 UltraWide 1080p Full HD IPS Monitor (Renewed)', '$279.99', '4.5 out of 5 stars', '30', 'https://www.amazon.com/gp/slredirect/picassoRedirect.html/ref=pa_sp_atf_aps_sr_pg1_1?ie=UTF8&adId=A02574201I7UKDWD8KI3C&url=%2FLG-34WL60TM-B-34-Inch-UltraWide%2Fdp%2FB084G7ZDGD%2Fref%3Dsr_1_1_sspa%3Fcrid%3D3HANHGCT8DU6Q%26dchild%3D1%26keywords%3Dultrawide%2Bmonitor%26qid%3D1610183692%26sprefix%3Dultr%252Caps%252C238%26sr%3D8-1-spons%26psc%3D1%26smid%3DAD0BANCB0IN2U&qualifier=1610183692&id=4487895915369351&widgetName=sp_atf')\n",
      "('SAMSUNG LU32R590CWNXZA 32-Inch UR590C UHD 4K Curved Gaming Monitor, Dark Blue Gray', '$419.99', '4.5 out of 5 stars', '693', 'https://www.amazon.com/gp/slredirect/picassoRedirect.html/ref=pa_sp_atf_aps_sr_pg1_1?ie=UTF8&adId=A0359020268NI7NFZOLPF&url=%2FSamsung-U32R590-Curved-Monitor-LU32R590CWNXZA%2Fdp%2FB07L9G1BFX%2Fref%3Dsr_1_2_sspa%3Fcrid%3D3HANHGCT8DU6Q%26dchild%3D1%26keywords%3Dultrawide%2Bmonitor%26qid%3D1610183692%26sprefix%3Dultr%252Caps%252C238%26sr%3D8-2-spons%26psc%3D1&qualifier=1610183692&id=4487895915369351&widgetName=sp_atf')\n",
      "('LG 29WN600-W 29\" 21:9 UltraWide WFHD IPS HDR1 0 Monitor with FreeSync, Silver', '$226.99', '4.6 out of 5 stars', '847', 'https://www.amazon.com/LG-29WN600-W-29-21-UltraWide/dp/B0876DBCBX/ref=sr_1_3?crid=3HANHGCT8DU6Q&dchild=1&keywords=ultrawide+monitor&qid=1610183692&sprefix=ultr%2Caps%2C238&sr=8-3')\n",
      "('Sceptre 35 Inch Curved UltraWide 21: 9 LED Creative Monitor QHD 3440x1440 Frameless AMD Freesync HDMI DisplayPort Up to 100Hz, Machine Black 2020 (C355W-3440UN)', '$379.97', '4.5 out of 5 stars', '1,311', 'https://www.amazon.com/Sceptre-C355W-3440UN-Super-Curved-Ultrawide/dp/B0812DKDD9/ref=sr_1_4?crid=3HANHGCT8DU6Q&dchild=1&keywords=ultrawide+monitor&qid=1610183692&sprefix=ultr%2Caps%2C238&sr=8-4')\n",
      "('LG 34WN80C-B 34 inch 21:9 Curved UltraWide WQHD IPS Monitor with USB Type-C Connectivity sRGB 99 percentage Color Gamut and HDR10 Compatibility, Black', '$549.99', '4.7 out of 5 stars', '1,873', 'https://www.amazon.com/LG-34WN80C-B-inch-Connectivity-Compatibility/dp/B07YGZ7C1K/ref=sr_1_5?crid=3HANHGCT8DU6Q&dchild=1&keywords=ultrawide+monitor&qid=1610183692&sprefix=ultr%2Caps%2C238&sr=8-5')\n",
      "('LG 34WK650-W 34\" UltraWide 21:9 IPS Monitor with HDR10 and FreeSync (2018), Black/White', '$395.26', '4.6 out of 5 stars', '700', 'https://www.amazon.com/LG-34WK650-W-34-UltraWide-21/dp/B078GSH1LV/ref=sr_1_6?crid=3HANHGCT8DU6Q&dchild=1&keywords=ultrawide+monitor&qid=1610183692&sprefix=ultr%2Caps%2C238&sr=8-6')\n",
      "('Samsung 32 inch UJ59 4k monitor (LU32J590UQNXZA) - UHD, 3840 x 2160p, 60hz, 4ms, Dual monitor, laptop monitor, monitor stand / riser / mount compliant, AMD FreeSync, Gaming, HDMI, DP, Black', '$319.99', '4.4 out of 5 stars', '661', 'https://www.amazon.com/gp/slredirect/picassoRedirect.html/ref=pa_sp_mtf_aps_sr_pg1_1?ie=UTF8&adId=A03488281O65SWLZBVVL6&url=%2FSamsung-U32J590-32-Inch-LED-Lit-Monitor%2Fdp%2FB07CS3JGPC%2Fref%3Dsr_1_7_sspa%3Fcrid%3D3HANHGCT8DU6Q%26dchild%3D1%26keywords%3Dultrawide%2Bmonitor%26qid%3D1610183692%26sprefix%3Dultr%252Caps%252C238%26sr%3D8-7-spons%26psc%3D1&qualifier=1610183692&id=4487895915369351&widgetName=sp_mtf')\n",
      "('SAMSUNG LC34J791WTNXZA 34-Inch CJ791 Ultrawide Curved Gaming Monitor, White', '$679.99', '4.5 out of 5 stars', '621', 'https://www.amazon.com/Samsung-CJ791-Thunderbolt-Curved-Monitor/dp/B07CS3JB5K/ref=sr_1_8?crid=3HANHGCT8DU6Q&dchild=1&keywords=ultrawide+monitor&qid=1610183692&sprefix=ultr%2Caps%2C238&sr=8-8')\n",
      "('Samsung Business CH890 Series 34 inch WQHD 3440x1440 Ultrawide Curved Desktop Monitor for Business, 100 Hz, USB-C, HDMI, DP, 3 Year Warranty (LC34H890WGNXGO), Black/Titanium', '$598.46', '4.5 out of 5 stars', '385', 'https://www.amazon.com/Samsung-Business-3440x1440-Ultrawide-LC34H890WGNXGO/dp/B08623SZH9/ref=sr_1_9?crid=3HANHGCT8DU6Q&dchild=1&keywords=ultrawide+monitor&qid=1610183692&sprefix=ultr%2Caps%2C238&sr=8-9')\n",
      "None\n",
      "('Sceptre 30-inch Curved Gaming Monitor 21:9 2560x1080 Ultra Wide Ultra Slim HDMI DisplayPort up to 200Hz Build-in Speakers, Metal Black (C305B-200UN)', '$278.99', '4.6 out of 5 stars', '4,989', 'https://www.amazon.com/Sceptre-30-inch-Curved-Gaming-Monitor/dp/B07TXM7K4T/ref=sr_1_11?crid=3HANHGCT8DU6Q&dchild=1&keywords=ultrawide+monitor&qid=1610183692&sprefix=ultr%2Caps%2C238&sr=8-11')\n",
      "('Samsung C27HG70 27\" HDR QLED 144Hz 1ms Curved Gaming Monitor with FreeSync (C27HG70QQN)', '$599.99', '4.3 out of 5 stars', '1,292', 'https://www.amazon.com/gp/slredirect/picassoRedirect.html/ref=pa_sp_mtf_aps_sr_pg1_1?ie=UTF8&adId=A0004081P6NKFEC4DPG7&url=%2FSamsung-C27HG70-27-Inch-Monitor-C27HG70QQN%2Fdp%2FB06XSQ5QN8%2Fref%3Dsr_1_12_sspa%3Fcrid%3D3HANHGCT8DU6Q%26dchild%3D1%26keywords%3Dultrawide%2Bmonitor%26qid%3D1610183692%26sprefix%3Dultr%252Caps%252C238%26sr%3D8-12-spons%26psc%3D1&qualifier=1610183692&id=4487895915369351&widgetName=sp_mtf')\n",
      "('LG 25UM58-P 25-Inch UltraWide Full HD (2560 x 1080) IPS Display', '$149.99', '4.4 out of 5 stars', '3,048', 'https://www.amazon.com/LG-25UM58-P-25-Inch-21-UltraWide/dp/B01BV1XB2K/ref=sr_1_13?crid=3HANHGCT8DU6Q&dchild=1&keywords=ultrawide+monitor&qid=1610183692&sprefix=ultr%2Caps%2C238&sr=8-13')\n",
      "('Sceptre 34-inch Curved UltraWide 21: 9 Creative LED Monitor 2560x1080 Frameless HDMI DisplayPort Up to 100Hz, Machine Black 2020 (C345W-2560UN)', '$349.97', '4.6 out of 5 stars', '628', 'https://www.amazon.com/Sceptre-C345W-2560UN-34-inch-Curved-Ultrawide/dp/B0812DHWCJ/ref=sr_1_14?crid=3HANHGCT8DU6Q&dchild=1&keywords=ultrawide+monitor&qid=1610183692&sprefix=ultr%2Caps%2C238&sr=8-14')\n",
      "None\n",
      "None\n",
      "('LG 34WN650-W 34-Inch 21:9 UltraWide Full HD (2560 x 1080) IPS Display with VESA DisplayHDR 400 and AMD FreeSync, Silver', '$346.99', '4.6 out of 5 stars', '189', 'https://www.amazon.com/gp/slredirect/picassoRedirect.html/ref=pa_sp_mtf_aps_sr_pg1_1?ie=UTF8&adId=A04179123N42D9IL2GDFG&url=%2FLG-34WN650-W-34-Inch-UltraWide-DisplayHDR%2Fdp%2FB087JB656Q%2Fref%3Dsr_1_17_sspa%3Fcrid%3D3HANHGCT8DU6Q%26dchild%3D1%26keywords%3Dultrawide%2Bmonitor%26qid%3D1610183692%26sprefix%3Dultr%252Caps%252C238%26sr%3D8-17-spons%26psc%3D1&qualifier=1610183692&id=4487895915369351&widgetName=sp_mtf')\n",
      "('LG 34WN650-W 34-Inch 21:9 UltraWide Full HD (2560 x 1080) IPS Display with VESA DisplayHDR 400 and AMD FreeSync, Silver', '$346.99', '4.6 out of 5 stars', '189', 'https://www.amazon.com/LG-34WN650-W-34-Inch-UltraWide-DisplayHDR/dp/B087JB656Q/ref=sr_1_18?crid=3HANHGCT8DU6Q&dchild=1&keywords=ultrawide+monitor&qid=1610183692&sprefix=ultr%2Caps%2C238&sr=8-18')\n",
      "('LG 34UM69G-B 34-Inch 21:9 UltraWide IPS Monitor with 1ms Motion Blur Reduction and FreeSync,Black', '$346.99', '4.6 out of 5 stars', '946', 'https://www.amazon.com/LG-34UM69G-B-34-Inch-UltraWide-Reduction/dp/B06XFXX5JH/ref=sr_1_19?crid=3HANHGCT8DU6Q&dchild=1&keywords=ultrawide+monitor&qid=1610183692&sprefix=ultr%2Caps%2C238&sr=8-19')\n",
      "None\n",
      "('LG 34\" UltraWide IPS FreeSync LED Monitor 2560 x 1080 21:9 34WL600-B', '$325.00', '4.6 out of 5 stars', '137', 'https://www.amazon.com/LG-UltraWide-FreeSync-Monitor-2560/dp/B07YRXF62V/ref=sr_1_21?crid=3HANHGCT8DU6Q&dchild=1&keywords=ultrawide+monitor&qid=1610183692&sprefix=ultr%2Caps%2C238&sr=8-21')\n",
      "('Samsung Business TU87F 32 inch 4K UHD 3840x2160 60Hz Computer Monitor for Business with Thunderbolt 3, DisplayPort, USB Hub, 3-Yr WRNTY (F32TU872VN)', '$499.99', '3.7 out of 5 stars', '21', 'https://www.amazon.com/gp/slredirect/picassoRedirect.html/ref=pa_sp_btf_aps_sr_pg1_1?ie=UTF8&adId=A09666233H8VPUUS7DYVG&url=%2FSamsung-Business-Thunderbolt-DisplayPort-F32TU872VN%2Fdp%2FB08CLSPKJG%2Fref%3Dsr_1_22_sspa%3Fcrid%3D3HANHGCT8DU6Q%26dchild%3D1%26keywords%3Dultrawide%2Bmonitor%26qid%3D1610183692%26sprefix%3Dultr%252Caps%252C238%26sr%3D8-22-spons%26psc%3D1&qualifier=1610183692&id=4487895915369351&widgetName=sp_btf')\n",
      "('LG 34WL60TM-B 34 Inch 21:9 UltraWide 1080p Full HD IPS Monitor (Renewed)', '$279.99', '4.5 out of 5 stars', '30', 'https://www.amazon.com/gp/slredirect/picassoRedirect.html/ref=pa_sp_atf_aps_sr_pg1_1?ie=UTF8&adId=A02574201I7UKDWD8KI3C&url=%2FLG-34WL60TM-B-34-Inch-UltraWide%2Fdp%2FB084G7ZDGD%2Fref%3Dsr_1_1_sspa%3Fcrid%3D3HANHGCT8DU6Q%26dchild%3D1%26keywords%3Dultrawide%2Bmonitor%26qid%3D1610183697%26sprefix%3Dultr%252Caps%252C238%26sr%3D8-1-spons%26psc%3D1%26smid%3DAD0BANCB0IN2U&qualifier=1610183697&id=7044321326826670&widgetName=sp_atf')\n",
      "('SAMSUNG LU32R590CWNXZA 32-Inch UR590C UHD 4K Curved Gaming Monitor, Dark Blue Gray', '$419.99', '4.5 out of 5 stars', '693', 'https://www.amazon.com/gp/slredirect/picassoRedirect.html/ref=pa_sp_atf_aps_sr_pg1_1?ie=UTF8&adId=A0359020268NI7NFZOLPF&url=%2FSamsung-U32R590-Curved-Monitor-LU32R590CWNXZA%2Fdp%2FB07L9G1BFX%2Fref%3Dsr_1_2_sspa%3Fcrid%3D3HANHGCT8DU6Q%26dchild%3D1%26keywords%3Dultrawide%2Bmonitor%26qid%3D1610183697%26sprefix%3Dultr%252Caps%252C238%26sr%3D8-2-spons%26psc%3D1&qualifier=1610183697&id=7044321326826670&widgetName=sp_atf')\n",
      "('LG 29WN600-W 29\" 21:9 UltraWide WFHD IPS HDR1 0 Monitor with FreeSync, Silver', '$226.99', '4.6 out of 5 stars', '847', 'https://www.amazon.com/LG-29WN600-W-29-21-UltraWide/dp/B0876DBCBX/ref=sr_1_3?crid=3HANHGCT8DU6Q&dchild=1&keywords=ultrawide+monitor&qid=1610183697&sprefix=ultr%2Caps%2C238&sr=8-3')\n",
      "('Sceptre 35 Inch Curved UltraWide 21: 9 LED Creative Monitor QHD 3440x1440 Frameless AMD Freesync HDMI DisplayPort Up to 100Hz, Machine Black 2020 (C355W-3440UN)', '$379.97', '4.5 out of 5 stars', '1,311', 'https://www.amazon.com/Sceptre-C355W-3440UN-Super-Curved-Ultrawide/dp/B0812DKDD9/ref=sr_1_4?crid=3HANHGCT8DU6Q&dchild=1&keywords=ultrawide+monitor&qid=1610183697&sprefix=ultr%2Caps%2C238&sr=8-4')\n",
      "('LG 34WN80C-B 34 inch 21:9 Curved UltraWide WQHD IPS Monitor with USB Type-C Connectivity sRGB 99 percentage Color Gamut and HDR10 Compatibility, Black', '$549.99', '4.7 out of 5 stars', '1,873', 'https://www.amazon.com/LG-34WN80C-B-inch-Connectivity-Compatibility/dp/B07YGZ7C1K/ref=sr_1_5?crid=3HANHGCT8DU6Q&dchild=1&keywords=ultrawide+monitor&qid=1610183697&sprefix=ultr%2Caps%2C238&sr=8-5')\n",
      "('LG 34WK650-W 34\" UltraWide 21:9 IPS Monitor with HDR10 and FreeSync (2018), Black/White', '$395.26', '4.6 out of 5 stars', '700', 'https://www.amazon.com/LG-34WK650-W-34-UltraWide-21/dp/B078GSH1LV/ref=sr_1_6?crid=3HANHGCT8DU6Q&dchild=1&keywords=ultrawide+monitor&qid=1610183697&sprefix=ultr%2Caps%2C238&sr=8-6')\n",
      "('Samsung 32 inch UJ59 4k monitor (LU32J590UQNXZA) - UHD, 3840 x 2160p, 60hz, 4ms, Dual monitor, laptop monitor, monitor stand / riser / mount compliant, AMD FreeSync, Gaming, HDMI, DP, Black', '$319.99', '4.4 out of 5 stars', '661', 'https://www.amazon.com/gp/slredirect/picassoRedirect.html/ref=pa_sp_mtf_aps_sr_pg1_1?ie=UTF8&adId=A03488281O65SWLZBVVL6&url=%2FSamsung-U32J590-32-Inch-LED-Lit-Monitor%2Fdp%2FB07CS3JGPC%2Fref%3Dsr_1_7_sspa%3Fcrid%3D3HANHGCT8DU6Q%26dchild%3D1%26keywords%3Dultrawide%2Bmonitor%26qid%3D1610183697%26sprefix%3Dultr%252Caps%252C238%26sr%3D8-7-spons%26psc%3D1&qualifier=1610183697&id=7044321326826670&widgetName=sp_mtf')\n",
      "('SAMSUNG LC34J791WTNXZA 34-Inch CJ791 Ultrawide Curved Gaming Monitor, White', '$679.99', '4.5 out of 5 stars', '621', 'https://www.amazon.com/Samsung-CJ791-Thunderbolt-Curved-Monitor/dp/B07CS3JB5K/ref=sr_1_8?crid=3HANHGCT8DU6Q&dchild=1&keywords=ultrawide+monitor&qid=1610183697&sprefix=ultr%2Caps%2C238&sr=8-8')\n",
      "('Samsung Business CH890 Series 34 inch WQHD 3440x1440 Ultrawide Curved Desktop Monitor for Business, 100 Hz, USB-C, HDMI, DP, 3 Year Warranty (LC34H890WGNXGO), Black/Titanium', '$598.46', '4.5 out of 5 stars', '385', 'https://www.amazon.com/Samsung-Business-3440x1440-Ultrawide-LC34H890WGNXGO/dp/B08623SZH9/ref=sr_1_9?crid=3HANHGCT8DU6Q&dchild=1&keywords=ultrawide+monitor&qid=1610183697&sprefix=ultr%2Caps%2C238&sr=8-9')\n",
      "None\n",
      "('Sceptre 30-inch Curved Gaming Monitor 21:9 2560x1080 Ultra Wide Ultra Slim HDMI DisplayPort up to 200Hz Build-in Speakers, Metal Black (C305B-200UN)', '$278.99', '4.6 out of 5 stars', '4,989', 'https://www.amazon.com/Sceptre-30-inch-Curved-Gaming-Monitor/dp/B07TXM7K4T/ref=sr_1_11?crid=3HANHGCT8DU6Q&dchild=1&keywords=ultrawide+monitor&qid=1610183697&sprefix=ultr%2Caps%2C238&sr=8-11')\n",
      "('Samsung C27HG70 27\" HDR QLED 144Hz 1ms Curved Gaming Monitor with FreeSync (C27HG70QQN)', '$599.99', '4.3 out of 5 stars', '1,292', 'https://www.amazon.com/gp/slredirect/picassoRedirect.html/ref=pa_sp_mtf_aps_sr_pg1_1?ie=UTF8&adId=A0004081P6NKFEC4DPG7&url=%2FSamsung-C27HG70-27-Inch-Monitor-C27HG70QQN%2Fdp%2FB06XSQ5QN8%2Fref%3Dsr_1_12_sspa%3Fcrid%3D3HANHGCT8DU6Q%26dchild%3D1%26keywords%3Dultrawide%2Bmonitor%26qid%3D1610183697%26sprefix%3Dultr%252Caps%252C238%26sr%3D8-12-spons%26psc%3D1&qualifier=1610183697&id=7044321326826670&widgetName=sp_mtf')\n",
      "('LG 25UM58-P 25-Inch UltraWide Full HD (2560 x 1080) IPS Display', '$149.99', '4.4 out of 5 stars', '3,048', 'https://www.amazon.com/LG-25UM58-P-25-Inch-21-UltraWide/dp/B01BV1XB2K/ref=sr_1_13?crid=3HANHGCT8DU6Q&dchild=1&keywords=ultrawide+monitor&qid=1610183697&sprefix=ultr%2Caps%2C238&sr=8-13')\n",
      "('Sceptre 34-inch Curved UltraWide 21: 9 Creative LED Monitor 2560x1080 Frameless HDMI DisplayPort Up to 100Hz, Machine Black 2020 (C345W-2560UN)', '$349.97', '4.6 out of 5 stars', '628', 'https://www.amazon.com/Sceptre-C345W-2560UN-34-inch-Curved-Ultrawide/dp/B0812DHWCJ/ref=sr_1_14?crid=3HANHGCT8DU6Q&dchild=1&keywords=ultrawide+monitor&qid=1610183697&sprefix=ultr%2Caps%2C238&sr=8-14')\n",
      "None\n",
      "None\n",
      "('LG 34WN650-W 34-Inch 21:9 UltraWide Full HD (2560 x 1080) IPS Display with VESA DisplayHDR 400 and AMD FreeSync, Silver', '$346.99', '4.6 out of 5 stars', '189', 'https://www.amazon.com/gp/slredirect/picassoRedirect.html/ref=pa_sp_mtf_aps_sr_pg1_1?ie=UTF8&adId=A04179123N42D9IL2GDFG&url=%2FLG-34WN650-W-34-Inch-UltraWide-DisplayHDR%2Fdp%2FB087JB656Q%2Fref%3Dsr_1_17_sspa%3Fcrid%3D3HANHGCT8DU6Q%26dchild%3D1%26keywords%3Dultrawide%2Bmonitor%26qid%3D1610183697%26sprefix%3Dultr%252Caps%252C238%26sr%3D8-17-spons%26psc%3D1&qualifier=1610183697&id=7044321326826670&widgetName=sp_mtf')\n",
      "('LG 34WN650-W 34-Inch 21:9 UltraWide Full HD (2560 x 1080) IPS Display with VESA DisplayHDR 400 and AMD FreeSync, Silver', '$346.99', '4.6 out of 5 stars', '189', 'https://www.amazon.com/LG-34WN650-W-34-Inch-UltraWide-DisplayHDR/dp/B087JB656Q/ref=sr_1_18?crid=3HANHGCT8DU6Q&dchild=1&keywords=ultrawide+monitor&qid=1610183697&sprefix=ultr%2Caps%2C238&sr=8-18')\n",
      "('LG 34UM69G-B 34-Inch 21:9 UltraWide IPS Monitor with 1ms Motion Blur Reduction and FreeSync,Black', '$346.99', '4.6 out of 5 stars', '946', 'https://www.amazon.com/LG-34UM69G-B-34-Inch-UltraWide-Reduction/dp/B06XFXX5JH/ref=sr_1_19?crid=3HANHGCT8DU6Q&dchild=1&keywords=ultrawide+monitor&qid=1610183697&sprefix=ultr%2Caps%2C238&sr=8-19')\n",
      "None\n",
      "('LG 34\" UltraWide IPS FreeSync LED Monitor 2560 x 1080 21:9 34WL600-B', '$325.00', '4.6 out of 5 stars', '137', 'https://www.amazon.com/LG-UltraWide-FreeSync-Monitor-2560/dp/B07YRXF62V/ref=sr_1_21?crid=3HANHGCT8DU6Q&dchild=1&keywords=ultrawide+monitor&qid=1610183697&sprefix=ultr%2Caps%2C238&sr=8-21')\n",
      "('Samsung Business TU87F 32 inch 4K UHD 3840x2160 60Hz Computer Monitor for Business with Thunderbolt 3, DisplayPort, USB Hub, 3-Yr WRNTY (F32TU872VN)', '$499.99', '3.7 out of 5 stars', '21', 'https://www.amazon.com/gp/slredirect/picassoRedirect.html/ref=pa_sp_btf_aps_sr_pg1_1?ie=UTF8&adId=A09666233H8VPUUS7DYVG&url=%2FSamsung-Business-Thunderbolt-DisplayPort-F32TU872VN%2Fdp%2FB08CLSPKJG%2Fref%3Dsr_1_22_sspa%3Fcrid%3D3HANHGCT8DU6Q%26dchild%3D1%26keywords%3Dultrawide%2Bmonitor%26qid%3D1610183697%26sprefix%3Dultr%252Caps%252C238%26sr%3D8-22-spons%26psc%3D1&qualifier=1610183697&id=7044321326826670&widgetName=sp_btf')\n"
     ]
    },
    {
     "name": "stdout",
     "output_type": "stream",
     "text": [
      "('LG 34WL60TM-B 34 Inch 21:9 UltraWide 1080p Full HD IPS Monitor (Renewed)', '$279.99', '4.5 out of 5 stars', '30', 'https://www.amazon.com/gp/slredirect/picassoRedirect.html/ref=pa_sp_atf_aps_sr_pg1_1?ie=UTF8&adId=A02574201I7UKDWD8KI3C&url=%2FLG-34WL60TM-B-34-Inch-UltraWide%2Fdp%2FB084G7ZDGD%2Fref%3Dsr_1_1_sspa%3Fcrid%3D3HANHGCT8DU6Q%26dchild%3D1%26keywords%3Dultrawide%2Bmonitor%26qid%3D1610183701%26sprefix%3Dultr%252Caps%252C238%26sr%3D8-1-spons%26psc%3D1%26smid%3DAD0BANCB0IN2U&qualifier=1610183701&id=3510838637299572&widgetName=sp_atf')\n",
      "('SAMSUNG LU32R590CWNXZA 32-Inch UR590C UHD 4K Curved Gaming Monitor, Dark Blue Gray', '$419.99', '4.5 out of 5 stars', '693', 'https://www.amazon.com/gp/slredirect/picassoRedirect.html/ref=pa_sp_atf_aps_sr_pg1_1?ie=UTF8&adId=A0359020268NI7NFZOLPF&url=%2FSamsung-U32R590-Curved-Monitor-LU32R590CWNXZA%2Fdp%2FB07L9G1BFX%2Fref%3Dsr_1_2_sspa%3Fcrid%3D3HANHGCT8DU6Q%26dchild%3D1%26keywords%3Dultrawide%2Bmonitor%26qid%3D1610183701%26sprefix%3Dultr%252Caps%252C238%26sr%3D8-2-spons%26psc%3D1&qualifier=1610183701&id=3510838637299572&widgetName=sp_atf')\n",
      "('LG 29WN600-W 29\" 21:9 UltraWide WFHD IPS HDR1 0 Monitor with FreeSync, Silver', '$226.99', '4.6 out of 5 stars', '847', 'https://www.amazon.com/LG-29WN600-W-29-21-UltraWide/dp/B0876DBCBX/ref=sr_1_3?crid=3HANHGCT8DU6Q&dchild=1&keywords=ultrawide+monitor&qid=1610183701&sprefix=ultr%2Caps%2C238&sr=8-3')\n",
      "('Sceptre 35 Inch Curved UltraWide 21: 9 LED Creative Monitor QHD 3440x1440 Frameless AMD Freesync HDMI DisplayPort Up to 100Hz, Machine Black 2020 (C355W-3440UN)', '$379.97', '4.5 out of 5 stars', '1,311', 'https://www.amazon.com/Sceptre-C355W-3440UN-Super-Curved-Ultrawide/dp/B0812DKDD9/ref=sr_1_4?crid=3HANHGCT8DU6Q&dchild=1&keywords=ultrawide+monitor&qid=1610183701&sprefix=ultr%2Caps%2C238&sr=8-4')\n",
      "('LG 34WN80C-B 34 inch 21:9 Curved UltraWide WQHD IPS Monitor with USB Type-C Connectivity sRGB 99 percentage Color Gamut and HDR10 Compatibility, Black', '$549.99', '4.7 out of 5 stars', '1,873', 'https://www.amazon.com/LG-34WN80C-B-inch-Connectivity-Compatibility/dp/B07YGZ7C1K/ref=sr_1_5?crid=3HANHGCT8DU6Q&dchild=1&keywords=ultrawide+monitor&qid=1610183701&sprefix=ultr%2Caps%2C238&sr=8-5')\n",
      "('LG 34WK650-W 34\" UltraWide 21:9 IPS Monitor with HDR10 and FreeSync (2018), Black/White', '$395.26', '4.6 out of 5 stars', '700', 'https://www.amazon.com/LG-34WK650-W-34-UltraWide-21/dp/B078GSH1LV/ref=sr_1_6?crid=3HANHGCT8DU6Q&dchild=1&keywords=ultrawide+monitor&qid=1610183701&sprefix=ultr%2Caps%2C238&sr=8-6')\n",
      "('Samsung 32 inch UJ59 4k monitor (LU32J590UQNXZA) - UHD, 3840 x 2160p, 60hz, 4ms, Dual monitor, laptop monitor, monitor stand / riser / mount compliant, AMD FreeSync, Gaming, HDMI, DP, Black', '$319.99', '4.4 out of 5 stars', '661', 'https://www.amazon.com/gp/slredirect/picassoRedirect.html/ref=pa_sp_mtf_aps_sr_pg1_1?ie=UTF8&adId=A03488281O65SWLZBVVL6&url=%2FSamsung-U32J590-32-Inch-LED-Lit-Monitor%2Fdp%2FB07CS3JGPC%2Fref%3Dsr_1_7_sspa%3Fcrid%3D3HANHGCT8DU6Q%26dchild%3D1%26keywords%3Dultrawide%2Bmonitor%26qid%3D1610183701%26sprefix%3Dultr%252Caps%252C238%26sr%3D8-7-spons%26psc%3D1&qualifier=1610183701&id=3510838637299572&widgetName=sp_mtf')\n",
      "('SAMSUNG LC34J791WTNXZA 34-Inch CJ791 Ultrawide Curved Gaming Monitor, White', '$679.99', '4.5 out of 5 stars', '621', 'https://www.amazon.com/Samsung-CJ791-Thunderbolt-Curved-Monitor/dp/B07CS3JB5K/ref=sr_1_8?crid=3HANHGCT8DU6Q&dchild=1&keywords=ultrawide+monitor&qid=1610183701&sprefix=ultr%2Caps%2C238&sr=8-8')\n",
      "('Samsung Business CH890 Series 34 inch WQHD 3440x1440 Ultrawide Curved Desktop Monitor for Business, 100 Hz, USB-C, HDMI, DP, 3 Year Warranty (LC34H890WGNXGO), Black/Titanium', '$598.46', '4.5 out of 5 stars', '385', 'https://www.amazon.com/Samsung-Business-3440x1440-Ultrawide-LC34H890WGNXGO/dp/B08623SZH9/ref=sr_1_9?crid=3HANHGCT8DU6Q&dchild=1&keywords=ultrawide+monitor&qid=1610183701&sprefix=ultr%2Caps%2C238&sr=8-9')\n",
      "None\n",
      "('Sceptre 30-inch Curved Gaming Monitor 21:9 2560x1080 Ultra Wide Ultra Slim HDMI DisplayPort up to 200Hz Build-in Speakers, Metal Black (C305B-200UN)', '$278.99', '4.6 out of 5 stars', '4,989', 'https://www.amazon.com/Sceptre-30-inch-Curved-Gaming-Monitor/dp/B07TXM7K4T/ref=sr_1_11?crid=3HANHGCT8DU6Q&dchild=1&keywords=ultrawide+monitor&qid=1610183701&sprefix=ultr%2Caps%2C238&sr=8-11')\n",
      "('Samsung C27HG70 27\" HDR QLED 144Hz 1ms Curved Gaming Monitor with FreeSync (C27HG70QQN)', '$599.99', '4.3 out of 5 stars', '1,292', 'https://www.amazon.com/gp/slredirect/picassoRedirect.html/ref=pa_sp_mtf_aps_sr_pg1_1?ie=UTF8&adId=A0004081P6NKFEC4DPG7&url=%2FSamsung-C27HG70-27-Inch-Monitor-C27HG70QQN%2Fdp%2FB06XSQ5QN8%2Fref%3Dsr_1_12_sspa%3Fcrid%3D3HANHGCT8DU6Q%26dchild%3D1%26keywords%3Dultrawide%2Bmonitor%26qid%3D1610183701%26sprefix%3Dultr%252Caps%252C238%26sr%3D8-12-spons%26psc%3D1&qualifier=1610183701&id=3510838637299572&widgetName=sp_mtf')\n",
      "('LG 25UM58-P 25-Inch UltraWide Full HD (2560 x 1080) IPS Display', '$149.99', '4.4 out of 5 stars', '3,048', 'https://www.amazon.com/LG-25UM58-P-25-Inch-21-UltraWide/dp/B01BV1XB2K/ref=sr_1_13?crid=3HANHGCT8DU6Q&dchild=1&keywords=ultrawide+monitor&qid=1610183701&sprefix=ultr%2Caps%2C238&sr=8-13')\n",
      "('Sceptre 34-inch Curved UltraWide 21: 9 Creative LED Monitor 2560x1080 Frameless HDMI DisplayPort Up to 100Hz, Machine Black 2020 (C345W-2560UN)', '$349.97', '4.6 out of 5 stars', '628', 'https://www.amazon.com/Sceptre-C345W-2560UN-34-inch-Curved-Ultrawide/dp/B0812DHWCJ/ref=sr_1_14?crid=3HANHGCT8DU6Q&dchild=1&keywords=ultrawide+monitor&qid=1610183701&sprefix=ultr%2Caps%2C238&sr=8-14')\n",
      "None\n",
      "None\n",
      "('LG 34WN650-W 34-Inch 21:9 UltraWide Full HD (2560 x 1080) IPS Display with VESA DisplayHDR 400 and AMD FreeSync, Silver', '$346.99', '4.6 out of 5 stars', '189', 'https://www.amazon.com/gp/slredirect/picassoRedirect.html/ref=pa_sp_mtf_aps_sr_pg1_1?ie=UTF8&adId=A04179123N42D9IL2GDFG&url=%2FLG-34WN650-W-34-Inch-UltraWide-DisplayHDR%2Fdp%2FB087JB656Q%2Fref%3Dsr_1_17_sspa%3Fcrid%3D3HANHGCT8DU6Q%26dchild%3D1%26keywords%3Dultrawide%2Bmonitor%26qid%3D1610183701%26sprefix%3Dultr%252Caps%252C238%26sr%3D8-17-spons%26psc%3D1&qualifier=1610183701&id=3510838637299572&widgetName=sp_mtf')\n",
      "('LG 34WN650-W 34-Inch 21:9 UltraWide Full HD (2560 x 1080) IPS Display with VESA DisplayHDR 400 and AMD FreeSync, Silver', '$346.99', '4.6 out of 5 stars', '189', 'https://www.amazon.com/LG-34WN650-W-34-Inch-UltraWide-DisplayHDR/dp/B087JB656Q/ref=sr_1_18?crid=3HANHGCT8DU6Q&dchild=1&keywords=ultrawide+monitor&qid=1610183701&sprefix=ultr%2Caps%2C238&sr=8-18')\n",
      "('LG 34UM69G-B 34-Inch 21:9 UltraWide IPS Monitor with 1ms Motion Blur Reduction and FreeSync,Black', '$346.99', '4.6 out of 5 stars', '946', 'https://www.amazon.com/LG-34UM69G-B-34-Inch-UltraWide-Reduction/dp/B06XFXX5JH/ref=sr_1_19?crid=3HANHGCT8DU6Q&dchild=1&keywords=ultrawide+monitor&qid=1610183701&sprefix=ultr%2Caps%2C238&sr=8-19')\n",
      "None\n",
      "('LG 34\" UltraWide IPS FreeSync LED Monitor 2560 x 1080 21:9 34WL600-B', '$325.00', '4.6 out of 5 stars', '137', 'https://www.amazon.com/LG-UltraWide-FreeSync-Monitor-2560/dp/B07YRXF62V/ref=sr_1_21?crid=3HANHGCT8DU6Q&dchild=1&keywords=ultrawide+monitor&qid=1610183701&sprefix=ultr%2Caps%2C238&sr=8-21')\n",
      "('Samsung Business TU87F 32 inch 4K UHD 3840x2160 60Hz Computer Monitor for Business with Thunderbolt 3, DisplayPort, USB Hub, 3-Yr WRNTY (F32TU872VN)', '$499.99', '3.7 out of 5 stars', '21', 'https://www.amazon.com/gp/slredirect/picassoRedirect.html/ref=pa_sp_btf_aps_sr_pg1_1?ie=UTF8&adId=A09666233H8VPUUS7DYVG&url=%2FSamsung-Business-Thunderbolt-DisplayPort-F32TU872VN%2Fdp%2FB08CLSPKJG%2Fref%3Dsr_1_22_sspa%3Fcrid%3D3HANHGCT8DU6Q%26dchild%3D1%26keywords%3Dultrawide%2Bmonitor%26qid%3D1610183701%26sprefix%3Dultr%252Caps%252C238%26sr%3D8-22-spons%26psc%3D1&qualifier=1610183701&id=3510838637299572&widgetName=sp_btf')\n",
      "('LG 34WL60TM-B 34 Inch 21:9 UltraWide 1080p Full HD IPS Monitor (Renewed)', '$279.99', '4.5 out of 5 stars', '30', 'https://www.amazon.com/gp/slredirect/picassoRedirect.html/ref=pa_sp_atf_aps_sr_pg1_1?ie=UTF8&adId=A02574201I7UKDWD8KI3C&url=%2FLG-34WL60TM-B-34-Inch-UltraWide%2Fdp%2FB084G7ZDGD%2Fref%3Dsr_1_1_sspa%3Fcrid%3D3HANHGCT8DU6Q%26dchild%3D1%26keywords%3Dultrawide%2Bmonitor%26qid%3D1610183704%26sprefix%3Dultr%252Caps%252C238%26sr%3D8-1-spons%26psc%3D1%26smid%3DAD0BANCB0IN2U&qualifier=1610183704&id=1776468396139496&widgetName=sp_atf')\n",
      "('SAMSUNG LU32R590CWNXZA 32-Inch UR590C UHD 4K Curved Gaming Monitor, Dark Blue Gray', '$419.99', '4.5 out of 5 stars', '693', 'https://www.amazon.com/gp/slredirect/picassoRedirect.html/ref=pa_sp_atf_aps_sr_pg1_1?ie=UTF8&adId=A0359020268NI7NFZOLPF&url=%2FSamsung-U32R590-Curved-Monitor-LU32R590CWNXZA%2Fdp%2FB07L9G1BFX%2Fref%3Dsr_1_2_sspa%3Fcrid%3D3HANHGCT8DU6Q%26dchild%3D1%26keywords%3Dultrawide%2Bmonitor%26qid%3D1610183704%26sprefix%3Dultr%252Caps%252C238%26sr%3D8-2-spons%26psc%3D1&qualifier=1610183704&id=1776468396139496&widgetName=sp_atf')\n",
      "('LG 29WN600-W 29\" 21:9 UltraWide WFHD IPS HDR1 0 Monitor with FreeSync, Silver', '$226.99', '4.6 out of 5 stars', '847', 'https://www.amazon.com/LG-29WN600-W-29-21-UltraWide/dp/B0876DBCBX/ref=sr_1_3?crid=3HANHGCT8DU6Q&dchild=1&keywords=ultrawide+monitor&qid=1610183704&sprefix=ultr%2Caps%2C238&sr=8-3')\n",
      "('Sceptre 35 Inch Curved UltraWide 21: 9 LED Creative Monitor QHD 3440x1440 Frameless AMD Freesync HDMI DisplayPort Up to 100Hz, Machine Black 2020 (C355W-3440UN)', '$379.97', '4.5 out of 5 stars', '1,311', 'https://www.amazon.com/Sceptre-C355W-3440UN-Super-Curved-Ultrawide/dp/B0812DKDD9/ref=sr_1_4?crid=3HANHGCT8DU6Q&dchild=1&keywords=ultrawide+monitor&qid=1610183704&sprefix=ultr%2Caps%2C238&sr=8-4')\n",
      "('LG 34WN80C-B 34 inch 21:9 Curved UltraWide WQHD IPS Monitor with USB Type-C Connectivity sRGB 99 percentage Color Gamut and HDR10 Compatibility, Black', '$549.99', '4.7 out of 5 stars', '1,873', 'https://www.amazon.com/LG-34WN80C-B-inch-Connectivity-Compatibility/dp/B07YGZ7C1K/ref=sr_1_5?crid=3HANHGCT8DU6Q&dchild=1&keywords=ultrawide+monitor&qid=1610183704&sprefix=ultr%2Caps%2C238&sr=8-5')\n",
      "('LG 34WK650-W 34\" UltraWide 21:9 IPS Monitor with HDR10 and FreeSync (2018), Black/White', '$395.26', '4.6 out of 5 stars', '700', 'https://www.amazon.com/LG-34WK650-W-34-UltraWide-21/dp/B078GSH1LV/ref=sr_1_6?crid=3HANHGCT8DU6Q&dchild=1&keywords=ultrawide+monitor&qid=1610183704&sprefix=ultr%2Caps%2C238&sr=8-6')\n",
      "('Samsung 32 inch UJ59 4k monitor (LU32J590UQNXZA) - UHD, 3840 x 2160p, 60hz, 4ms, Dual monitor, laptop monitor, monitor stand / riser / mount compliant, AMD FreeSync, Gaming, HDMI, DP, Black', '$319.99', '4.4 out of 5 stars', '661', 'https://www.amazon.com/gp/slredirect/picassoRedirect.html/ref=pa_sp_mtf_aps_sr_pg1_1?ie=UTF8&adId=A03488281O65SWLZBVVL6&url=%2FSamsung-U32J590-32-Inch-LED-Lit-Monitor%2Fdp%2FB07CS3JGPC%2Fref%3Dsr_1_7_sspa%3Fcrid%3D3HANHGCT8DU6Q%26dchild%3D1%26keywords%3Dultrawide%2Bmonitor%26qid%3D1610183704%26sprefix%3Dultr%252Caps%252C238%26sr%3D8-7-spons%26psc%3D1&qualifier=1610183704&id=1776468396139496&widgetName=sp_mtf')\n",
      "('SAMSUNG LC34J791WTNXZA 34-Inch CJ791 Ultrawide Curved Gaming Monitor, White', '$679.99', '4.5 out of 5 stars', '621', 'https://www.amazon.com/Samsung-CJ791-Thunderbolt-Curved-Monitor/dp/B07CS3JB5K/ref=sr_1_8?crid=3HANHGCT8DU6Q&dchild=1&keywords=ultrawide+monitor&qid=1610183704&sprefix=ultr%2Caps%2C238&sr=8-8')\n",
      "('Samsung Business CH890 Series 34 inch WQHD 3440x1440 Ultrawide Curved Desktop Monitor for Business, 100 Hz, USB-C, HDMI, DP, 3 Year Warranty (LC34H890WGNXGO), Black/Titanium', '$598.46', '4.5 out of 5 stars', '385', 'https://www.amazon.com/Samsung-Business-3440x1440-Ultrawide-LC34H890WGNXGO/dp/B08623SZH9/ref=sr_1_9?crid=3HANHGCT8DU6Q&dchild=1&keywords=ultrawide+monitor&qid=1610183704&sprefix=ultr%2Caps%2C238&sr=8-9')\n",
      "None\n",
      "('Sceptre 30-inch Curved Gaming Monitor 21:9 2560x1080 Ultra Wide Ultra Slim HDMI DisplayPort up to 200Hz Build-in Speakers, Metal Black (C305B-200UN)', '$278.99', '4.6 out of 5 stars', '4,989', 'https://www.amazon.com/Sceptre-30-inch-Curved-Gaming-Monitor/dp/B07TXM7K4T/ref=sr_1_11?crid=3HANHGCT8DU6Q&dchild=1&keywords=ultrawide+monitor&qid=1610183704&sprefix=ultr%2Caps%2C238&sr=8-11')\n",
      "('Samsung C27HG70 27\" HDR QLED 144Hz 1ms Curved Gaming Monitor with FreeSync (C27HG70QQN)', '$599.99', '4.3 out of 5 stars', '1,292', 'https://www.amazon.com/gp/slredirect/picassoRedirect.html/ref=pa_sp_mtf_aps_sr_pg1_1?ie=UTF8&adId=A0004081P6NKFEC4DPG7&url=%2FSamsung-C27HG70-27-Inch-Monitor-C27HG70QQN%2Fdp%2FB06XSQ5QN8%2Fref%3Dsr_1_12_sspa%3Fcrid%3D3HANHGCT8DU6Q%26dchild%3D1%26keywords%3Dultrawide%2Bmonitor%26qid%3D1610183704%26sprefix%3Dultr%252Caps%252C238%26sr%3D8-12-spons%26psc%3D1&qualifier=1610183704&id=1776468396139496&widgetName=sp_mtf')\n",
      "('LG 25UM58-P 25-Inch UltraWide Full HD (2560 x 1080) IPS Display', '$149.99', '4.4 out of 5 stars', '3,048', 'https://www.amazon.com/LG-25UM58-P-25-Inch-21-UltraWide/dp/B01BV1XB2K/ref=sr_1_13?crid=3HANHGCT8DU6Q&dchild=1&keywords=ultrawide+monitor&qid=1610183704&sprefix=ultr%2Caps%2C238&sr=8-13')\n",
      "('Sceptre 34-inch Curved UltraWide 21: 9 Creative LED Monitor 2560x1080 Frameless HDMI DisplayPort Up to 100Hz, Machine Black 2020 (C345W-2560UN)', '$349.97', '4.6 out of 5 stars', '628', 'https://www.amazon.com/Sceptre-C345W-2560UN-34-inch-Curved-Ultrawide/dp/B0812DHWCJ/ref=sr_1_14?crid=3HANHGCT8DU6Q&dchild=1&keywords=ultrawide+monitor&qid=1610183704&sprefix=ultr%2Caps%2C238&sr=8-14')\n",
      "None\n",
      "None\n",
      "('LG 34WN650-W 34-Inch 21:9 UltraWide Full HD (2560 x 1080) IPS Display with VESA DisplayHDR 400 and AMD FreeSync, Silver', '$346.99', '4.6 out of 5 stars', '189', 'https://www.amazon.com/gp/slredirect/picassoRedirect.html/ref=pa_sp_mtf_aps_sr_pg1_1?ie=UTF8&adId=A04179123N42D9IL2GDFG&url=%2FLG-34WN650-W-34-Inch-UltraWide-DisplayHDR%2Fdp%2FB087JB656Q%2Fref%3Dsr_1_17_sspa%3Fcrid%3D3HANHGCT8DU6Q%26dchild%3D1%26keywords%3Dultrawide%2Bmonitor%26qid%3D1610183704%26sprefix%3Dultr%252Caps%252C238%26sr%3D8-17-spons%26psc%3D1&qualifier=1610183704&id=1776468396139496&widgetName=sp_mtf')\n",
      "('LG 34WN650-W 34-Inch 21:9 UltraWide Full HD (2560 x 1080) IPS Display with VESA DisplayHDR 400 and AMD FreeSync, Silver', '$346.99', '4.6 out of 5 stars', '189', 'https://www.amazon.com/LG-34WN650-W-34-Inch-UltraWide-DisplayHDR/dp/B087JB656Q/ref=sr_1_18?crid=3HANHGCT8DU6Q&dchild=1&keywords=ultrawide+monitor&qid=1610183704&sprefix=ultr%2Caps%2C238&sr=8-18')\n",
      "('LG 34UM69G-B 34-Inch 21:9 UltraWide IPS Monitor with 1ms Motion Blur Reduction and FreeSync,Black', '$346.99', '4.6 out of 5 stars', '946', 'https://www.amazon.com/LG-34UM69G-B-34-Inch-UltraWide-Reduction/dp/B06XFXX5JH/ref=sr_1_19?crid=3HANHGCT8DU6Q&dchild=1&keywords=ultrawide+monitor&qid=1610183704&sprefix=ultr%2Caps%2C238&sr=8-19')\n",
      "None\n",
      "('LG 34\" UltraWide IPS FreeSync LED Monitor 2560 x 1080 21:9 34WL600-B', '$325.00', '4.6 out of 5 stars', '137', 'https://www.amazon.com/LG-UltraWide-FreeSync-Monitor-2560/dp/B07YRXF62V/ref=sr_1_21?crid=3HANHGCT8DU6Q&dchild=1&keywords=ultrawide+monitor&qid=1610183704&sprefix=ultr%2Caps%2C238&sr=8-21')\n",
      "('Samsung Business TU87F 32 inch 4K UHD 3840x2160 60Hz Computer Monitor for Business with Thunderbolt 3, DisplayPort, USB Hub, 3-Yr WRNTY (F32TU872VN)', '$499.99', '3.7 out of 5 stars', '21', 'https://www.amazon.com/gp/slredirect/picassoRedirect.html/ref=pa_sp_btf_aps_sr_pg1_1?ie=UTF8&adId=A09666233H8VPUUS7DYVG&url=%2FSamsung-Business-Thunderbolt-DisplayPort-F32TU872VN%2Fdp%2FB08CLSPKJG%2Fref%3Dsr_1_22_sspa%3Fcrid%3D3HANHGCT8DU6Q%26dchild%3D1%26keywords%3Dultrawide%2Bmonitor%26qid%3D1610183704%26sprefix%3Dultr%252Caps%252C238%26sr%3D8-22-spons%26psc%3D1&qualifier=1610183704&id=1776468396139496&widgetName=sp_btf')\n"
     ]
    },
    {
     "name": "stdout",
     "output_type": "stream",
     "text": [
      "('LG 34WL60TM-B 34 Inch 21:9 UltraWide 1080p Full HD IPS Monitor (Renewed)', '$279.99', '4.5 out of 5 stars', '30', 'https://www.amazon.com/gp/slredirect/picassoRedirect.html/ref=pa_sp_atf_aps_sr_pg1_1?ie=UTF8&adId=A02574201I7UKDWD8KI3C&url=%2FLG-34WL60TM-B-34-Inch-UltraWide%2Fdp%2FB084G7ZDGD%2Fref%3Dsr_1_1_sspa%3Fcrid%3D3HANHGCT8DU6Q%26dchild%3D1%26keywords%3Dultrawide%2Bmonitor%26qid%3D1610183707%26sprefix%3Dultr%252Caps%252C238%26sr%3D8-1-spons%26psc%3D1%26smid%3DAD0BANCB0IN2U&qualifier=1610183707&id=8532164450374259&widgetName=sp_atf')\n",
      "('SAMSUNG LU32R590CWNXZA 32-Inch UR590C UHD 4K Curved Gaming Monitor, Dark Blue Gray', '$419.99', '4.5 out of 5 stars', '693', 'https://www.amazon.com/gp/slredirect/picassoRedirect.html/ref=pa_sp_atf_aps_sr_pg1_1?ie=UTF8&adId=A0359020268NI7NFZOLPF&url=%2FSamsung-U32R590-Curved-Monitor-LU32R590CWNXZA%2Fdp%2FB07L9G1BFX%2Fref%3Dsr_1_2_sspa%3Fcrid%3D3HANHGCT8DU6Q%26dchild%3D1%26keywords%3Dultrawide%2Bmonitor%26qid%3D1610183707%26sprefix%3Dultr%252Caps%252C238%26sr%3D8-2-spons%26psc%3D1&qualifier=1610183707&id=8532164450374259&widgetName=sp_atf')\n",
      "('LG 29WN600-W 29\" 21:9 UltraWide WFHD IPS HDR1 0 Monitor with FreeSync, Silver', '$226.99', '4.6 out of 5 stars', '847', 'https://www.amazon.com/LG-29WN600-W-29-21-UltraWide/dp/B0876DBCBX/ref=sr_1_3?crid=3HANHGCT8DU6Q&dchild=1&keywords=ultrawide+monitor&qid=1610183707&sprefix=ultr%2Caps%2C238&sr=8-3')\n",
      "('Sceptre 35 Inch Curved UltraWide 21: 9 LED Creative Monitor QHD 3440x1440 Frameless AMD Freesync HDMI DisplayPort Up to 100Hz, Machine Black 2020 (C355W-3440UN)', '$379.97', '4.5 out of 5 stars', '1,311', 'https://www.amazon.com/Sceptre-C355W-3440UN-Super-Curved-Ultrawide/dp/B0812DKDD9/ref=sr_1_4?crid=3HANHGCT8DU6Q&dchild=1&keywords=ultrawide+monitor&qid=1610183707&sprefix=ultr%2Caps%2C238&sr=8-4')\n",
      "('LG 34WN80C-B 34 inch 21:9 Curved UltraWide WQHD IPS Monitor with USB Type-C Connectivity sRGB 99 percentage Color Gamut and HDR10 Compatibility, Black', '$549.99', '4.7 out of 5 stars', '1,873', 'https://www.amazon.com/LG-34WN80C-B-inch-Connectivity-Compatibility/dp/B07YGZ7C1K/ref=sr_1_5?crid=3HANHGCT8DU6Q&dchild=1&keywords=ultrawide+monitor&qid=1610183707&sprefix=ultr%2Caps%2C238&sr=8-5')\n",
      "('LG 34WK650-W 34\" UltraWide 21:9 IPS Monitor with HDR10 and FreeSync (2018), Black/White', '$395.26', '4.6 out of 5 stars', '700', 'https://www.amazon.com/LG-34WK650-W-34-UltraWide-21/dp/B078GSH1LV/ref=sr_1_6?crid=3HANHGCT8DU6Q&dchild=1&keywords=ultrawide+monitor&qid=1610183707&sprefix=ultr%2Caps%2C238&sr=8-6')\n",
      "('Samsung 32 inch UJ59 4k monitor (LU32J590UQNXZA) - UHD, 3840 x 2160p, 60hz, 4ms, Dual monitor, laptop monitor, monitor stand / riser / mount compliant, AMD FreeSync, Gaming, HDMI, DP, Black', '$319.99', '4.4 out of 5 stars', '661', 'https://www.amazon.com/gp/slredirect/picassoRedirect.html/ref=pa_sp_mtf_aps_sr_pg1_1?ie=UTF8&adId=A03488281O65SWLZBVVL6&url=%2FSamsung-U32J590-32-Inch-LED-Lit-Monitor%2Fdp%2FB07CS3JGPC%2Fref%3Dsr_1_7_sspa%3Fcrid%3D3HANHGCT8DU6Q%26dchild%3D1%26keywords%3Dultrawide%2Bmonitor%26qid%3D1610183707%26sprefix%3Dultr%252Caps%252C238%26sr%3D8-7-spons%26psc%3D1&qualifier=1610183707&id=8532164450374259&widgetName=sp_mtf')\n",
      "('SAMSUNG LC34J791WTNXZA 34-Inch CJ791 Ultrawide Curved Gaming Monitor, White', '$679.99', '4.5 out of 5 stars', '621', 'https://www.amazon.com/Samsung-CJ791-Thunderbolt-Curved-Monitor/dp/B07CS3JB5K/ref=sr_1_8?crid=3HANHGCT8DU6Q&dchild=1&keywords=ultrawide+monitor&qid=1610183707&sprefix=ultr%2Caps%2C238&sr=8-8')\n",
      "('Samsung Business CH890 Series 34 inch WQHD 3440x1440 Ultrawide Curved Desktop Monitor for Business, 100 Hz, USB-C, HDMI, DP, 3 Year Warranty (LC34H890WGNXGO), Black/Titanium', '$598.46', '4.5 out of 5 stars', '385', 'https://www.amazon.com/Samsung-Business-3440x1440-Ultrawide-LC34H890WGNXGO/dp/B08623SZH9/ref=sr_1_9?crid=3HANHGCT8DU6Q&dchild=1&keywords=ultrawide+monitor&qid=1610183707&sprefix=ultr%2Caps%2C238&sr=8-9')\n",
      "None\n",
      "('Sceptre 30-inch Curved Gaming Monitor 21:9 2560x1080 Ultra Wide Ultra Slim HDMI DisplayPort up to 200Hz Build-in Speakers, Metal Black (C305B-200UN)', '$278.99', '4.6 out of 5 stars', '4,989', 'https://www.amazon.com/Sceptre-30-inch-Curved-Gaming-Monitor/dp/B07TXM7K4T/ref=sr_1_11?crid=3HANHGCT8DU6Q&dchild=1&keywords=ultrawide+monitor&qid=1610183707&sprefix=ultr%2Caps%2C238&sr=8-11')\n",
      "('Samsung C27HG70 27\" HDR QLED 144Hz 1ms Curved Gaming Monitor with FreeSync (C27HG70QQN)', '$599.99', '4.3 out of 5 stars', '1,292', 'https://www.amazon.com/gp/slredirect/picassoRedirect.html/ref=pa_sp_mtf_aps_sr_pg1_1?ie=UTF8&adId=A0004081P6NKFEC4DPG7&url=%2FSamsung-C27HG70-27-Inch-Monitor-C27HG70QQN%2Fdp%2FB06XSQ5QN8%2Fref%3Dsr_1_12_sspa%3Fcrid%3D3HANHGCT8DU6Q%26dchild%3D1%26keywords%3Dultrawide%2Bmonitor%26qid%3D1610183707%26sprefix%3Dultr%252Caps%252C238%26sr%3D8-12-spons%26psc%3D1&qualifier=1610183707&id=8532164450374259&widgetName=sp_mtf')\n",
      "('LG 25UM58-P 25-Inch UltraWide Full HD (2560 x 1080) IPS Display', '$149.99', '4.4 out of 5 stars', '3,048', 'https://www.amazon.com/LG-25UM58-P-25-Inch-21-UltraWide/dp/B01BV1XB2K/ref=sr_1_13?crid=3HANHGCT8DU6Q&dchild=1&keywords=ultrawide+monitor&qid=1610183707&sprefix=ultr%2Caps%2C238&sr=8-13')\n",
      "('Sceptre 34-inch Curved UltraWide 21: 9 Creative LED Monitor 2560x1080 Frameless HDMI DisplayPort Up to 100Hz, Machine Black 2020 (C345W-2560UN)', '$349.97', '4.6 out of 5 stars', '628', 'https://www.amazon.com/Sceptre-C345W-2560UN-34-inch-Curved-Ultrawide/dp/B0812DHWCJ/ref=sr_1_14?crid=3HANHGCT8DU6Q&dchild=1&keywords=ultrawide+monitor&qid=1610183707&sprefix=ultr%2Caps%2C238&sr=8-14')\n",
      "None\n",
      "None\n",
      "('LG 34WN650-W 34-Inch 21:9 UltraWide Full HD (2560 x 1080) IPS Display with VESA DisplayHDR 400 and AMD FreeSync, Silver', '$346.99', '4.6 out of 5 stars', '189', 'https://www.amazon.com/gp/slredirect/picassoRedirect.html/ref=pa_sp_mtf_aps_sr_pg1_1?ie=UTF8&adId=A04179123N42D9IL2GDFG&url=%2FLG-34WN650-W-34-Inch-UltraWide-DisplayHDR%2Fdp%2FB087JB656Q%2Fref%3Dsr_1_17_sspa%3Fcrid%3D3HANHGCT8DU6Q%26dchild%3D1%26keywords%3Dultrawide%2Bmonitor%26qid%3D1610183707%26sprefix%3Dultr%252Caps%252C238%26sr%3D8-17-spons%26psc%3D1&qualifier=1610183707&id=8532164450374259&widgetName=sp_mtf')\n",
      "('LG 34WN650-W 34-Inch 21:9 UltraWide Full HD (2560 x 1080) IPS Display with VESA DisplayHDR 400 and AMD FreeSync, Silver', '$346.99', '4.6 out of 5 stars', '189', 'https://www.amazon.com/LG-34WN650-W-34-Inch-UltraWide-DisplayHDR/dp/B087JB656Q/ref=sr_1_18?crid=3HANHGCT8DU6Q&dchild=1&keywords=ultrawide+monitor&qid=1610183707&sprefix=ultr%2Caps%2C238&sr=8-18')\n",
      "('LG 34UM69G-B 34-Inch 21:9 UltraWide IPS Monitor with 1ms Motion Blur Reduction and FreeSync,Black', '$346.99', '4.6 out of 5 stars', '946', 'https://www.amazon.com/LG-34UM69G-B-34-Inch-UltraWide-Reduction/dp/B06XFXX5JH/ref=sr_1_19?crid=3HANHGCT8DU6Q&dchild=1&keywords=ultrawide+monitor&qid=1610183707&sprefix=ultr%2Caps%2C238&sr=8-19')\n",
      "None\n",
      "('LG 34\" UltraWide IPS FreeSync LED Monitor 2560 x 1080 21:9 34WL600-B', '$325.00', '4.6 out of 5 stars', '137', 'https://www.amazon.com/LG-UltraWide-FreeSync-Monitor-2560/dp/B07YRXF62V/ref=sr_1_21?crid=3HANHGCT8DU6Q&dchild=1&keywords=ultrawide+monitor&qid=1610183707&sprefix=ultr%2Caps%2C238&sr=8-21')\n",
      "('Samsung Business TU87F 32 inch 4K UHD 3840x2160 60Hz Computer Monitor for Business with Thunderbolt 3, DisplayPort, USB Hub, 3-Yr WRNTY (F32TU872VN)', '$499.99', '3.7 out of 5 stars', '21', 'https://www.amazon.com/gp/slredirect/picassoRedirect.html/ref=pa_sp_btf_aps_sr_pg1_1?ie=UTF8&adId=A09666233H8VPUUS7DYVG&url=%2FSamsung-Business-Thunderbolt-DisplayPort-F32TU872VN%2Fdp%2FB08CLSPKJG%2Fref%3Dsr_1_22_sspa%3Fcrid%3D3HANHGCT8DU6Q%26dchild%3D1%26keywords%3Dultrawide%2Bmonitor%26qid%3D1610183707%26sprefix%3Dultr%252Caps%252C238%26sr%3D8-22-spons%26psc%3D1&qualifier=1610183707&id=8532164450374259&widgetName=sp_btf')\n",
      "('LG 34WL60TM-B 34 Inch 21:9 UltraWide 1080p Full HD IPS Monitor (Renewed)', '$279.99', '4.5 out of 5 stars', '30', 'https://www.amazon.com/gp/slredirect/picassoRedirect.html/ref=pa_sp_atf_aps_sr_pg1_1?ie=UTF8&adId=A02574201I7UKDWD8KI3C&url=%2FLG-34WL60TM-B-34-Inch-UltraWide%2Fdp%2FB084G7ZDGD%2Fref%3Dsr_1_1_sspa%3Fcrid%3D3HANHGCT8DU6Q%26dchild%3D1%26keywords%3Dultrawide%2Bmonitor%26qid%3D1610183710%26sprefix%3Dultr%252Caps%252C238%26sr%3D8-1-spons%26psc%3D1%26smid%3DAD0BANCB0IN2U&qualifier=1610183710&id=178925291039213&widgetName=sp_atf')\n",
      "('SAMSUNG LU32R590CWNXZA 32-Inch UR590C UHD 4K Curved Gaming Monitor, Dark Blue Gray', '$419.99', '4.5 out of 5 stars', '693', 'https://www.amazon.com/gp/slredirect/picassoRedirect.html/ref=pa_sp_atf_aps_sr_pg1_1?ie=UTF8&adId=A0359020268NI7NFZOLPF&url=%2FSamsung-U32R590-Curved-Monitor-LU32R590CWNXZA%2Fdp%2FB07L9G1BFX%2Fref%3Dsr_1_2_sspa%3Fcrid%3D3HANHGCT8DU6Q%26dchild%3D1%26keywords%3Dultrawide%2Bmonitor%26qid%3D1610183710%26sprefix%3Dultr%252Caps%252C238%26sr%3D8-2-spons%26psc%3D1&qualifier=1610183710&id=178925291039213&widgetName=sp_atf')\n",
      "('LG 29WN600-W 29\" 21:9 UltraWide WFHD IPS HDR1 0 Monitor with FreeSync, Silver', '$226.99', '4.6 out of 5 stars', '847', 'https://www.amazon.com/LG-29WN600-W-29-21-UltraWide/dp/B0876DBCBX/ref=sr_1_3?crid=3HANHGCT8DU6Q&dchild=1&keywords=ultrawide+monitor&qid=1610183710&sprefix=ultr%2Caps%2C238&sr=8-3')\n",
      "('Sceptre 35 Inch Curved UltraWide 21: 9 LED Creative Monitor QHD 3440x1440 Frameless AMD Freesync HDMI DisplayPort Up to 100Hz, Machine Black 2020 (C355W-3440UN)', '$379.97', '4.5 out of 5 stars', '1,311', 'https://www.amazon.com/Sceptre-C355W-3440UN-Super-Curved-Ultrawide/dp/B0812DKDD9/ref=sr_1_4?crid=3HANHGCT8DU6Q&dchild=1&keywords=ultrawide+monitor&qid=1610183710&sprefix=ultr%2Caps%2C238&sr=8-4')\n",
      "('LG 34WN80C-B 34 inch 21:9 Curved UltraWide WQHD IPS Monitor with USB Type-C Connectivity sRGB 99 percentage Color Gamut and HDR10 Compatibility, Black', '$549.99', '4.7 out of 5 stars', '1,873', 'https://www.amazon.com/LG-34WN80C-B-inch-Connectivity-Compatibility/dp/B07YGZ7C1K/ref=sr_1_5?crid=3HANHGCT8DU6Q&dchild=1&keywords=ultrawide+monitor&qid=1610183710&sprefix=ultr%2Caps%2C238&sr=8-5')\n",
      "('LG 34WK650-W 34\" UltraWide 21:9 IPS Monitor with HDR10 and FreeSync (2018), Black/White', '$395.26', '4.6 out of 5 stars', '700', 'https://www.amazon.com/LG-34WK650-W-34-UltraWide-21/dp/B078GSH1LV/ref=sr_1_6?crid=3HANHGCT8DU6Q&dchild=1&keywords=ultrawide+monitor&qid=1610183710&sprefix=ultr%2Caps%2C238&sr=8-6')\n",
      "('Samsung 32 inch UJ59 4k monitor (LU32J590UQNXZA) - UHD, 3840 x 2160p, 60hz, 4ms, Dual monitor, laptop monitor, monitor stand / riser / mount compliant, AMD FreeSync, Gaming, HDMI, DP, Black', '$319.99', '4.4 out of 5 stars', '661', 'https://www.amazon.com/gp/slredirect/picassoRedirect.html/ref=pa_sp_mtf_aps_sr_pg1_1?ie=UTF8&adId=A03488281O65SWLZBVVL6&url=%2FSamsung-U32J590-32-Inch-LED-Lit-Monitor%2Fdp%2FB07CS3JGPC%2Fref%3Dsr_1_7_sspa%3Fcrid%3D3HANHGCT8DU6Q%26dchild%3D1%26keywords%3Dultrawide%2Bmonitor%26qid%3D1610183710%26sprefix%3Dultr%252Caps%252C238%26sr%3D8-7-spons%26psc%3D1&qualifier=1610183710&id=178925291039213&widgetName=sp_mtf')\n",
      "('SAMSUNG LC34J791WTNXZA 34-Inch CJ791 Ultrawide Curved Gaming Monitor, White', '$679.99', '4.5 out of 5 stars', '621', 'https://www.amazon.com/Samsung-CJ791-Thunderbolt-Curved-Monitor/dp/B07CS3JB5K/ref=sr_1_8?crid=3HANHGCT8DU6Q&dchild=1&keywords=ultrawide+monitor&qid=1610183710&sprefix=ultr%2Caps%2C238&sr=8-8')\n",
      "('Samsung Business CH890 Series 34 inch WQHD 3440x1440 Ultrawide Curved Desktop Monitor for Business, 100 Hz, USB-C, HDMI, DP, 3 Year Warranty (LC34H890WGNXGO), Black/Titanium', '$598.46', '4.5 out of 5 stars', '385', 'https://www.amazon.com/Samsung-Business-3440x1440-Ultrawide-LC34H890WGNXGO/dp/B08623SZH9/ref=sr_1_9?crid=3HANHGCT8DU6Q&dchild=1&keywords=ultrawide+monitor&qid=1610183710&sprefix=ultr%2Caps%2C238&sr=8-9')\n",
      "None\n",
      "('Sceptre 30-inch Curved Gaming Monitor 21:9 2560x1080 Ultra Wide Ultra Slim HDMI DisplayPort up to 200Hz Build-in Speakers, Metal Black (C305B-200UN)', '$278.99', '4.6 out of 5 stars', '4,989', 'https://www.amazon.com/Sceptre-30-inch-Curved-Gaming-Monitor/dp/B07TXM7K4T/ref=sr_1_11?crid=3HANHGCT8DU6Q&dchild=1&keywords=ultrawide+monitor&qid=1610183710&sprefix=ultr%2Caps%2C238&sr=8-11')\n",
      "('Samsung C27HG70 27\" HDR QLED 144Hz 1ms Curved Gaming Monitor with FreeSync (C27HG70QQN)', '$599.99', '4.3 out of 5 stars', '1,292', 'https://www.amazon.com/gp/slredirect/picassoRedirect.html/ref=pa_sp_mtf_aps_sr_pg1_1?ie=UTF8&adId=A0004081P6NKFEC4DPG7&url=%2FSamsung-C27HG70-27-Inch-Monitor-C27HG70QQN%2Fdp%2FB06XSQ5QN8%2Fref%3Dsr_1_12_sspa%3Fcrid%3D3HANHGCT8DU6Q%26dchild%3D1%26keywords%3Dultrawide%2Bmonitor%26qid%3D1610183710%26sprefix%3Dultr%252Caps%252C238%26sr%3D8-12-spons%26psc%3D1&qualifier=1610183710&id=178925291039213&widgetName=sp_mtf')\n",
      "('LG 25UM58-P 25-Inch UltraWide Full HD (2560 x 1080) IPS Display', '$149.99', '4.4 out of 5 stars', '3,048', 'https://www.amazon.com/LG-25UM58-P-25-Inch-21-UltraWide/dp/B01BV1XB2K/ref=sr_1_13?crid=3HANHGCT8DU6Q&dchild=1&keywords=ultrawide+monitor&qid=1610183710&sprefix=ultr%2Caps%2C238&sr=8-13')\n",
      "('Sceptre 34-inch Curved UltraWide 21: 9 Creative LED Monitor 2560x1080 Frameless HDMI DisplayPort Up to 100Hz, Machine Black 2020 (C345W-2560UN)', '$349.97', '4.6 out of 5 stars', '628', 'https://www.amazon.com/Sceptre-C345W-2560UN-34-inch-Curved-Ultrawide/dp/B0812DHWCJ/ref=sr_1_14?crid=3HANHGCT8DU6Q&dchild=1&keywords=ultrawide+monitor&qid=1610183710&sprefix=ultr%2Caps%2C238&sr=8-14')\n",
      "None\n",
      "None\n",
      "('LG 34WN650-W 34-Inch 21:9 UltraWide Full HD (2560 x 1080) IPS Display with VESA DisplayHDR 400 and AMD FreeSync, Silver', '$346.99', '4.6 out of 5 stars', '189', 'https://www.amazon.com/gp/slredirect/picassoRedirect.html/ref=pa_sp_mtf_aps_sr_pg1_1?ie=UTF8&adId=A04179123N42D9IL2GDFG&url=%2FLG-34WN650-W-34-Inch-UltraWide-DisplayHDR%2Fdp%2FB087JB656Q%2Fref%3Dsr_1_17_sspa%3Fcrid%3D3HANHGCT8DU6Q%26dchild%3D1%26keywords%3Dultrawide%2Bmonitor%26qid%3D1610183710%26sprefix%3Dultr%252Caps%252C238%26sr%3D8-17-spons%26psc%3D1&qualifier=1610183710&id=178925291039213&widgetName=sp_mtf')\n",
      "('LG 34WN650-W 34-Inch 21:9 UltraWide Full HD (2560 x 1080) IPS Display with VESA DisplayHDR 400 and AMD FreeSync, Silver', '$346.99', '4.6 out of 5 stars', '189', 'https://www.amazon.com/LG-34WN650-W-34-Inch-UltraWide-DisplayHDR/dp/B087JB656Q/ref=sr_1_18?crid=3HANHGCT8DU6Q&dchild=1&keywords=ultrawide+monitor&qid=1610183710&sprefix=ultr%2Caps%2C238&sr=8-18')\n",
      "('LG 34UM69G-B 34-Inch 21:9 UltraWide IPS Monitor with 1ms Motion Blur Reduction and FreeSync,Black', '$346.99', '4.6 out of 5 stars', '946', 'https://www.amazon.com/LG-34UM69G-B-34-Inch-UltraWide-Reduction/dp/B06XFXX5JH/ref=sr_1_19?crid=3HANHGCT8DU6Q&dchild=1&keywords=ultrawide+monitor&qid=1610183710&sprefix=ultr%2Caps%2C238&sr=8-19')\n",
      "None\n",
      "('LG 34\" UltraWide IPS FreeSync LED Monitor 2560 x 1080 21:9 34WL600-B', '$325.00', '4.6 out of 5 stars', '137', 'https://www.amazon.com/LG-UltraWide-FreeSync-Monitor-2560/dp/B07YRXF62V/ref=sr_1_21?crid=3HANHGCT8DU6Q&dchild=1&keywords=ultrawide+monitor&qid=1610183710&sprefix=ultr%2Caps%2C238&sr=8-21')\n",
      "('Samsung Business TU87F 32 inch 4K UHD 3840x2160 60Hz Computer Monitor for Business with Thunderbolt 3, DisplayPort, USB Hub, 3-Yr WRNTY (F32TU872VN)', '$499.99', '3.7 out of 5 stars', '21', 'https://www.amazon.com/gp/slredirect/picassoRedirect.html/ref=pa_sp_btf_aps_sr_pg1_1?ie=UTF8&adId=A09666233H8VPUUS7DYVG&url=%2FSamsung-Business-Thunderbolt-DisplayPort-F32TU872VN%2Fdp%2FB08CLSPKJG%2Fref%3Dsr_1_22_sspa%3Fcrid%3D3HANHGCT8DU6Q%26dchild%3D1%26keywords%3Dultrawide%2Bmonitor%26qid%3D1610183710%26sprefix%3Dultr%252Caps%252C238%26sr%3D8-22-spons%26psc%3D1&qualifier=1610183710&id=178925291039213&widgetName=sp_btf')\n"
     ]
    },
    {
     "name": "stdout",
     "output_type": "stream",
     "text": [
      "('LG 34WL60TM-B 34 Inch 21:9 UltraWide 1080p Full HD IPS Monitor (Renewed)', '$279.99', '4.5 out of 5 stars', '30', 'https://www.amazon.com/gp/slredirect/picassoRedirect.html/ref=pa_sp_atf_aps_sr_pg1_1?ie=UTF8&adId=A02574201I7UKDWD8KI3C&url=%2FLG-34WL60TM-B-34-Inch-UltraWide%2Fdp%2FB084G7ZDGD%2Fref%3Dsr_1_1_sspa%3Fcrid%3D3HANHGCT8DU6Q%26dchild%3D1%26keywords%3Dultrawide%2Bmonitor%26qid%3D1610183713%26sprefix%3Dultr%252Caps%252C238%26sr%3D8-1-spons%26psc%3D1%26smid%3DAD0BANCB0IN2U&qualifier=1610183713&id=4501380060984416&widgetName=sp_atf')\n",
      "('SAMSUNG LU32R590CWNXZA 32-Inch UR590C UHD 4K Curved Gaming Monitor, Dark Blue Gray', '$419.99', '4.5 out of 5 stars', '693', 'https://www.amazon.com/gp/slredirect/picassoRedirect.html/ref=pa_sp_atf_aps_sr_pg1_1?ie=UTF8&adId=A0359020268NI7NFZOLPF&url=%2FSamsung-U32R590-Curved-Monitor-LU32R590CWNXZA%2Fdp%2FB07L9G1BFX%2Fref%3Dsr_1_2_sspa%3Fcrid%3D3HANHGCT8DU6Q%26dchild%3D1%26keywords%3Dultrawide%2Bmonitor%26qid%3D1610183713%26sprefix%3Dultr%252Caps%252C238%26sr%3D8-2-spons%26psc%3D1&qualifier=1610183713&id=4501380060984416&widgetName=sp_atf')\n",
      "('LG 29WN600-W 29\" 21:9 UltraWide WFHD IPS HDR1 0 Monitor with FreeSync, Silver', '$226.99', '4.6 out of 5 stars', '847', 'https://www.amazon.com/LG-29WN600-W-29-21-UltraWide/dp/B0876DBCBX/ref=sr_1_3?crid=3HANHGCT8DU6Q&dchild=1&keywords=ultrawide+monitor&qid=1610183713&sprefix=ultr%2Caps%2C238&sr=8-3')\n",
      "('Sceptre 35 Inch Curved UltraWide 21: 9 LED Creative Monitor QHD 3440x1440 Frameless AMD Freesync HDMI DisplayPort Up to 100Hz, Machine Black 2020 (C355W-3440UN)', '$379.97', '4.5 out of 5 stars', '1,311', 'https://www.amazon.com/Sceptre-C355W-3440UN-Super-Curved-Ultrawide/dp/B0812DKDD9/ref=sr_1_4?crid=3HANHGCT8DU6Q&dchild=1&keywords=ultrawide+monitor&qid=1610183713&sprefix=ultr%2Caps%2C238&sr=8-4')\n",
      "('LG 34WN80C-B 34 inch 21:9 Curved UltraWide WQHD IPS Monitor with USB Type-C Connectivity sRGB 99 percentage Color Gamut and HDR10 Compatibility, Black', '$549.99', '4.7 out of 5 stars', '1,873', 'https://www.amazon.com/LG-34WN80C-B-inch-Connectivity-Compatibility/dp/B07YGZ7C1K/ref=sr_1_5?crid=3HANHGCT8DU6Q&dchild=1&keywords=ultrawide+monitor&qid=1610183713&sprefix=ultr%2Caps%2C238&sr=8-5')\n",
      "('LG 34WK650-W 34\" UltraWide 21:9 IPS Monitor with HDR10 and FreeSync (2018), Black/White', '$395.26', '4.6 out of 5 stars', '700', 'https://www.amazon.com/LG-34WK650-W-34-UltraWide-21/dp/B078GSH1LV/ref=sr_1_6?crid=3HANHGCT8DU6Q&dchild=1&keywords=ultrawide+monitor&qid=1610183713&sprefix=ultr%2Caps%2C238&sr=8-6')\n",
      "('Samsung 32 inch UJ59 4k monitor (LU32J590UQNXZA) - UHD, 3840 x 2160p, 60hz, 4ms, Dual monitor, laptop monitor, monitor stand / riser / mount compliant, AMD FreeSync, Gaming, HDMI, DP, Black', '$319.99', '4.4 out of 5 stars', '661', 'https://www.amazon.com/gp/slredirect/picassoRedirect.html/ref=pa_sp_mtf_aps_sr_pg1_1?ie=UTF8&adId=A03488281O65SWLZBVVL6&url=%2FSamsung-U32J590-32-Inch-LED-Lit-Monitor%2Fdp%2FB07CS3JGPC%2Fref%3Dsr_1_7_sspa%3Fcrid%3D3HANHGCT8DU6Q%26dchild%3D1%26keywords%3Dultrawide%2Bmonitor%26qid%3D1610183713%26sprefix%3Dultr%252Caps%252C238%26sr%3D8-7-spons%26psc%3D1&qualifier=1610183713&id=4501380060984416&widgetName=sp_mtf')\n",
      "('SAMSUNG LC34J791WTNXZA 34-Inch CJ791 Ultrawide Curved Gaming Monitor, White', '$679.99', '4.5 out of 5 stars', '621', 'https://www.amazon.com/Samsung-CJ791-Thunderbolt-Curved-Monitor/dp/B07CS3JB5K/ref=sr_1_8?crid=3HANHGCT8DU6Q&dchild=1&keywords=ultrawide+monitor&qid=1610183713&sprefix=ultr%2Caps%2C238&sr=8-8')\n",
      "('Samsung Business CH890 Series 34 inch WQHD 3440x1440 Ultrawide Curved Desktop Monitor for Business, 100 Hz, USB-C, HDMI, DP, 3 Year Warranty (LC34H890WGNXGO), Black/Titanium', '$598.46', '4.5 out of 5 stars', '385', 'https://www.amazon.com/Samsung-Business-3440x1440-Ultrawide-LC34H890WGNXGO/dp/B08623SZH9/ref=sr_1_9?crid=3HANHGCT8DU6Q&dchild=1&keywords=ultrawide+monitor&qid=1610183713&sprefix=ultr%2Caps%2C238&sr=8-9')\n",
      "None\n",
      "('Sceptre 30-inch Curved Gaming Monitor 21:9 2560x1080 Ultra Wide Ultra Slim HDMI DisplayPort up to 200Hz Build-in Speakers, Metal Black (C305B-200UN)', '$278.99', '4.6 out of 5 stars', '4,989', 'https://www.amazon.com/Sceptre-30-inch-Curved-Gaming-Monitor/dp/B07TXM7K4T/ref=sr_1_11?crid=3HANHGCT8DU6Q&dchild=1&keywords=ultrawide+monitor&qid=1610183713&sprefix=ultr%2Caps%2C238&sr=8-11')\n",
      "('Samsung C27HG70 27\" HDR QLED 144Hz 1ms Curved Gaming Monitor with FreeSync (C27HG70QQN)', '$599.99', '4.3 out of 5 stars', '1,292', 'https://www.amazon.com/gp/slredirect/picassoRedirect.html/ref=pa_sp_mtf_aps_sr_pg1_1?ie=UTF8&adId=A0004081P6NKFEC4DPG7&url=%2FSamsung-C27HG70-27-Inch-Monitor-C27HG70QQN%2Fdp%2FB06XSQ5QN8%2Fref%3Dsr_1_12_sspa%3Fcrid%3D3HANHGCT8DU6Q%26dchild%3D1%26keywords%3Dultrawide%2Bmonitor%26qid%3D1610183713%26sprefix%3Dultr%252Caps%252C238%26sr%3D8-12-spons%26psc%3D1&qualifier=1610183713&id=4501380060984416&widgetName=sp_mtf')\n",
      "('LG 25UM58-P 25-Inch UltraWide Full HD (2560 x 1080) IPS Display', '$149.99', '4.4 out of 5 stars', '3,048', 'https://www.amazon.com/LG-25UM58-P-25-Inch-21-UltraWide/dp/B01BV1XB2K/ref=sr_1_13?crid=3HANHGCT8DU6Q&dchild=1&keywords=ultrawide+monitor&qid=1610183713&sprefix=ultr%2Caps%2C238&sr=8-13')\n",
      "('Sceptre 34-inch Curved UltraWide 21: 9 Creative LED Monitor 2560x1080 Frameless HDMI DisplayPort Up to 100Hz, Machine Black 2020 (C345W-2560UN)', '$349.97', '4.6 out of 5 stars', '628', 'https://www.amazon.com/Sceptre-C345W-2560UN-34-inch-Curved-Ultrawide/dp/B0812DHWCJ/ref=sr_1_14?crid=3HANHGCT8DU6Q&dchild=1&keywords=ultrawide+monitor&qid=1610183713&sprefix=ultr%2Caps%2C238&sr=8-14')\n",
      "None\n",
      "None\n",
      "('LG 34WN650-W 34-Inch 21:9 UltraWide Full HD (2560 x 1080) IPS Display with VESA DisplayHDR 400 and AMD FreeSync, Silver', '$346.99', '4.6 out of 5 stars', '189', 'https://www.amazon.com/gp/slredirect/picassoRedirect.html/ref=pa_sp_mtf_aps_sr_pg1_1?ie=UTF8&adId=A04179123N42D9IL2GDFG&url=%2FLG-34WN650-W-34-Inch-UltraWide-DisplayHDR%2Fdp%2FB087JB656Q%2Fref%3Dsr_1_17_sspa%3Fcrid%3D3HANHGCT8DU6Q%26dchild%3D1%26keywords%3Dultrawide%2Bmonitor%26qid%3D1610183713%26sprefix%3Dultr%252Caps%252C238%26sr%3D8-17-spons%26psc%3D1&qualifier=1610183713&id=4501380060984416&widgetName=sp_mtf')\n",
      "('LG 34WN650-W 34-Inch 21:9 UltraWide Full HD (2560 x 1080) IPS Display with VESA DisplayHDR 400 and AMD FreeSync, Silver', '$346.99', '4.6 out of 5 stars', '189', 'https://www.amazon.com/LG-34WN650-W-34-Inch-UltraWide-DisplayHDR/dp/B087JB656Q/ref=sr_1_18?crid=3HANHGCT8DU6Q&dchild=1&keywords=ultrawide+monitor&qid=1610183713&sprefix=ultr%2Caps%2C238&sr=8-18')\n",
      "('LG 34UM69G-B 34-Inch 21:9 UltraWide IPS Monitor with 1ms Motion Blur Reduction and FreeSync,Black', '$346.99', '4.6 out of 5 stars', '946', 'https://www.amazon.com/LG-34UM69G-B-34-Inch-UltraWide-Reduction/dp/B06XFXX5JH/ref=sr_1_19?crid=3HANHGCT8DU6Q&dchild=1&keywords=ultrawide+monitor&qid=1610183713&sprefix=ultr%2Caps%2C238&sr=8-19')\n",
      "None\n",
      "('LG 34\" UltraWide IPS FreeSync LED Monitor 2560 x 1080 21:9 34WL600-B', '$325.00', '4.6 out of 5 stars', '137', 'https://www.amazon.com/LG-UltraWide-FreeSync-Monitor-2560/dp/B07YRXF62V/ref=sr_1_21?crid=3HANHGCT8DU6Q&dchild=1&keywords=ultrawide+monitor&qid=1610183713&sprefix=ultr%2Caps%2C238&sr=8-21')\n",
      "('Samsung Business TU87F 32 inch 4K UHD 3840x2160 60Hz Computer Monitor for Business with Thunderbolt 3, DisplayPort, USB Hub, 3-Yr WRNTY (F32TU872VN)', '$499.99', '3.7 out of 5 stars', '21', 'https://www.amazon.com/gp/slredirect/picassoRedirect.html/ref=pa_sp_btf_aps_sr_pg1_1?ie=UTF8&adId=A09666233H8VPUUS7DYVG&url=%2FSamsung-Business-Thunderbolt-DisplayPort-F32TU872VN%2Fdp%2FB08CLSPKJG%2Fref%3Dsr_1_22_sspa%3Fcrid%3D3HANHGCT8DU6Q%26dchild%3D1%26keywords%3Dultrawide%2Bmonitor%26qid%3D1610183713%26sprefix%3Dultr%252Caps%252C238%26sr%3D8-22-spons%26psc%3D1&qualifier=1610183713&id=4501380060984416&widgetName=sp_btf')\n",
      "('LG 34WL60TM-B 34 Inch 21:9 UltraWide 1080p Full HD IPS Monitor (Renewed)', '$279.99', '4.5 out of 5 stars', '30', 'https://www.amazon.com/gp/slredirect/picassoRedirect.html/ref=pa_sp_atf_aps_sr_pg1_1?ie=UTF8&adId=A02574201I7UKDWD8KI3C&url=%2FLG-34WL60TM-B-34-Inch-UltraWide%2Fdp%2FB084G7ZDGD%2Fref%3Dsr_1_1_sspa%3Fcrid%3D3HANHGCT8DU6Q%26dchild%3D1%26keywords%3Dultrawide%2Bmonitor%26qid%3D1610183716%26sprefix%3Dultr%252Caps%252C238%26sr%3D8-1-spons%26psc%3D1%26smid%3DAD0BANCB0IN2U&qualifier=1610183716&id=6545615253090185&widgetName=sp_atf')\n",
      "('SAMSUNG LU32R590CWNXZA 32-Inch UR590C UHD 4K Curved Gaming Monitor, Dark Blue Gray', '$419.99', '4.5 out of 5 stars', '693', 'https://www.amazon.com/gp/slredirect/picassoRedirect.html/ref=pa_sp_atf_aps_sr_pg1_1?ie=UTF8&adId=A0359020268NI7NFZOLPF&url=%2FSamsung-U32R590-Curved-Monitor-LU32R590CWNXZA%2Fdp%2FB07L9G1BFX%2Fref%3Dsr_1_2_sspa%3Fcrid%3D3HANHGCT8DU6Q%26dchild%3D1%26keywords%3Dultrawide%2Bmonitor%26qid%3D1610183716%26sprefix%3Dultr%252Caps%252C238%26sr%3D8-2-spons%26psc%3D1&qualifier=1610183716&id=6545615253090185&widgetName=sp_atf')\n",
      "('LG 29WN600-W 29\" 21:9 UltraWide WFHD IPS HDR1 0 Monitor with FreeSync, Silver', '$226.99', '4.6 out of 5 stars', '847', 'https://www.amazon.com/LG-29WN600-W-29-21-UltraWide/dp/B0876DBCBX/ref=sr_1_3?crid=3HANHGCT8DU6Q&dchild=1&keywords=ultrawide+monitor&qid=1610183716&sprefix=ultr%2Caps%2C238&sr=8-3')\n",
      "('Sceptre 35 Inch Curved UltraWide 21: 9 LED Creative Monitor QHD 3440x1440 Frameless AMD Freesync HDMI DisplayPort Up to 100Hz, Machine Black 2020 (C355W-3440UN)', '$379.97', '4.5 out of 5 stars', '1,311', 'https://www.amazon.com/Sceptre-C355W-3440UN-Super-Curved-Ultrawide/dp/B0812DKDD9/ref=sr_1_4?crid=3HANHGCT8DU6Q&dchild=1&keywords=ultrawide+monitor&qid=1610183716&sprefix=ultr%2Caps%2C238&sr=8-4')\n",
      "('LG 34WN80C-B 34 inch 21:9 Curved UltraWide WQHD IPS Monitor with USB Type-C Connectivity sRGB 99 percentage Color Gamut and HDR10 Compatibility, Black', '$549.99', '4.7 out of 5 stars', '1,873', 'https://www.amazon.com/LG-34WN80C-B-inch-Connectivity-Compatibility/dp/B07YGZ7C1K/ref=sr_1_5?crid=3HANHGCT8DU6Q&dchild=1&keywords=ultrawide+monitor&qid=1610183716&sprefix=ultr%2Caps%2C238&sr=8-5')\n",
      "('LG 34WK650-W 34\" UltraWide 21:9 IPS Monitor with HDR10 and FreeSync (2018), Black/White', '$395.26', '4.6 out of 5 stars', '700', 'https://www.amazon.com/LG-34WK650-W-34-UltraWide-21/dp/B078GSH1LV/ref=sr_1_6?crid=3HANHGCT8DU6Q&dchild=1&keywords=ultrawide+monitor&qid=1610183716&sprefix=ultr%2Caps%2C238&sr=8-6')\n",
      "('Samsung 32 inch UJ59 4k monitor (LU32J590UQNXZA) - UHD, 3840 x 2160p, 60hz, 4ms, Dual monitor, laptop monitor, monitor stand / riser / mount compliant, AMD FreeSync, Gaming, HDMI, DP, Black', '$319.99', '4.4 out of 5 stars', '661', 'https://www.amazon.com/gp/slredirect/picassoRedirect.html/ref=pa_sp_mtf_aps_sr_pg1_1?ie=UTF8&adId=A03488281O65SWLZBVVL6&url=%2FSamsung-U32J590-32-Inch-LED-Lit-Monitor%2Fdp%2FB07CS3JGPC%2Fref%3Dsr_1_7_sspa%3Fcrid%3D3HANHGCT8DU6Q%26dchild%3D1%26keywords%3Dultrawide%2Bmonitor%26qid%3D1610183716%26sprefix%3Dultr%252Caps%252C238%26sr%3D8-7-spons%26psc%3D1&qualifier=1610183716&id=6545615253090185&widgetName=sp_mtf')\n",
      "('SAMSUNG LC34J791WTNXZA 34-Inch CJ791 Ultrawide Curved Gaming Monitor, White', '$679.99', '4.5 out of 5 stars', '621', 'https://www.amazon.com/Samsung-CJ791-Thunderbolt-Curved-Monitor/dp/B07CS3JB5K/ref=sr_1_8?crid=3HANHGCT8DU6Q&dchild=1&keywords=ultrawide+monitor&qid=1610183716&sprefix=ultr%2Caps%2C238&sr=8-8')\n",
      "('Samsung Business CH890 Series 34 inch WQHD 3440x1440 Ultrawide Curved Desktop Monitor for Business, 100 Hz, USB-C, HDMI, DP, 3 Year Warranty (LC34H890WGNXGO), Black/Titanium', '$598.46', '4.5 out of 5 stars', '385', 'https://www.amazon.com/Samsung-Business-3440x1440-Ultrawide-LC34H890WGNXGO/dp/B08623SZH9/ref=sr_1_9?crid=3HANHGCT8DU6Q&dchild=1&keywords=ultrawide+monitor&qid=1610183716&sprefix=ultr%2Caps%2C238&sr=8-9')\n",
      "None\n",
      "('Sceptre 30-inch Curved Gaming Monitor 21:9 2560x1080 Ultra Wide Ultra Slim HDMI DisplayPort up to 200Hz Build-in Speakers, Metal Black (C305B-200UN)', '$278.99', '4.6 out of 5 stars', '4,989', 'https://www.amazon.com/Sceptre-30-inch-Curved-Gaming-Monitor/dp/B07TXM7K4T/ref=sr_1_11?crid=3HANHGCT8DU6Q&dchild=1&keywords=ultrawide+monitor&qid=1610183716&sprefix=ultr%2Caps%2C238&sr=8-11')\n",
      "('Samsung C27HG70 27\" HDR QLED 144Hz 1ms Curved Gaming Monitor with FreeSync (C27HG70QQN)', '$599.99', '4.3 out of 5 stars', '1,292', 'https://www.amazon.com/gp/slredirect/picassoRedirect.html/ref=pa_sp_mtf_aps_sr_pg1_1?ie=UTF8&adId=A0004081P6NKFEC4DPG7&url=%2FSamsung-C27HG70-27-Inch-Monitor-C27HG70QQN%2Fdp%2FB06XSQ5QN8%2Fref%3Dsr_1_12_sspa%3Fcrid%3D3HANHGCT8DU6Q%26dchild%3D1%26keywords%3Dultrawide%2Bmonitor%26qid%3D1610183716%26sprefix%3Dultr%252Caps%252C238%26sr%3D8-12-spons%26psc%3D1&qualifier=1610183716&id=6545615253090185&widgetName=sp_mtf')\n",
      "('LG 25UM58-P 25-Inch UltraWide Full HD (2560 x 1080) IPS Display', '$149.99', '4.4 out of 5 stars', '3,048', 'https://www.amazon.com/LG-25UM58-P-25-Inch-21-UltraWide/dp/B01BV1XB2K/ref=sr_1_13?crid=3HANHGCT8DU6Q&dchild=1&keywords=ultrawide+monitor&qid=1610183716&sprefix=ultr%2Caps%2C238&sr=8-13')\n",
      "('Sceptre 34-inch Curved UltraWide 21: 9 Creative LED Monitor 2560x1080 Frameless HDMI DisplayPort Up to 100Hz, Machine Black 2020 (C345W-2560UN)', '$349.97', '4.6 out of 5 stars', '628', 'https://www.amazon.com/Sceptre-C345W-2560UN-34-inch-Curved-Ultrawide/dp/B0812DHWCJ/ref=sr_1_14?crid=3HANHGCT8DU6Q&dchild=1&keywords=ultrawide+monitor&qid=1610183716&sprefix=ultr%2Caps%2C238&sr=8-14')\n",
      "None\n",
      "None\n",
      "('LG 34WN650-W 34-Inch 21:9 UltraWide Full HD (2560 x 1080) IPS Display with VESA DisplayHDR 400 and AMD FreeSync, Silver', '$346.99', '4.6 out of 5 stars', '189', 'https://www.amazon.com/gp/slredirect/picassoRedirect.html/ref=pa_sp_mtf_aps_sr_pg1_1?ie=UTF8&adId=A04179123N42D9IL2GDFG&url=%2FLG-34WN650-W-34-Inch-UltraWide-DisplayHDR%2Fdp%2FB087JB656Q%2Fref%3Dsr_1_17_sspa%3Fcrid%3D3HANHGCT8DU6Q%26dchild%3D1%26keywords%3Dultrawide%2Bmonitor%26qid%3D1610183716%26sprefix%3Dultr%252Caps%252C238%26sr%3D8-17-spons%26psc%3D1&qualifier=1610183716&id=6545615253090185&widgetName=sp_mtf')\n",
      "('LG 34WN650-W 34-Inch 21:9 UltraWide Full HD (2560 x 1080) IPS Display with VESA DisplayHDR 400 and AMD FreeSync, Silver', '$346.99', '4.6 out of 5 stars', '189', 'https://www.amazon.com/LG-34WN650-W-34-Inch-UltraWide-DisplayHDR/dp/B087JB656Q/ref=sr_1_18?crid=3HANHGCT8DU6Q&dchild=1&keywords=ultrawide+monitor&qid=1610183716&sprefix=ultr%2Caps%2C238&sr=8-18')\n",
      "('LG 34UM69G-B 34-Inch 21:9 UltraWide IPS Monitor with 1ms Motion Blur Reduction and FreeSync,Black', '$346.99', '4.6 out of 5 stars', '946', 'https://www.amazon.com/LG-34UM69G-B-34-Inch-UltraWide-Reduction/dp/B06XFXX5JH/ref=sr_1_19?crid=3HANHGCT8DU6Q&dchild=1&keywords=ultrawide+monitor&qid=1610183716&sprefix=ultr%2Caps%2C238&sr=8-19')\n",
      "None\n",
      "('LG 34\" UltraWide IPS FreeSync LED Monitor 2560 x 1080 21:9 34WL600-B', '$325.00', '4.6 out of 5 stars', '137', 'https://www.amazon.com/LG-UltraWide-FreeSync-Monitor-2560/dp/B07YRXF62V/ref=sr_1_21?crid=3HANHGCT8DU6Q&dchild=1&keywords=ultrawide+monitor&qid=1610183716&sprefix=ultr%2Caps%2C238&sr=8-21')\n",
      "('Samsung Business TU87F 32 inch 4K UHD 3840x2160 60Hz Computer Monitor for Business with Thunderbolt 3, DisplayPort, USB Hub, 3-Yr WRNTY (F32TU872VN)', '$499.99', '3.7 out of 5 stars', '21', 'https://www.amazon.com/gp/slredirect/picassoRedirect.html/ref=pa_sp_btf_aps_sr_pg1_1?ie=UTF8&adId=A09666233H8VPUUS7DYVG&url=%2FSamsung-Business-Thunderbolt-DisplayPort-F32TU872VN%2Fdp%2FB08CLSPKJG%2Fref%3Dsr_1_22_sspa%3Fcrid%3D3HANHGCT8DU6Q%26dchild%3D1%26keywords%3Dultrawide%2Bmonitor%26qid%3D1610183716%26sprefix%3Dultr%252Caps%252C238%26sr%3D8-22-spons%26psc%3D1&qualifier=1610183716&id=6545615253090185&widgetName=sp_btf')\n"
     ]
    },
    {
     "name": "stdout",
     "output_type": "stream",
     "text": [
      "('LG 34WL60TM-B 34 Inch 21:9 UltraWide 1080p Full HD IPS Monitor (Renewed)', '$279.99', '4.5 out of 5 stars', '30', 'https://www.amazon.com/gp/slredirect/picassoRedirect.html/ref=pa_sp_atf_aps_sr_pg1_1?ie=UTF8&adId=A02574201I7UKDWD8KI3C&url=%2FLG-34WL60TM-B-34-Inch-UltraWide%2Fdp%2FB084G7ZDGD%2Fref%3Dsr_1_1_sspa%3Fcrid%3D3HANHGCT8DU6Q%26dchild%3D1%26keywords%3Dultrawide%2Bmonitor%26qid%3D1610183718%26sprefix%3Dultr%252Caps%252C238%26sr%3D8-1-spons%26psc%3D1%26smid%3DAD0BANCB0IN2U&qualifier=1610183718&id=4598947423285889&widgetName=sp_atf')\n",
      "('SAMSUNG LU32R590CWNXZA 32-Inch UR590C UHD 4K Curved Gaming Monitor, Dark Blue Gray', '$419.99', '4.5 out of 5 stars', '693', 'https://www.amazon.com/gp/slredirect/picassoRedirect.html/ref=pa_sp_atf_aps_sr_pg1_1?ie=UTF8&adId=A0359020268NI7NFZOLPF&url=%2FSamsung-U32R590-Curved-Monitor-LU32R590CWNXZA%2Fdp%2FB07L9G1BFX%2Fref%3Dsr_1_2_sspa%3Fcrid%3D3HANHGCT8DU6Q%26dchild%3D1%26keywords%3Dultrawide%2Bmonitor%26qid%3D1610183718%26sprefix%3Dultr%252Caps%252C238%26sr%3D8-2-spons%26psc%3D1&qualifier=1610183718&id=4598947423285889&widgetName=sp_atf')\n",
      "('LG 29WN600-W 29\" 21:9 UltraWide WFHD IPS HDR1 0 Monitor with FreeSync, Silver', '$226.99', '4.6 out of 5 stars', '847', 'https://www.amazon.com/LG-29WN600-W-29-21-UltraWide/dp/B0876DBCBX/ref=sr_1_3?crid=3HANHGCT8DU6Q&dchild=1&keywords=ultrawide+monitor&qid=1610183718&sprefix=ultr%2Caps%2C238&sr=8-3')\n",
      "('Sceptre 35 Inch Curved UltraWide 21: 9 LED Creative Monitor QHD 3440x1440 Frameless AMD Freesync HDMI DisplayPort Up to 100Hz, Machine Black 2020 (C355W-3440UN)', '$379.97', '4.5 out of 5 stars', '1,311', 'https://www.amazon.com/Sceptre-C355W-3440UN-Super-Curved-Ultrawide/dp/B0812DKDD9/ref=sr_1_4?crid=3HANHGCT8DU6Q&dchild=1&keywords=ultrawide+monitor&qid=1610183718&sprefix=ultr%2Caps%2C238&sr=8-4')\n",
      "('LG 34WN80C-B 34 inch 21:9 Curved UltraWide WQHD IPS Monitor with USB Type-C Connectivity sRGB 99 percentage Color Gamut and HDR10 Compatibility, Black', '$549.99', '4.7 out of 5 stars', '1,873', 'https://www.amazon.com/LG-34WN80C-B-inch-Connectivity-Compatibility/dp/B07YGZ7C1K/ref=sr_1_5?crid=3HANHGCT8DU6Q&dchild=1&keywords=ultrawide+monitor&qid=1610183718&sprefix=ultr%2Caps%2C238&sr=8-5')\n",
      "('LG 34WK650-W 34\" UltraWide 21:9 IPS Monitor with HDR10 and FreeSync (2018), Black/White', '$395.26', '4.6 out of 5 stars', '700', 'https://www.amazon.com/LG-34WK650-W-34-UltraWide-21/dp/B078GSH1LV/ref=sr_1_6?crid=3HANHGCT8DU6Q&dchild=1&keywords=ultrawide+monitor&qid=1610183718&sprefix=ultr%2Caps%2C238&sr=8-6')\n",
      "('Samsung 32 inch UJ59 4k monitor (LU32J590UQNXZA) - UHD, 3840 x 2160p, 60hz, 4ms, Dual monitor, laptop monitor, monitor stand / riser / mount compliant, AMD FreeSync, Gaming, HDMI, DP, Black', '$319.99', '4.4 out of 5 stars', '661', 'https://www.amazon.com/gp/slredirect/picassoRedirect.html/ref=pa_sp_mtf_aps_sr_pg1_1?ie=UTF8&adId=A03488281O65SWLZBVVL6&url=%2FSamsung-U32J590-32-Inch-LED-Lit-Monitor%2Fdp%2FB07CS3JGPC%2Fref%3Dsr_1_7_sspa%3Fcrid%3D3HANHGCT8DU6Q%26dchild%3D1%26keywords%3Dultrawide%2Bmonitor%26qid%3D1610183718%26sprefix%3Dultr%252Caps%252C238%26sr%3D8-7-spons%26psc%3D1&qualifier=1610183718&id=4598947423285889&widgetName=sp_mtf')\n",
      "('SAMSUNG LC34J791WTNXZA 34-Inch CJ791 Ultrawide Curved Gaming Monitor, White', '$679.99', '4.5 out of 5 stars', '621', 'https://www.amazon.com/Samsung-CJ791-Thunderbolt-Curved-Monitor/dp/B07CS3JB5K/ref=sr_1_8?crid=3HANHGCT8DU6Q&dchild=1&keywords=ultrawide+monitor&qid=1610183718&sprefix=ultr%2Caps%2C238&sr=8-8')\n",
      "('Samsung Business CH890 Series 34 inch WQHD 3440x1440 Ultrawide Curved Desktop Monitor for Business, 100 Hz, USB-C, HDMI, DP, 3 Year Warranty (LC34H890WGNXGO), Black/Titanium', '$598.46', '4.5 out of 5 stars', '385', 'https://www.amazon.com/Samsung-Business-3440x1440-Ultrawide-LC34H890WGNXGO/dp/B08623SZH9/ref=sr_1_9?crid=3HANHGCT8DU6Q&dchild=1&keywords=ultrawide+monitor&qid=1610183718&sprefix=ultr%2Caps%2C238&sr=8-9')\n",
      "None\n",
      "('Sceptre 30-inch Curved Gaming Monitor 21:9 2560x1080 Ultra Wide Ultra Slim HDMI DisplayPort up to 200Hz Build-in Speakers, Metal Black (C305B-200UN)', '$278.99', '4.6 out of 5 stars', '4,989', 'https://www.amazon.com/Sceptre-30-inch-Curved-Gaming-Monitor/dp/B07TXM7K4T/ref=sr_1_11?crid=3HANHGCT8DU6Q&dchild=1&keywords=ultrawide+monitor&qid=1610183718&sprefix=ultr%2Caps%2C238&sr=8-11')\n",
      "('Samsung C27HG70 27\" HDR QLED 144Hz 1ms Curved Gaming Monitor with FreeSync (C27HG70QQN)', '$599.99', '4.3 out of 5 stars', '1,292', 'https://www.amazon.com/gp/slredirect/picassoRedirect.html/ref=pa_sp_mtf_aps_sr_pg1_1?ie=UTF8&adId=A0004081P6NKFEC4DPG7&url=%2FSamsung-C27HG70-27-Inch-Monitor-C27HG70QQN%2Fdp%2FB06XSQ5QN8%2Fref%3Dsr_1_12_sspa%3Fcrid%3D3HANHGCT8DU6Q%26dchild%3D1%26keywords%3Dultrawide%2Bmonitor%26qid%3D1610183718%26sprefix%3Dultr%252Caps%252C238%26sr%3D8-12-spons%26psc%3D1&qualifier=1610183718&id=4598947423285889&widgetName=sp_mtf')\n",
      "('LG 25UM58-P 25-Inch UltraWide Full HD (2560 x 1080) IPS Display', '$149.99', '4.4 out of 5 stars', '3,048', 'https://www.amazon.com/LG-25UM58-P-25-Inch-21-UltraWide/dp/B01BV1XB2K/ref=sr_1_13?crid=3HANHGCT8DU6Q&dchild=1&keywords=ultrawide+monitor&qid=1610183718&sprefix=ultr%2Caps%2C238&sr=8-13')\n",
      "('Sceptre 34-inch Curved UltraWide 21: 9 Creative LED Monitor 2560x1080 Frameless HDMI DisplayPort Up to 100Hz, Machine Black 2020 (C345W-2560UN)', '$349.97', '4.6 out of 5 stars', '628', 'https://www.amazon.com/Sceptre-C345W-2560UN-34-inch-Curved-Ultrawide/dp/B0812DHWCJ/ref=sr_1_14?crid=3HANHGCT8DU6Q&dchild=1&keywords=ultrawide+monitor&qid=1610183718&sprefix=ultr%2Caps%2C238&sr=8-14')\n",
      "None\n",
      "None\n",
      "('LG 34WN650-W 34-Inch 21:9 UltraWide Full HD (2560 x 1080) IPS Display with VESA DisplayHDR 400 and AMD FreeSync, Silver', '$346.99', '4.6 out of 5 stars', '189', 'https://www.amazon.com/gp/slredirect/picassoRedirect.html/ref=pa_sp_mtf_aps_sr_pg1_1?ie=UTF8&adId=A04179123N42D9IL2GDFG&url=%2FLG-34WN650-W-34-Inch-UltraWide-DisplayHDR%2Fdp%2FB087JB656Q%2Fref%3Dsr_1_17_sspa%3Fcrid%3D3HANHGCT8DU6Q%26dchild%3D1%26keywords%3Dultrawide%2Bmonitor%26qid%3D1610183718%26sprefix%3Dultr%252Caps%252C238%26sr%3D8-17-spons%26psc%3D1&qualifier=1610183718&id=4598947423285889&widgetName=sp_mtf')\n",
      "('LG 34WN650-W 34-Inch 21:9 UltraWide Full HD (2560 x 1080) IPS Display with VESA DisplayHDR 400 and AMD FreeSync, Silver', '$346.99', '4.6 out of 5 stars', '189', 'https://www.amazon.com/LG-34WN650-W-34-Inch-UltraWide-DisplayHDR/dp/B087JB656Q/ref=sr_1_18?crid=3HANHGCT8DU6Q&dchild=1&keywords=ultrawide+monitor&qid=1610183718&sprefix=ultr%2Caps%2C238&sr=8-18')\n",
      "('LG 34UM69G-B 34-Inch 21:9 UltraWide IPS Monitor with 1ms Motion Blur Reduction and FreeSync,Black', '$346.99', '4.6 out of 5 stars', '946', 'https://www.amazon.com/LG-34UM69G-B-34-Inch-UltraWide-Reduction/dp/B06XFXX5JH/ref=sr_1_19?crid=3HANHGCT8DU6Q&dchild=1&keywords=ultrawide+monitor&qid=1610183718&sprefix=ultr%2Caps%2C238&sr=8-19')\n",
      "None\n",
      "('LG 34\" UltraWide IPS FreeSync LED Monitor 2560 x 1080 21:9 34WL600-B', '$325.00', '4.6 out of 5 stars', '137', 'https://www.amazon.com/LG-UltraWide-FreeSync-Monitor-2560/dp/B07YRXF62V/ref=sr_1_21?crid=3HANHGCT8DU6Q&dchild=1&keywords=ultrawide+monitor&qid=1610183718&sprefix=ultr%2Caps%2C238&sr=8-21')\n",
      "('Samsung Business TU87F 32 inch 4K UHD 3840x2160 60Hz Computer Monitor for Business with Thunderbolt 3, DisplayPort, USB Hub, 3-Yr WRNTY (F32TU872VN)', '$499.99', '3.7 out of 5 stars', '21', 'https://www.amazon.com/gp/slredirect/picassoRedirect.html/ref=pa_sp_btf_aps_sr_pg1_1?ie=UTF8&adId=A09666233H8VPUUS7DYVG&url=%2FSamsung-Business-Thunderbolt-DisplayPort-F32TU872VN%2Fdp%2FB08CLSPKJG%2Fref%3Dsr_1_22_sspa%3Fcrid%3D3HANHGCT8DU6Q%26dchild%3D1%26keywords%3Dultrawide%2Bmonitor%26qid%3D1610183718%26sprefix%3Dultr%252Caps%252C238%26sr%3D8-22-spons%26psc%3D1&qualifier=1610183718&id=4598947423285889&widgetName=sp_btf')\n",
      "('LG 34WL60TM-B 34 Inch 21:9 UltraWide 1080p Full HD IPS Monitor (Renewed)', '$279.99', '4.5 out of 5 stars', '30', 'https://www.amazon.com/gp/slredirect/picassoRedirect.html/ref=pa_sp_atf_aps_sr_pg1_1?ie=UTF8&adId=A02574201I7UKDWD8KI3C&url=%2FLG-34WL60TM-B-34-Inch-UltraWide%2Fdp%2FB084G7ZDGD%2Fref%3Dsr_1_1_sspa%3Fcrid%3D3HANHGCT8DU6Q%26dchild%3D1%26keywords%3Dultrawide%2Bmonitor%26qid%3D1610183720%26sprefix%3Dultr%252Caps%252C238%26sr%3D8-1-spons%26psc%3D1%26smid%3DAD0BANCB0IN2U&qualifier=1610183720&id=2258033142662802&widgetName=sp_atf')\n",
      "('SAMSUNG LU32R590CWNXZA 32-Inch UR590C UHD 4K Curved Gaming Monitor, Dark Blue Gray', '$419.99', '4.5 out of 5 stars', '693', 'https://www.amazon.com/gp/slredirect/picassoRedirect.html/ref=pa_sp_atf_aps_sr_pg1_1?ie=UTF8&adId=A0359020268NI7NFZOLPF&url=%2FSamsung-U32R590-Curved-Monitor-LU32R590CWNXZA%2Fdp%2FB07L9G1BFX%2Fref%3Dsr_1_2_sspa%3Fcrid%3D3HANHGCT8DU6Q%26dchild%3D1%26keywords%3Dultrawide%2Bmonitor%26qid%3D1610183720%26sprefix%3Dultr%252Caps%252C238%26sr%3D8-2-spons%26psc%3D1&qualifier=1610183720&id=2258033142662802&widgetName=sp_atf')\n",
      "('LG 29WN600-W 29\" 21:9 UltraWide WFHD IPS HDR1 0 Monitor with FreeSync, Silver', '$226.99', '4.6 out of 5 stars', '847', 'https://www.amazon.com/LG-29WN600-W-29-21-UltraWide/dp/B0876DBCBX/ref=sr_1_3?crid=3HANHGCT8DU6Q&dchild=1&keywords=ultrawide+monitor&qid=1610183720&sprefix=ultr%2Caps%2C238&sr=8-3')\n",
      "('Sceptre 35 Inch Curved UltraWide 21: 9 LED Creative Monitor QHD 3440x1440 Frameless AMD Freesync HDMI DisplayPort Up to 100Hz, Machine Black 2020 (C355W-3440UN)', '$379.97', '4.5 out of 5 stars', '1,311', 'https://www.amazon.com/Sceptre-C355W-3440UN-Super-Curved-Ultrawide/dp/B0812DKDD9/ref=sr_1_4?crid=3HANHGCT8DU6Q&dchild=1&keywords=ultrawide+monitor&qid=1610183720&sprefix=ultr%2Caps%2C238&sr=8-4')\n",
      "('LG 34WN80C-B 34 inch 21:9 Curved UltraWide WQHD IPS Monitor with USB Type-C Connectivity sRGB 99 percentage Color Gamut and HDR10 Compatibility, Black', '$549.99', '4.7 out of 5 stars', '1,873', 'https://www.amazon.com/LG-34WN80C-B-inch-Connectivity-Compatibility/dp/B07YGZ7C1K/ref=sr_1_5?crid=3HANHGCT8DU6Q&dchild=1&keywords=ultrawide+monitor&qid=1610183720&sprefix=ultr%2Caps%2C238&sr=8-5')\n",
      "('LG 34WK650-W 34\" UltraWide 21:9 IPS Monitor with HDR10 and FreeSync (2018), Black/White', '$395.26', '4.6 out of 5 stars', '700', 'https://www.amazon.com/LG-34WK650-W-34-UltraWide-21/dp/B078GSH1LV/ref=sr_1_6?crid=3HANHGCT8DU6Q&dchild=1&keywords=ultrawide+monitor&qid=1610183720&sprefix=ultr%2Caps%2C238&sr=8-6')\n",
      "('Samsung 32 inch UJ59 4k monitor (LU32J590UQNXZA) - UHD, 3840 x 2160p, 60hz, 4ms, Dual monitor, laptop monitor, monitor stand / riser / mount compliant, AMD FreeSync, Gaming, HDMI, DP, Black', '$319.99', '4.4 out of 5 stars', '661', 'https://www.amazon.com/gp/slredirect/picassoRedirect.html/ref=pa_sp_mtf_aps_sr_pg1_1?ie=UTF8&adId=A03488281O65SWLZBVVL6&url=%2FSamsung-U32J590-32-Inch-LED-Lit-Monitor%2Fdp%2FB07CS3JGPC%2Fref%3Dsr_1_7_sspa%3Fcrid%3D3HANHGCT8DU6Q%26dchild%3D1%26keywords%3Dultrawide%2Bmonitor%26qid%3D1610183720%26sprefix%3Dultr%252Caps%252C238%26sr%3D8-7-spons%26psc%3D1&qualifier=1610183720&id=2258033142662802&widgetName=sp_mtf')\n",
      "('SAMSUNG LC34J791WTNXZA 34-Inch CJ791 Ultrawide Curved Gaming Monitor, White', '$679.99', '4.5 out of 5 stars', '621', 'https://www.amazon.com/Samsung-CJ791-Thunderbolt-Curved-Monitor/dp/B07CS3JB5K/ref=sr_1_8?crid=3HANHGCT8DU6Q&dchild=1&keywords=ultrawide+monitor&qid=1610183720&sprefix=ultr%2Caps%2C238&sr=8-8')\n",
      "('Samsung Business CH890 Series 34 inch WQHD 3440x1440 Ultrawide Curved Desktop Monitor for Business, 100 Hz, USB-C, HDMI, DP, 3 Year Warranty (LC34H890WGNXGO), Black/Titanium', '$598.46', '4.5 out of 5 stars', '385', 'https://www.amazon.com/Samsung-Business-3440x1440-Ultrawide-LC34H890WGNXGO/dp/B08623SZH9/ref=sr_1_9?crid=3HANHGCT8DU6Q&dchild=1&keywords=ultrawide+monitor&qid=1610183720&sprefix=ultr%2Caps%2C238&sr=8-9')\n",
      "None\n",
      "('Sceptre 30-inch Curved Gaming Monitor 21:9 2560x1080 Ultra Wide Ultra Slim HDMI DisplayPort up to 200Hz Build-in Speakers, Metal Black (C305B-200UN)', '$278.99', '4.6 out of 5 stars', '4,989', 'https://www.amazon.com/Sceptre-30-inch-Curved-Gaming-Monitor/dp/B07TXM7K4T/ref=sr_1_11?crid=3HANHGCT8DU6Q&dchild=1&keywords=ultrawide+monitor&qid=1610183720&sprefix=ultr%2Caps%2C238&sr=8-11')\n",
      "('Samsung C27HG70 27\" HDR QLED 144Hz 1ms Curved Gaming Monitor with FreeSync (C27HG70QQN)', '$599.99', '4.3 out of 5 stars', '1,292', 'https://www.amazon.com/gp/slredirect/picassoRedirect.html/ref=pa_sp_mtf_aps_sr_pg1_1?ie=UTF8&adId=A0004081P6NKFEC4DPG7&url=%2FSamsung-C27HG70-27-Inch-Monitor-C27HG70QQN%2Fdp%2FB06XSQ5QN8%2Fref%3Dsr_1_12_sspa%3Fcrid%3D3HANHGCT8DU6Q%26dchild%3D1%26keywords%3Dultrawide%2Bmonitor%26qid%3D1610183720%26sprefix%3Dultr%252Caps%252C238%26sr%3D8-12-spons%26psc%3D1&qualifier=1610183720&id=2258033142662802&widgetName=sp_mtf')\n",
      "('LG 25UM58-P 25-Inch UltraWide Full HD (2560 x 1080) IPS Display', '$149.99', '4.4 out of 5 stars', '3,048', 'https://www.amazon.com/LG-25UM58-P-25-Inch-21-UltraWide/dp/B01BV1XB2K/ref=sr_1_13?crid=3HANHGCT8DU6Q&dchild=1&keywords=ultrawide+monitor&qid=1610183720&sprefix=ultr%2Caps%2C238&sr=8-13')\n",
      "('Sceptre 34-inch Curved UltraWide 21: 9 Creative LED Monitor 2560x1080 Frameless HDMI DisplayPort Up to 100Hz, Machine Black 2020 (C345W-2560UN)', '$349.97', '4.6 out of 5 stars', '628', 'https://www.amazon.com/Sceptre-C345W-2560UN-34-inch-Curved-Ultrawide/dp/B0812DHWCJ/ref=sr_1_14?crid=3HANHGCT8DU6Q&dchild=1&keywords=ultrawide+monitor&qid=1610183720&sprefix=ultr%2Caps%2C238&sr=8-14')\n",
      "None\n",
      "None\n",
      "('LG 34WN650-W 34-Inch 21:9 UltraWide Full HD (2560 x 1080) IPS Display with VESA DisplayHDR 400 and AMD FreeSync, Silver', '$346.99', '4.6 out of 5 stars', '189', 'https://www.amazon.com/gp/slredirect/picassoRedirect.html/ref=pa_sp_mtf_aps_sr_pg1_1?ie=UTF8&adId=A04179123N42D9IL2GDFG&url=%2FLG-34WN650-W-34-Inch-UltraWide-DisplayHDR%2Fdp%2FB087JB656Q%2Fref%3Dsr_1_17_sspa%3Fcrid%3D3HANHGCT8DU6Q%26dchild%3D1%26keywords%3Dultrawide%2Bmonitor%26qid%3D1610183720%26sprefix%3Dultr%252Caps%252C238%26sr%3D8-17-spons%26psc%3D1&qualifier=1610183720&id=2258033142662802&widgetName=sp_mtf')\n",
      "('LG 34WN650-W 34-Inch 21:9 UltraWide Full HD (2560 x 1080) IPS Display with VESA DisplayHDR 400 and AMD FreeSync, Silver', '$346.99', '4.6 out of 5 stars', '189', 'https://www.amazon.com/LG-34WN650-W-34-Inch-UltraWide-DisplayHDR/dp/B087JB656Q/ref=sr_1_18?crid=3HANHGCT8DU6Q&dchild=1&keywords=ultrawide+monitor&qid=1610183720&sprefix=ultr%2Caps%2C238&sr=8-18')\n",
      "('LG 34UM69G-B 34-Inch 21:9 UltraWide IPS Monitor with 1ms Motion Blur Reduction and FreeSync,Black', '$346.99', '4.6 out of 5 stars', '946', 'https://www.amazon.com/LG-34UM69G-B-34-Inch-UltraWide-Reduction/dp/B06XFXX5JH/ref=sr_1_19?crid=3HANHGCT8DU6Q&dchild=1&keywords=ultrawide+monitor&qid=1610183720&sprefix=ultr%2Caps%2C238&sr=8-19')\n",
      "None\n",
      "('LG 34\" UltraWide IPS FreeSync LED Monitor 2560 x 1080 21:9 34WL600-B', '$325.00', '4.6 out of 5 stars', '137', 'https://www.amazon.com/LG-UltraWide-FreeSync-Monitor-2560/dp/B07YRXF62V/ref=sr_1_21?crid=3HANHGCT8DU6Q&dchild=1&keywords=ultrawide+monitor&qid=1610183720&sprefix=ultr%2Caps%2C238&sr=8-21')\n",
      "('Samsung Business TU87F 32 inch 4K UHD 3840x2160 60Hz Computer Monitor for Business with Thunderbolt 3, DisplayPort, USB Hub, 3-Yr WRNTY (F32TU872VN)', '$499.99', '3.7 out of 5 stars', '21', 'https://www.amazon.com/gp/slredirect/picassoRedirect.html/ref=pa_sp_btf_aps_sr_pg1_1?ie=UTF8&adId=A09666233H8VPUUS7DYVG&url=%2FSamsung-Business-Thunderbolt-DisplayPort-F32TU872VN%2Fdp%2FB08CLSPKJG%2Fref%3Dsr_1_22_sspa%3Fcrid%3D3HANHGCT8DU6Q%26dchild%3D1%26keywords%3Dultrawide%2Bmonitor%26qid%3D1610183720%26sprefix%3Dultr%252Caps%252C238%26sr%3D8-22-spons%26psc%3D1&qualifier=1610183720&id=2258033142662802&widgetName=sp_btf')\n"
     ]
    },
    {
     "name": "stdout",
     "output_type": "stream",
     "text": [
      "('LG 34WL60TM-B 34 Inch 21:9 UltraWide 1080p Full HD IPS Monitor (Renewed)', '$279.99', '4.5 out of 5 stars', '30', 'https://www.amazon.com/gp/slredirect/picassoRedirect.html/ref=pa_sp_atf_aps_sr_pg1_1?ie=UTF8&adId=A02574201I7UKDWD8KI3C&url=%2FLG-34WL60TM-B-34-Inch-UltraWide%2Fdp%2FB084G7ZDGD%2Fref%3Dsr_1_1_sspa%3Fcrid%3D3HANHGCT8DU6Q%26dchild%3D1%26keywords%3Dultrawide%2Bmonitor%26qid%3D1610183723%26sprefix%3Dultr%252Caps%252C238%26sr%3D8-1-spons%26psc%3D1%26smid%3DAD0BANCB0IN2U&qualifier=1610183723&id=887069314577220&widgetName=sp_atf')\n",
      "('SAMSUNG LU32R590CWNXZA 32-Inch UR590C UHD 4K Curved Gaming Monitor, Dark Blue Gray', '$419.99', '4.5 out of 5 stars', '693', 'https://www.amazon.com/gp/slredirect/picassoRedirect.html/ref=pa_sp_atf_aps_sr_pg1_1?ie=UTF8&adId=A0359020268NI7NFZOLPF&url=%2FSamsung-U32R590-Curved-Monitor-LU32R590CWNXZA%2Fdp%2FB07L9G1BFX%2Fref%3Dsr_1_2_sspa%3Fcrid%3D3HANHGCT8DU6Q%26dchild%3D1%26keywords%3Dultrawide%2Bmonitor%26qid%3D1610183723%26sprefix%3Dultr%252Caps%252C238%26sr%3D8-2-spons%26psc%3D1&qualifier=1610183723&id=887069314577220&widgetName=sp_atf')\n",
      "('LG 29WN600-W 29\" 21:9 UltraWide WFHD IPS HDR1 0 Monitor with FreeSync, Silver', '$226.99', '4.6 out of 5 stars', '847', 'https://www.amazon.com/LG-29WN600-W-29-21-UltraWide/dp/B0876DBCBX/ref=sr_1_3?crid=3HANHGCT8DU6Q&dchild=1&keywords=ultrawide+monitor&qid=1610183723&sprefix=ultr%2Caps%2C238&sr=8-3')\n",
      "('Sceptre 35 Inch Curved UltraWide 21: 9 LED Creative Monitor QHD 3440x1440 Frameless AMD Freesync HDMI DisplayPort Up to 100Hz, Machine Black 2020 (C355W-3440UN)', '$379.97', '4.5 out of 5 stars', '1,311', 'https://www.amazon.com/Sceptre-C355W-3440UN-Super-Curved-Ultrawide/dp/B0812DKDD9/ref=sr_1_4?crid=3HANHGCT8DU6Q&dchild=1&keywords=ultrawide+monitor&qid=1610183723&sprefix=ultr%2Caps%2C238&sr=8-4')\n",
      "('LG 34WN80C-B 34 inch 21:9 Curved UltraWide WQHD IPS Monitor with USB Type-C Connectivity sRGB 99 percentage Color Gamut and HDR10 Compatibility, Black', '$549.99', '4.7 out of 5 stars', '1,873', 'https://www.amazon.com/LG-34WN80C-B-inch-Connectivity-Compatibility/dp/B07YGZ7C1K/ref=sr_1_5?crid=3HANHGCT8DU6Q&dchild=1&keywords=ultrawide+monitor&qid=1610183723&sprefix=ultr%2Caps%2C238&sr=8-5')\n",
      "('LG 34WK650-W 34\" UltraWide 21:9 IPS Monitor with HDR10 and FreeSync (2018), Black/White', '$395.26', '4.6 out of 5 stars', '700', 'https://www.amazon.com/LG-34WK650-W-34-UltraWide-21/dp/B078GSH1LV/ref=sr_1_6?crid=3HANHGCT8DU6Q&dchild=1&keywords=ultrawide+monitor&qid=1610183723&sprefix=ultr%2Caps%2C238&sr=8-6')\n",
      "('Samsung 32 inch UJ59 4k monitor (LU32J590UQNXZA) - UHD, 3840 x 2160p, 60hz, 4ms, Dual monitor, laptop monitor, monitor stand / riser / mount compliant, AMD FreeSync, Gaming, HDMI, DP, Black', '$319.99', '4.4 out of 5 stars', '661', 'https://www.amazon.com/gp/slredirect/picassoRedirect.html/ref=pa_sp_mtf_aps_sr_pg1_1?ie=UTF8&adId=A03488281O65SWLZBVVL6&url=%2FSamsung-U32J590-32-Inch-LED-Lit-Monitor%2Fdp%2FB07CS3JGPC%2Fref%3Dsr_1_7_sspa%3Fcrid%3D3HANHGCT8DU6Q%26dchild%3D1%26keywords%3Dultrawide%2Bmonitor%26qid%3D1610183723%26sprefix%3Dultr%252Caps%252C238%26sr%3D8-7-spons%26psc%3D1&qualifier=1610183723&id=887069314577220&widgetName=sp_mtf')\n",
      "('SAMSUNG LC34J791WTNXZA 34-Inch CJ791 Ultrawide Curved Gaming Monitor, White', '$679.99', '4.5 out of 5 stars', '621', 'https://www.amazon.com/Samsung-CJ791-Thunderbolt-Curved-Monitor/dp/B07CS3JB5K/ref=sr_1_8?crid=3HANHGCT8DU6Q&dchild=1&keywords=ultrawide+monitor&qid=1610183723&sprefix=ultr%2Caps%2C238&sr=8-8')\n",
      "('Samsung Business CH890 Series 34 inch WQHD 3440x1440 Ultrawide Curved Desktop Monitor for Business, 100 Hz, USB-C, HDMI, DP, 3 Year Warranty (LC34H890WGNXGO), Black/Titanium', '$598.46', '4.5 out of 5 stars', '385', 'https://www.amazon.com/Samsung-Business-3440x1440-Ultrawide-LC34H890WGNXGO/dp/B08623SZH9/ref=sr_1_9?crid=3HANHGCT8DU6Q&dchild=1&keywords=ultrawide+monitor&qid=1610183723&sprefix=ultr%2Caps%2C238&sr=8-9')\n",
      "None\n",
      "('Sceptre 30-inch Curved Gaming Monitor 21:9 2560x1080 Ultra Wide Ultra Slim HDMI DisplayPort up to 200Hz Build-in Speakers, Metal Black (C305B-200UN)', '$278.99', '4.6 out of 5 stars', '4,989', 'https://www.amazon.com/Sceptre-30-inch-Curved-Gaming-Monitor/dp/B07TXM7K4T/ref=sr_1_11?crid=3HANHGCT8DU6Q&dchild=1&keywords=ultrawide+monitor&qid=1610183723&sprefix=ultr%2Caps%2C238&sr=8-11')\n",
      "('Samsung C27HG70 27\" HDR QLED 144Hz 1ms Curved Gaming Monitor with FreeSync (C27HG70QQN)', '$599.99', '4.3 out of 5 stars', '1,292', 'https://www.amazon.com/gp/slredirect/picassoRedirect.html/ref=pa_sp_mtf_aps_sr_pg1_1?ie=UTF8&adId=A0004081P6NKFEC4DPG7&url=%2FSamsung-C27HG70-27-Inch-Monitor-C27HG70QQN%2Fdp%2FB06XSQ5QN8%2Fref%3Dsr_1_12_sspa%3Fcrid%3D3HANHGCT8DU6Q%26dchild%3D1%26keywords%3Dultrawide%2Bmonitor%26qid%3D1610183723%26sprefix%3Dultr%252Caps%252C238%26sr%3D8-12-spons%26psc%3D1&qualifier=1610183723&id=887069314577220&widgetName=sp_mtf')\n",
      "('LG 25UM58-P 25-Inch UltraWide Full HD (2560 x 1080) IPS Display', '$149.99', '4.4 out of 5 stars', '3,048', 'https://www.amazon.com/LG-25UM58-P-25-Inch-21-UltraWide/dp/B01BV1XB2K/ref=sr_1_13?crid=3HANHGCT8DU6Q&dchild=1&keywords=ultrawide+monitor&qid=1610183723&sprefix=ultr%2Caps%2C238&sr=8-13')\n",
      "('Sceptre 34-inch Curved UltraWide 21: 9 Creative LED Monitor 2560x1080 Frameless HDMI DisplayPort Up to 100Hz, Machine Black 2020 (C345W-2560UN)', '$349.97', '4.6 out of 5 stars', '628', 'https://www.amazon.com/Sceptre-C345W-2560UN-34-inch-Curved-Ultrawide/dp/B0812DHWCJ/ref=sr_1_14?crid=3HANHGCT8DU6Q&dchild=1&keywords=ultrawide+monitor&qid=1610183723&sprefix=ultr%2Caps%2C238&sr=8-14')\n",
      "None\n",
      "None\n",
      "('LG 34WN650-W 34-Inch 21:9 UltraWide Full HD (2560 x 1080) IPS Display with VESA DisplayHDR 400 and AMD FreeSync, Silver', '$346.99', '4.6 out of 5 stars', '189', 'https://www.amazon.com/gp/slredirect/picassoRedirect.html/ref=pa_sp_mtf_aps_sr_pg1_1?ie=UTF8&adId=A04179123N42D9IL2GDFG&url=%2FLG-34WN650-W-34-Inch-UltraWide-DisplayHDR%2Fdp%2FB087JB656Q%2Fref%3Dsr_1_17_sspa%3Fcrid%3D3HANHGCT8DU6Q%26dchild%3D1%26keywords%3Dultrawide%2Bmonitor%26qid%3D1610183723%26sprefix%3Dultr%252Caps%252C238%26sr%3D8-17-spons%26psc%3D1&qualifier=1610183723&id=887069314577220&widgetName=sp_mtf')\n",
      "('LG 34WN650-W 34-Inch 21:9 UltraWide Full HD (2560 x 1080) IPS Display with VESA DisplayHDR 400 and AMD FreeSync, Silver', '$346.99', '4.6 out of 5 stars', '189', 'https://www.amazon.com/LG-34WN650-W-34-Inch-UltraWide-DisplayHDR/dp/B087JB656Q/ref=sr_1_18?crid=3HANHGCT8DU6Q&dchild=1&keywords=ultrawide+monitor&qid=1610183723&sprefix=ultr%2Caps%2C238&sr=8-18')\n",
      "('LG 34UM69G-B 34-Inch 21:9 UltraWide IPS Monitor with 1ms Motion Blur Reduction and FreeSync,Black', '$346.99', '4.6 out of 5 stars', '946', 'https://www.amazon.com/LG-34UM69G-B-34-Inch-UltraWide-Reduction/dp/B06XFXX5JH/ref=sr_1_19?crid=3HANHGCT8DU6Q&dchild=1&keywords=ultrawide+monitor&qid=1610183723&sprefix=ultr%2Caps%2C238&sr=8-19')\n",
      "None\n",
      "('LG 34\" UltraWide IPS FreeSync LED Monitor 2560 x 1080 21:9 34WL600-B', '$325.00', '4.6 out of 5 stars', '137', 'https://www.amazon.com/LG-UltraWide-FreeSync-Monitor-2560/dp/B07YRXF62V/ref=sr_1_21?crid=3HANHGCT8DU6Q&dchild=1&keywords=ultrawide+monitor&qid=1610183723&sprefix=ultr%2Caps%2C238&sr=8-21')\n",
      "('Samsung Business TU87F 32 inch 4K UHD 3840x2160 60Hz Computer Monitor for Business with Thunderbolt 3, DisplayPort, USB Hub, 3-Yr WRNTY (F32TU872VN)', '$499.99', '3.7 out of 5 stars', '21', 'https://www.amazon.com/gp/slredirect/picassoRedirect.html/ref=pa_sp_btf_aps_sr_pg1_1?ie=UTF8&adId=A09666233H8VPUUS7DYVG&url=%2FSamsung-Business-Thunderbolt-DisplayPort-F32TU872VN%2Fdp%2FB08CLSPKJG%2Fref%3Dsr_1_22_sspa%3Fcrid%3D3HANHGCT8DU6Q%26dchild%3D1%26keywords%3Dultrawide%2Bmonitor%26qid%3D1610183723%26sprefix%3Dultr%252Caps%252C238%26sr%3D8-22-spons%26psc%3D1&qualifier=1610183723&id=887069314577220&widgetName=sp_btf')\n"
     ]
    }
   ],
   "source": [
    "main('urltrawide monitor')"
   ]
  },
  {
   "cell_type": "code",
   "execution_count": null,
   "metadata": {},
   "outputs": [],
   "source": []
  }
 ],
 "metadata": {
  "kernelspec": {
   "display_name": "Environment (conda_tf_gpu15)",
   "language": "python",
   "name": "conda_tf_gpu15"
  },
  "language_info": {
   "codemirror_mode": {
    "name": "ipython",
    "version": 3
   },
   "file_extension": ".py",
   "mimetype": "text/x-python",
   "name": "python",
   "nbconvert_exporter": "python",
   "pygments_lexer": "ipython3",
   "version": "3.7.9"
  }
 },
 "nbformat": 4,
 "nbformat_minor": 4
}
