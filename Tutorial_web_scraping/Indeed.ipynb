{
 "cells": [
  {
   "cell_type": "markdown",
   "metadata": {},
   "source": [
    "### Indeed"
   ]
  },
  {
   "cell_type": "code",
   "execution_count": null,
   "metadata": {},
   "outputs": [],
   "source": [
    "import csv\n",
    "import datetime\n",
    "import requests\n",
    "from bs4 import BeautifulSoup\n"
   ]
  },
  {
   "cell_type": "code",
   "execution_count": null,
   "metadata": {},
   "outputs": [],
   "source": [
    "template = 'https://ca.indeed.com/jobs?q={}&l={}'"
   ]
  },
  {
   "cell_type": "code",
   "execution_count": null,
   "metadata": {},
   "outputs": [],
   "source": [
    "def get_url(position,location):\n",
    "    '''Generate a url from position and location'''\n",
    "    template = 'https://ca.indeed.com/jobs?q={}&l={}'\n",
    "    url = template.format(position,location)\n",
    "    return url"
   ]
  },
  {
   "cell_type": "code",
   "execution_count": null,
   "metadata": {},
   "outputs": [],
   "source": [
    "url = get_url('data scientist','vancouver bc')\n",
    "url"
   ]
  },
  {
   "cell_type": "markdown",
   "metadata": {},
   "source": [
    "### Extract raw html"
   ]
  },
  {
   "cell_type": "code",
   "execution_count": null,
   "metadata": {},
   "outputs": [],
   "source": [
    "response = requests.get(url)\n",
    "response.reason"
   ]
  },
  {
   "cell_type": "code",
   "execution_count": null,
   "metadata": {},
   "outputs": [],
   "source": [
    "soup = BeautifulSoup(response.text,'html.parser')\n",
    "# soup"
   ]
  },
  {
   "cell_type": "code",
   "execution_count": null,
   "metadata": {},
   "outputs": [],
   "source": [
    "cards= soup.find_all('div','jobsearch-SerpJobCard')\n",
    "len(cards)"
   ]
  },
  {
   "cell_type": "markdown",
   "metadata": {},
   "source": [
    "### Prototype the model with a single record"
   ]
  },
  {
   "cell_type": "code",
   "execution_count": null,
   "metadata": {},
   "outputs": [],
   "source": [
    "card = cards[3]\n",
    "# card"
   ]
  },
  {
   "cell_type": "code",
   "execution_count": null,
   "metadata": {},
   "outputs": [],
   "source": [
    "atag = card.h2.a\n",
    "atag['title']"
   ]
  },
  {
   "cell_type": "code",
   "execution_count": null,
   "metadata": {},
   "outputs": [],
   "source": [
    "job_title=atag.get('title')\n",
    "job_title"
   ]
  },
  {
   "cell_type": "code",
   "execution_count": null,
   "metadata": {},
   "outputs": [],
   "source": [
    "job_url = 'https://ca.indeed.com'+atag.get('href')"
   ]
  },
  {
   "cell_type": "code",
   "execution_count": null,
   "metadata": {},
   "outputs": [],
   "source": [
    "company =card.find('span','company').text.strip()\n",
    "company"
   ]
  },
  {
   "cell_type": "code",
   "execution_count": null,
   "metadata": {},
   "outputs": [],
   "source": [
    "job_location =card.find('div','recJobLoc').get('data-rc-loc')"
   ]
  },
  {
   "cell_type": "code",
   "execution_count": null,
   "metadata": {},
   "outputs": [],
   "source": [
    "job_summary =card.find('div','summary').text.strip()"
   ]
  },
  {
   "cell_type": "code",
   "execution_count": null,
   "metadata": {},
   "outputs": [],
   "source": [
    "post_date =card.find('span','date').text"
   ]
  },
  {
   "cell_type": "code",
   "execution_count": null,
   "metadata": {},
   "outputs": [],
   "source": [
    "today = datetime.datetime.today().strftime('%Y-%m-%d')\n",
    "today"
   ]
  },
  {
   "cell_type": "code",
   "execution_count": null,
   "metadata": {},
   "outputs": [],
   "source": [
    "try:\n",
    "    job_salary=card.find('span','salaryText').text.strip()\n",
    "except AttributeError:\n",
    "    job_salary =''\n",
    "job_salary"
   ]
  },
  {
   "cell_type": "markdown",
   "metadata": {},
   "source": [
    "### Generalize the model with a function\n"
   ]
  },
  {
   "cell_type": "code",
   "execution_count": null,
   "metadata": {},
   "outputs": [],
   "source": [
    "def get_record(card):\n",
    "    '''Extract job data from a single record'''\n",
    "    atag = card.h2.a\n",
    "    job_title=atag.get('title')\n",
    "    job_url = 'https://ca.indeed.com'+atag.get('href')    \n",
    "    company =card.find('span','company').text.strip()\n",
    "    job_location =card.find('div','recJobLoc').get('data-rc-loc')    \n",
    "    job_summary =card.find('div','summary').text.strip()   \n",
    "    post_date =card.find('span','date').text    \n",
    "    today = datetime.datetime.today().strftime('%Y-%m-%d')\n",
    "    try:\n",
    "        job_salary=card.find('span','salaryText').text.strip()\n",
    "    except AttributeError:\n",
    "        job_salary =''\n",
    "        \n",
    "        \n",
    "    record = (job_title,company,job_location,post_date,today,job_summary,job_salary,job_url)\n",
    "    return record"
   ]
  },
  {
   "cell_type": "code",
   "execution_count": null,
   "metadata": {},
   "outputs": [],
   "source": [
    "records =[]\n",
    "for card in cards:\n",
    "    record = get_record(card)\n",
    "    records.append(record)"
   ]
  },
  {
   "cell_type": "code",
   "execution_count": null,
   "metadata": {},
   "outputs": [],
   "source": [
    "records[0]"
   ]
  },
  {
   "cell_type": "markdown",
   "metadata": {},
   "source": [
    "### Getting the next page"
   ]
  },
  {
   "cell_type": "code",
   "execution_count": null,
   "metadata": {},
   "outputs": [],
   "source": [
    "while True:\n",
    "    try:\n",
    "        url = 'https://www.indeed.com'+soup.find('a',{'aria-label':'Next'}).get('href')\n",
    "    except AttributeError:\n",
    "        break\n",
    "        \n",
    "    response = requests.get(url)\n",
    "    soup = BeautifulSoup(response.text,'html.parser')\n",
    "    cards= soup.find_all('div','jobsearch-SerpJobCard')\n",
    "    \n",
    "    for card in cards:\n",
    "        record=get_record(card)\n",
    "        records.append(record)\n",
    "        "
   ]
  },
  {
   "cell_type": "code",
   "execution_count": null,
   "metadata": {},
   "outputs": [],
   "source": [
    "# records"
   ]
  },
  {
   "cell_type": "markdown",
   "metadata": {},
   "source": [
    "### Putting all together"
   ]
  },
  {
   "cell_type": "code",
   "execution_count": 118,
   "metadata": {},
   "outputs": [],
   "source": [
    "import csv\n",
    "import datetime\n",
    "import requests\n",
    "from bs4 import BeautifulSoup\n",
    "\n",
    "def get_url(position,location_city,location_state):\n",
    "    '''Generate a url from position and location'''\n",
    "    template = 'https://ca.indeed.com/jobs?q={}&l={}%2C+{}'\n",
    "    url = template.format(position,location_city,location_state)\n",
    "    return url\n",
    "\n",
    "def get_record(card):\n",
    "    '''Extract job data from a single record'''\n",
    "    atag = card.h2.a\n",
    "    job_title=atag.get('title')\n",
    "    job_url = 'https://ca.indeed.com'+atag.get('href')    \n",
    "    company =card.find('span','company').text.strip()\n",
    "    job_location =card.find('div','recJobLoc').get('data-rc-loc')    \n",
    "    job_summary =card.find('div','summary').text.strip()   \n",
    "    post_date =card.find('span','date').text    \n",
    "    today = datetime.datetime.today().strftime('%Y-%m-%d')\n",
    "    try:\n",
    "        job_salary=card.find('span','salaryText').text.strip()\n",
    "    except AttributeError:\n",
    "        job_salary =''\n",
    "        \n",
    "        \n",
    "    record = (job_title,company,job_location,post_date,today,job_summary,job_salary,job_url)\n",
    "    return record\n",
    "\n",
    "def main(position,location_city,location_state):\n",
    "    '''Run the main program routine'''\n",
    "    records = []\n",
    "    url = get_url(position,location_city,location_state)\n",
    "    i = 0\n",
    "    while True:\n",
    "        response = requests.get(url)\n",
    "        soup = BeautifulSoup(response.text,'html.parser')\n",
    "        cards= soup.find_all('div','jobsearch-SerpJobCard')\n",
    "        for card in cards:\n",
    "            record = get_record(card)\n",
    "            records.append(record)\n",
    "            \n",
    "        try:\n",
    "            url = 'https://ca.indeed.com'+soup.find('a',{'aria-label':'Next'}).get('href')\n",
    "        except AttributeError:\n",
    "            break\n",
    "        \n",
    "        print(i, url)\n",
    "        i += 1\n",
    "    with open('results_indeed.csv','w',newline='',encoding='utf-8') as f:\n",
    "        writer = csv.writer(f)\n",
    "        writer.writerow(['JobTile','Company','Location','PostDate','ExtractDate','Summary','Salary','JobURL'])\n",
    "        writer.writerows(records)"
   ]
  },
  {
   "cell_type": "code",
   "execution_count": 119,
   "metadata": {},
   "outputs": [
    {
     "name": "stdout",
     "output_type": "stream",
     "text": [
      "0 https://ca.indeed.com/jobs?q=data+scientist&l=vancouver%2C+BC&start=10\n",
      "1 https://ca.indeed.com/jobs?q=data+scientist&l=vancouver%2C+BC&start=20\n",
      "2 https://ca.indeed.com/jobs?q=data+scientist&l=vancouver%2C+BC&start=30\n",
      "3 https://ca.indeed.com/jobs?q=data+scientist&l=vancouver%2C+BC&start=40\n",
      "4 https://ca.indeed.com/jobs?q=data+scientist&l=vancouver%2C+BC&start=50\n"
     ]
    }
   ],
   "source": [
    "main('data scientist','vancouver','BC')"
   ]
  },
  {
   "cell_type": "code",
   "execution_count": null,
   "metadata": {},
   "outputs": [],
   "source": []
  }
 ],
 "metadata": {
  "kernelspec": {
   "display_name": "Environment (conda_tf_gpu15)",
   "language": "python",
   "name": "conda_tf_gpu15"
  },
  "language_info": {
   "codemirror_mode": {
    "name": "ipython",
    "version": 3
   },
   "file_extension": ".py",
   "mimetype": "text/x-python",
   "name": "python",
   "nbconvert_exporter": "python",
   "pygments_lexer": "ipython3",
   "version": "3.7.9"
  }
 },
 "nbformat": 4,
 "nbformat_minor": 4
}
